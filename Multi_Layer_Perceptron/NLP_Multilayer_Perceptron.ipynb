{
  "nbformat": 4,
  "nbformat_minor": 0,
  "metadata": {
    "colab": {
      "provenance": []
    },
    "kernelspec": {
      "name": "python3",
      "display_name": "Python 3"
    },
    "language_info": {
      "name": "python"
    },
    "accelerator": "GPU",
    "gpuClass": "standard"
  },
  "cells": [
    {
      "cell_type": "markdown",
      "source": [
        "Loading Training data.\n",
        "\n",
        "---\n",
        "\n",
        "\n",
        "Removing few special characters."
      ],
      "metadata": {
        "id": "hjznLIIkXNIn"
      }
    },
    {
      "cell_type": "code",
      "source": [
        "import numpy as np\n",
        "import pandas as pd\n",
        "import os\n",
        "data = []\n",
        "target = []\n",
        "f = open(\"/content/drive/MyDrive/dataset/nlp_train_dataset.txt\", \"r\")\n",
        "rowtext = []\n",
        "rowtarget = []\n",
        "for line in f:\n",
        "  if line == \"\\n\":\n",
        "    data.append(rowtext)\n",
        "    target.append(rowtarget)\n",
        "    rowtext = []\n",
        "    rowtarget = []\n",
        "  else:\n",
        "    s=line.split()\n",
        "    if s[0]!=\".\" and s[0]!=\",\":\n",
        "      rowtext.append(s[0])\n",
        "    if s[1]!=\".\" and s[1]!=\",\":\n",
        "      rowtarget.append(s[1])\n",
        "print(data[0])"
      ],
      "metadata": {
        "colab": {
          "base_uri": "https://localhost:8080/"
        },
        "id": "I7_3fHWySESh",
        "outputId": "53e33177-10b0-48d6-a647-8c0f1456c54a"
      },
      "execution_count": null,
      "outputs": [
        {
          "output_type": "stream",
          "name": "stdout",
          "text": [
            "['Confidence', 'in', 'the', 'pound', 'is', 'widely', 'expected', 'to', 'take', 'another', 'sharp', 'dive', 'if', 'trade', 'figures', 'for', 'September', 'due', 'for', 'release', 'tomorrow', 'fail', 'to', 'show', 'a', 'substantial', 'improvement', 'from', 'July', 'and', 'August', \"'s\", 'near-record', 'deficits']\n"
          ]
        }
      ]
    },
    {
      "cell_type": "code",
      "source": [
        "df = pd.DataFrame(columns=[\"text\",\"target\"])\n",
        "df[\"text\"] = data\n",
        "df[\"target\"] = target"
      ],
      "metadata": {
        "id": "b_RDgsxZZbN9"
      },
      "execution_count": null,
      "outputs": []
    },
    {
      "cell_type": "code",
      "source": [
        "df.head()"
      ],
      "metadata": {
        "colab": {
          "base_uri": "https://localhost:8080/",
          "height": 206
        },
        "id": "vc0IgbcwYFL1",
        "outputId": "bcd0fa2e-57cb-4bd2-c984-704434a4aab1"
      },
      "execution_count": null,
      "outputs": [
        {
          "output_type": "execute_result",
          "data": {
            "text/plain": [
              "                                                text  \\\n",
              "0  [Confidence, in, the, pound, is, widely, expec...   \n",
              "1  [Chancellor, of, the, Exchequer, Nigel, Lawson...   \n",
              "2  [But, analysts, reckon, underlying, support, f...   \n",
              "3  [This, has, increased, the, risk, of, the, gov...   \n",
              "4  [``, The, risks, for, sterling, of, a, bad, tr...   \n",
              "\n",
              "                                              target  \n",
              "0  [NN, IN, DT, NN, VBZ, RB, VBN, TO, VB, DT, JJ,...  \n",
              "1  [NNP, IN, DT, NNP, NNP, NNP, POS, VBN, NN, TO,...  \n",
              "2  [CC, NNS, VBP, VBG, NN, IN, NN, VBZ, VBN, VBN,...  \n",
              "3  [DT, VBZ, VBN, DT, NN, IN, DT, NN, VBG, VBN, T...  \n",
              "4  [``, DT, NNS, IN, NN, IN, DT, JJ, NN, NN, VBP,...  "
            ],
            "text/html": [
              "\n",
              "  <div id=\"df-4d64bef9-1d65-4a17-8a2d-9890605e980d\">\n",
              "    <div class=\"colab-df-container\">\n",
              "      <div>\n",
              "<style scoped>\n",
              "    .dataframe tbody tr th:only-of-type {\n",
              "        vertical-align: middle;\n",
              "    }\n",
              "\n",
              "    .dataframe tbody tr th {\n",
              "        vertical-align: top;\n",
              "    }\n",
              "\n",
              "    .dataframe thead th {\n",
              "        text-align: right;\n",
              "    }\n",
              "</style>\n",
              "<table border=\"1\" class=\"dataframe\">\n",
              "  <thead>\n",
              "    <tr style=\"text-align: right;\">\n",
              "      <th></th>\n",
              "      <th>text</th>\n",
              "      <th>target</th>\n",
              "    </tr>\n",
              "  </thead>\n",
              "  <tbody>\n",
              "    <tr>\n",
              "      <th>0</th>\n",
              "      <td>[Confidence, in, the, pound, is, widely, expec...</td>\n",
              "      <td>[NN, IN, DT, NN, VBZ, RB, VBN, TO, VB, DT, JJ,...</td>\n",
              "    </tr>\n",
              "    <tr>\n",
              "      <th>1</th>\n",
              "      <td>[Chancellor, of, the, Exchequer, Nigel, Lawson...</td>\n",
              "      <td>[NNP, IN, DT, NNP, NNP, NNP, POS, VBN, NN, TO,...</td>\n",
              "    </tr>\n",
              "    <tr>\n",
              "      <th>2</th>\n",
              "      <td>[But, analysts, reckon, underlying, support, f...</td>\n",
              "      <td>[CC, NNS, VBP, VBG, NN, IN, NN, VBZ, VBN, VBN,...</td>\n",
              "    </tr>\n",
              "    <tr>\n",
              "      <th>3</th>\n",
              "      <td>[This, has, increased, the, risk, of, the, gov...</td>\n",
              "      <td>[DT, VBZ, VBN, DT, NN, IN, DT, NN, VBG, VBN, T...</td>\n",
              "    </tr>\n",
              "    <tr>\n",
              "      <th>4</th>\n",
              "      <td>[``, The, risks, for, sterling, of, a, bad, tr...</td>\n",
              "      <td>[``, DT, NNS, IN, NN, IN, DT, JJ, NN, NN, VBP,...</td>\n",
              "    </tr>\n",
              "  </tbody>\n",
              "</table>\n",
              "</div>\n",
              "      <button class=\"colab-df-convert\" onclick=\"convertToInteractive('df-4d64bef9-1d65-4a17-8a2d-9890605e980d')\"\n",
              "              title=\"Convert this dataframe to an interactive table.\"\n",
              "              style=\"display:none;\">\n",
              "        \n",
              "  <svg xmlns=\"http://www.w3.org/2000/svg\" height=\"24px\"viewBox=\"0 0 24 24\"\n",
              "       width=\"24px\">\n",
              "    <path d=\"M0 0h24v24H0V0z\" fill=\"none\"/>\n",
              "    <path d=\"M18.56 5.44l.94 2.06.94-2.06 2.06-.94-2.06-.94-.94-2.06-.94 2.06-2.06.94zm-11 1L8.5 8.5l.94-2.06 2.06-.94-2.06-.94L8.5 2.5l-.94 2.06-2.06.94zm10 10l.94 2.06.94-2.06 2.06-.94-2.06-.94-.94-2.06-.94 2.06-2.06.94z\"/><path d=\"M17.41 7.96l-1.37-1.37c-.4-.4-.92-.59-1.43-.59-.52 0-1.04.2-1.43.59L10.3 9.45l-7.72 7.72c-.78.78-.78 2.05 0 2.83L4 21.41c.39.39.9.59 1.41.59.51 0 1.02-.2 1.41-.59l7.78-7.78 2.81-2.81c.8-.78.8-2.07 0-2.86zM5.41 20L4 18.59l7.72-7.72 1.47 1.35L5.41 20z\"/>\n",
              "  </svg>\n",
              "      </button>\n",
              "      \n",
              "  <style>\n",
              "    .colab-df-container {\n",
              "      display:flex;\n",
              "      flex-wrap:wrap;\n",
              "      gap: 12px;\n",
              "    }\n",
              "\n",
              "    .colab-df-convert {\n",
              "      background-color: #E8F0FE;\n",
              "      border: none;\n",
              "      border-radius: 50%;\n",
              "      cursor: pointer;\n",
              "      display: none;\n",
              "      fill: #1967D2;\n",
              "      height: 32px;\n",
              "      padding: 0 0 0 0;\n",
              "      width: 32px;\n",
              "    }\n",
              "\n",
              "    .colab-df-convert:hover {\n",
              "      background-color: #E2EBFA;\n",
              "      box-shadow: 0px 1px 2px rgba(60, 64, 67, 0.3), 0px 1px 3px 1px rgba(60, 64, 67, 0.15);\n",
              "      fill: #174EA6;\n",
              "    }\n",
              "\n",
              "    [theme=dark] .colab-df-convert {\n",
              "      background-color: #3B4455;\n",
              "      fill: #D2E3FC;\n",
              "    }\n",
              "\n",
              "    [theme=dark] .colab-df-convert:hover {\n",
              "      background-color: #434B5C;\n",
              "      box-shadow: 0px 1px 3px 1px rgba(0, 0, 0, 0.15);\n",
              "      filter: drop-shadow(0px 1px 2px rgba(0, 0, 0, 0.3));\n",
              "      fill: #FFFFFF;\n",
              "    }\n",
              "  </style>\n",
              "\n",
              "      <script>\n",
              "        const buttonEl =\n",
              "          document.querySelector('#df-4d64bef9-1d65-4a17-8a2d-9890605e980d button.colab-df-convert');\n",
              "        buttonEl.style.display =\n",
              "          google.colab.kernel.accessAllowed ? 'block' : 'none';\n",
              "\n",
              "        async function convertToInteractive(key) {\n",
              "          const element = document.querySelector('#df-4d64bef9-1d65-4a17-8a2d-9890605e980d');\n",
              "          const dataTable =\n",
              "            await google.colab.kernel.invokeFunction('convertToInteractive',\n",
              "                                                     [key], {});\n",
              "          if (!dataTable) return;\n",
              "\n",
              "          const docLinkHtml = 'Like what you see? Visit the ' +\n",
              "            '<a target=\"_blank\" href=https://colab.research.google.com/notebooks/data_table.ipynb>data table notebook</a>'\n",
              "            + ' to learn more about interactive tables.';\n",
              "          element.innerHTML = '';\n",
              "          dataTable['output_type'] = 'display_data';\n",
              "          await google.colab.output.renderOutput(dataTable, element);\n",
              "          const docLink = document.createElement('div');\n",
              "          docLink.innerHTML = docLinkHtml;\n",
              "          element.appendChild(docLink);\n",
              "        }\n",
              "      </script>\n",
              "    </div>\n",
              "  </div>\n",
              "  "
            ]
          },
          "metadata": {},
          "execution_count": 93
        }
      ]
    },
    {
      "cell_type": "code",
      "source": [
        "print(len(df[\"text\"][0]))\n",
        "print(len(df[\"target\"][0]))"
      ],
      "metadata": {
        "colab": {
          "base_uri": "https://localhost:8080/"
        },
        "id": "iuP1eWhvgGVB",
        "outputId": "c89d064e-001d-4d34-84b8-48bee0a61628"
      },
      "execution_count": null,
      "outputs": [
        {
          "output_type": "stream",
          "name": "stdout",
          "text": [
            "34\n",
            "34\n"
          ]
        }
      ]
    },
    {
      "cell_type": "code",
      "source": [
        "for i in range(len(df[\"text\"].head(1)[0])):\n",
        "  print(df[\"text\"].head(1)[0][i] + \"||\"+ df[\"target\"].head(1)[0][i])"
      ],
      "metadata": {
        "colab": {
          "base_uri": "https://localhost:8080/"
        },
        "id": "E8RI2oH3Tctl",
        "outputId": "da9e3e62-01f3-4cec-9140-2fed5d822827"
      },
      "execution_count": null,
      "outputs": [
        {
          "output_type": "stream",
          "name": "stdout",
          "text": [
            "Confidence||NN\n",
            "in||IN\n",
            "the||DT\n",
            "pound||NN\n",
            "is||VBZ\n",
            "widely||RB\n",
            "expected||VBN\n",
            "to||TO\n",
            "take||VB\n",
            "another||DT\n",
            "sharp||JJ\n",
            "dive||NN\n",
            "if||IN\n",
            "trade||NN\n",
            "figures||NNS\n",
            "for||IN\n",
            "September||NNP\n",
            "due||JJ\n",
            "for||IN\n",
            "release||NN\n",
            "tomorrow||NN\n",
            "fail||VB\n",
            "to||TO\n",
            "show||VB\n",
            "a||DT\n",
            "substantial||JJ\n",
            "improvement||NN\n",
            "from||IN\n",
            "July||NNP\n",
            "and||CC\n",
            "August||NNP\n",
            "'s||POS\n",
            "near-record||JJ\n",
            "deficits||NNS\n"
          ]
        }
      ]
    },
    {
      "cell_type": "code",
      "source": [
        "import gensim\n",
        "w2v_model = gensim.models.Word2Vec(df[\"text\"], size=100, window=5, min_count=1, workers=4)\n",
        "\n",
        "X = np.zeros((len(df[\"text\"]), 100))\n",
        "for i, sentence in enumerate(df[\"text\"]):\n",
        "    for word in sentence:\n",
        "        X[i] += w2v_model.wv[word]\n",
        "    X[i] /= len(sentence)"
      ],
      "metadata": {
        "id": "V5Mk4RUas-vq"
      },
      "execution_count": null,
      "outputs": []
    },
    {
      "cell_type": "markdown",
      "source": [
        "Creating dictionary of Features"
      ],
      "metadata": {
        "id": "axHNxB_6Xx2v"
      }
    },
    {
      "cell_type": "code",
      "source": [
        "unique_targets = []\n",
        "for i in target:\n",
        "  for j in i:\n",
        "    if j not in unique_targets:\n",
        "      unique_targets.append(j)"
      ],
      "metadata": {
        "id": "1ZoiY6KivZ-2"
      },
      "execution_count": null,
      "outputs": []
    },
    {
      "cell_type": "code",
      "source": [
        "print(unique_targets)"
      ],
      "metadata": {
        "colab": {
          "base_uri": "https://localhost:8080/"
        },
        "id": "9lp_345CvtAi",
        "outputId": "125b2f8f-9db1-4e75-9fa5-bd0946af9ad0"
      },
      "execution_count": null,
      "outputs": [
        {
          "output_type": "stream",
          "name": "stdout",
          "text": [
            "['NN', 'IN', 'DT', 'VBZ', 'RB', 'VBN', 'TO', 'VB', 'JJ', 'NNS', 'NNP', 'CC', 'POS', 'VBP', 'VBG', 'PRP$', 'CD', '``', \"''\", 'VBD', 'EX', 'MD', '#', '(', '$', ')', 'NNPS', 'PRP', 'JJS', 'WP', 'RBR', 'JJR', 'WDT', 'WRB', 'RBS', 'PDT', 'RP', ':', 'FW', 'WP$', 'SYM', 'UH']\n"
          ]
        }
      ]
    },
    {
      "cell_type": "code",
      "source": [
        "tag_to_id = {}\n",
        "k = 0\n",
        "for i in unique_targets:\n",
        "  tag_to_id[i] = k\n",
        "  k+=1\n",
        "print(tag_to_id)"
      ],
      "metadata": {
        "colab": {
          "base_uri": "https://localhost:8080/"
        },
        "id": "2V09sho6vMcD",
        "outputId": "4552b743-ae72-4611-9e06-024ab3b3c6c6"
      },
      "execution_count": null,
      "outputs": [
        {
          "output_type": "stream",
          "name": "stdout",
          "text": [
            "{'NN': 0, 'IN': 1, 'DT': 2, 'VBZ': 3, 'RB': 4, 'VBN': 5, 'TO': 6, 'VB': 7, 'JJ': 8, 'NNS': 9, 'NNP': 10, 'CC': 11, 'POS': 12, 'VBP': 13, 'VBG': 14, 'PRP$': 15, 'CD': 16, '``': 17, \"''\": 18, 'VBD': 19, 'EX': 20, 'MD': 21, '#': 22, '(': 23, '$': 24, ')': 25, 'NNPS': 26, 'PRP': 27, 'JJS': 28, 'WP': 29, 'RBR': 30, 'JJR': 31, 'WDT': 32, 'WRB': 33, 'RBS': 34, 'PDT': 35, 'RP': 36, ':': 37, 'FW': 38, 'WP$': 39, 'SYM': 40, 'UH': 41}\n"
          ]
        }
      ]
    },
    {
      "cell_type": "code",
      "source": [
        "y = np.zeros((len(df[\"target\"]), len(tag_to_id)))\n",
        "for i, pos_tag in enumerate(df[\"target\"]):\n",
        "    for tag in pos_tag:\n",
        "        y[i, tag_to_id[tag]] = 1"
      ],
      "metadata": {
        "id": "Rrcx_Y_vwTG3"
      },
      "execution_count": null,
      "outputs": []
    },
    {
      "cell_type": "code",
      "source": [
        "maxlength = 0\n",
        "for i in df[\"text\"]:\n",
        "  if len(i)>maxlength:\n",
        "    maxlength = len(i)\n",
        "print(maxlength)"
      ],
      "metadata": {
        "colab": {
          "base_uri": "https://localhost:8080/"
        },
        "id": "Ml4yx1_La5-C",
        "outputId": "b1d8e4fb-290d-46dd-8ed1-24c84929c2c7"
      },
      "execution_count": null,
      "outputs": [
        {
          "output_type": "stream",
          "name": "stdout",
          "text": [
            "73\n"
          ]
        }
      ]
    },
    {
      "cell_type": "code",
      "source": [
        "from tensorflow.keras.preprocessing.sequence import pad_sequences"
      ],
      "metadata": {
        "id": "JMLUMefeflOs"
      },
      "execution_count": null,
      "outputs": []
    },
    {
      "cell_type": "markdown",
      "source": [
        "Padding\n",
        "\n",
        "---\n",
        "\n",
        "\n",
        "Training and Testing data split"
      ],
      "metadata": {
        "id": "8GlZFG_hX6wL"
      }
    },
    {
      "cell_type": "code",
      "source": [
        "X_padded = pad_sequences(X, maxlen=maxlength, padding=\"post\", truncating=\"post\")\n",
        "Y_padded = pad_sequences(y, maxlen=maxlength, padding=\"post\", truncating=\"post\")"
      ],
      "metadata": {
        "id": "6coBWERPaSY_"
      },
      "execution_count": null,
      "outputs": []
    },
    {
      "cell_type": "code",
      "source": [
        "from sklearn.model_selection import train_test_split\n",
        "x_train, x_test, y_train, y_test = train_test_split(X_padded,Y_padded,test_size=0.3, random_state=0, shuffle=True)"
      ],
      "metadata": {
        "id": "cYjEnxh7hYy9"
      },
      "execution_count": null,
      "outputs": []
    },
    {
      "cell_type": "markdown",
      "source": [
        "RNN Model"
      ],
      "metadata": {
        "id": "3nWLGl4b7TIK"
      }
    },
    {
      "cell_type": "code",
      "source": [
        "GLOVE_DIR = \"/content/drive/MyDrive/dataset/glove.6B.300d.txt\"  # path to pre-trained GloVe embeddings\n",
        "EMBEDDING_DIM = 300\n",
        "\n",
        "embeddings_index = {}\n",
        "with open(GLOVE_DIR) as f:\n",
        "    for line in f:\n",
        "        values = line.split()\n",
        "        word = values[0]\n",
        "        coefs = np.asarray(values[1:], dtype=\"float32\")\n",
        "        embeddings_index[word] = coefs"
      ],
      "metadata": {
        "id": "oH-mzXR9Ws2j"
      },
      "execution_count": null,
      "outputs": []
    },
    {
      "cell_type": "code",
      "source": [
        "from tensorflow.keras.preprocessing.text import Tokenizer\n",
        "MAX_NB_WORDS = 5000\n",
        "MAX_SEQUENCE_LENGTH = 100\n",
        "VALIDATION_SPLIT = 0.2\n",
        "tokenizer = Tokenizer(num_words=MAX_NB_WORDS)\n",
        "tokenizer.fit_on_texts(df[\"text\"])\n",
        "sequences = tokenizer.texts_to_sequences(df[\"text\"])\n",
        "\n",
        "word_index = tokenizer.word_index\n",
        "\n",
        "tag_tokenizer = Tokenizer()\n",
        "tag_tokenizer.fit_on_texts(df[\"target\"])\n",
        "Y_encoded = tag_tokenizer.texts_to_sequences(df[\"target\"])\n",
        "\n",
        "\n",
        "\n",
        "X_padded = pad_sequences(sequences, maxlen=MAX_SEQUENCE_LENGTH, padding=\"post\")\n",
        "Y_padded = pad_sequences(Y_encoded, maxlen=MAX_SEQUENCE_LENGTH, padding=\"post\")\n"
      ],
      "metadata": {
        "id": "CKHWyBHsYeOX"
      },
      "execution_count": null,
      "outputs": []
    },
    {
      "cell_type": "code",
      "source": [
        "embedding_matrix = np.zeros((len(word_index) + 1, EMBEDDING_DIM))\n",
        "for word, i in word_index.items():\n",
        "    embedding_vector = embeddings_index.get(word)\n",
        "    if embedding_vector is not None:\n",
        "        embedding_matrix[i] = embedding_vector"
      ],
      "metadata": {
        "id": "czyzyTltYW4C"
      },
      "execution_count": null,
      "outputs": []
    },
    {
      "cell_type": "code",
      "source": [
        "print(\"Embeddings shape: {}\".format(embedding_matrix.shape))"
      ],
      "metadata": {
        "colab": {
          "base_uri": "https://localhost:8080/"
        },
        "id": "EqK0bFKqwHTF",
        "outputId": "20880340-1c52-47da-ed5f-225db356cd68"
      },
      "execution_count": null,
      "outputs": [
        {
          "output_type": "stream",
          "name": "stdout",
          "text": [
            "Embeddings shape: (17257, 300)\n"
          ]
        }
      ]
    },
    {
      "cell_type": "code",
      "source": [
        "from keras.utils.np_utils import to_categorical\n",
        "Y = to_categorical(Y_padded)"
      ],
      "metadata": {
        "id": "l5_Fkm1ptEFa"
      },
      "execution_count": null,
      "outputs": []
    },
    {
      "cell_type": "code",
      "source": [
        "np.shape(Y)"
      ],
      "metadata": {
        "colab": {
          "base_uri": "https://localhost:8080/"
        },
        "id": "40GcrPiiuzc3",
        "outputId": "e0b30807-8b81-49f7-9176-413b19d2526b"
      },
      "execution_count": null,
      "outputs": [
        {
          "output_type": "execute_result",
          "data": {
            "text/plain": [
              "(8936, 100, 43)"
            ]
          },
          "metadata": {},
          "execution_count": 110
        }
      ]
    },
    {
      "cell_type": "code",
      "source": [
        "NUM_CLASSES = Y.shape[2]\n",
        "from sklearn.model_selection import train_test_split\n",
        "x_train, x_test, y_train, y_test = train_test_split(X_padded,Y,test_size=0.2, random_state=0, shuffle=True)"
      ],
      "metadata": {
        "id": "frGaUfZtwip8"
      },
      "execution_count": null,
      "outputs": []
    },
    {
      "cell_type": "code",
      "source": [
        "print(\"TRAINING DATA\")\n",
        "print('Shape of input sequences: {}'.format(x_train.shape))\n",
        "print('Shape of output sequences: {}'.format(y_train.shape))\n",
        "print(\"TESTING DATA\")\n",
        "print('Shape of input sequences: {}'.format(x_test.shape))\n",
        "print('Shape of output sequences: {}'.format(y_test.shape))"
      ],
      "metadata": {
        "colab": {
          "base_uri": "https://localhost:8080/"
        },
        "id": "2ehN-qzVsQX0",
        "outputId": "ee7f355f-ee50-4d48-d29c-5c2bbb2b1ee5"
      },
      "execution_count": null,
      "outputs": [
        {
          "output_type": "stream",
          "name": "stdout",
          "text": [
            "TRAINING DATA\n",
            "Shape of input sequences: (7148, 100)\n",
            "Shape of output sequences: (7148, 100, 43)\n",
            "TESTING DATA\n",
            "Shape of input sequences: (1788, 100)\n",
            "Shape of output sequences: (1788, 100, 43)\n"
          ]
        }
      ]
    },
    {
      "cell_type": "code",
      "source": [
        "from tensorflow.keras.layers import Embedding, LSTM, Dense, Flatten, SimpleRNN, TimeDistributed, RNN, GRU, Bidirectional\n",
        "from tensorflow.keras.models import Sequential\n",
        "rnn_model = Sequential()\n",
        "rnn_model.add(Embedding(len(word_index) + 1, EMBEDDING_DIM, weights=[embedding_matrix], trainable=False))\n",
        "rnn_model.add(SimpleRNN(64, return_sequences=True))\n",
        "rnn_model.add(TimeDistributed(Dense(NUM_CLASSES, activation=\"softmax\")))\n",
        "rnn_model.compile(loss=\"categorical_crossentropy\", optimizer=\"adam\", metrics=[\"accuracy\"])\n",
        "print(rnn_model.summary())"
      ],
      "metadata": {
        "colab": {
          "base_uri": "https://localhost:8080/"
        },
        "id": "ELk6wYM2Z14g",
        "outputId": "64cdfd3c-eb9c-41b6-829e-8ccd2c7f1611"
      },
      "execution_count": null,
      "outputs": [
        {
          "output_type": "stream",
          "name": "stdout",
          "text": [
            "Model: \"sequential_4\"\n",
            "_________________________________________________________________\n",
            " Layer (type)                Output Shape              Param #   \n",
            "=================================================================\n",
            " embedding_4 (Embedding)     (None, None, 300)         5177100   \n",
            "                                                                 \n",
            " simple_rnn_1 (SimpleRNN)    (None, None, 64)          23360     \n",
            "                                                                 \n",
            " time_distributed_4 (TimeDis  (None, None, 43)         2795      \n",
            " tributed)                                                       \n",
            "                                                                 \n",
            "=================================================================\n",
            "Total params: 5,203,255\n",
            "Trainable params: 26,155\n",
            "Non-trainable params: 5,177,100\n",
            "_________________________________________________________________\n",
            "None\n"
          ]
        }
      ]
    },
    {
      "cell_type": "code",
      "source": [
        "history = rnn_model.fit(x_train, y_train, validation_split=0.2, epochs=30, batch_size=128)"
      ],
      "metadata": {
        "colab": {
          "base_uri": "https://localhost:8080/"
        },
        "id": "2QzjJ7tiZ-y4",
        "outputId": "50ea562a-38f8-4c93-84ca-73890c122c3b"
      },
      "execution_count": null,
      "outputs": [
        {
          "output_type": "stream",
          "name": "stdout",
          "text": [
            "Epoch 1/30\n",
            "45/45 [==============================] - 6s 95ms/step - loss: 1.7404 - accuracy: 0.6843 - val_loss: 0.6870 - val_accuracy: 0.8274\n",
            "Epoch 2/30\n",
            "45/45 [==============================] - 4s 96ms/step - loss: 0.6432 - accuracy: 0.8336 - val_loss: 0.6145 - val_accuracy: 0.8370\n",
            "Epoch 3/30\n",
            "45/45 [==============================] - 6s 141ms/step - loss: 0.5920 - accuracy: 0.8425 - val_loss: 0.5793 - val_accuracy: 0.8441\n",
            "Epoch 4/30\n",
            "45/45 [==============================] - 4s 96ms/step - loss: 0.5606 - accuracy: 0.8496 - val_loss: 0.5527 - val_accuracy: 0.8514\n",
            "Epoch 5/30\n",
            "45/45 [==============================] - 4s 95ms/step - loss: 0.5366 - accuracy: 0.8554 - val_loss: 0.5320 - val_accuracy: 0.8553\n",
            "Epoch 6/30\n",
            "45/45 [==============================] - 7s 156ms/step - loss: 0.5179 - accuracy: 0.8589 - val_loss: 0.5165 - val_accuracy: 0.8584\n",
            "Epoch 7/30\n",
            "45/45 [==============================] - 5s 119ms/step - loss: 0.5035 - accuracy: 0.8617 - val_loss: 0.5044 - val_accuracy: 0.8609\n",
            "Epoch 8/30\n",
            "45/45 [==============================] - 6s 139ms/step - loss: 0.4898 - accuracy: 0.8639 - val_loss: 0.4956 - val_accuracy: 0.8625\n",
            "Epoch 9/30\n",
            "45/45 [==============================] - 4s 92ms/step - loss: 0.4803 - accuracy: 0.8656 - val_loss: 0.4867 - val_accuracy: 0.8636\n",
            "Epoch 10/30\n",
            "45/45 [==============================] - 4s 92ms/step - loss: 0.4720 - accuracy: 0.8668 - val_loss: 0.4797 - val_accuracy: 0.8648\n",
            "Epoch 11/30\n",
            "45/45 [==============================] - 7s 146ms/step - loss: 0.4706 - accuracy: 0.8671 - val_loss: 0.4777 - val_accuracy: 0.8654\n",
            "Epoch 12/30\n",
            "45/45 [==============================] - 4s 91ms/step - loss: 0.4640 - accuracy: 0.8687 - val_loss: 0.4706 - val_accuracy: 0.8663\n",
            "Epoch 13/30\n",
            "45/45 [==============================] - 4s 91ms/step - loss: 0.4555 - accuracy: 0.8697 - val_loss: 0.4655 - val_accuracy: 0.8669\n",
            "Epoch 14/30\n",
            "45/45 [==============================] - 8s 182ms/step - loss: 0.4503 - accuracy: 0.8702 - val_loss: 0.4616 - val_accuracy: 0.8673\n",
            "Epoch 15/30\n",
            "45/45 [==============================] - 4s 97ms/step - loss: 0.4460 - accuracy: 0.8707 - val_loss: 0.4582 - val_accuracy: 0.8674\n",
            "Epoch 16/30\n",
            "45/45 [==============================] - 4s 91ms/step - loss: 0.4418 - accuracy: 0.8713 - val_loss: 0.4551 - val_accuracy: 0.8675\n",
            "Epoch 17/30\n",
            "45/45 [==============================] - 6s 140ms/step - loss: 0.4381 - accuracy: 0.8720 - val_loss: 0.4521 - val_accuracy: 0.8678\n",
            "Epoch 18/30\n",
            "45/45 [==============================] - 4s 99ms/step - loss: 0.4347 - accuracy: 0.8724 - val_loss: 0.4495 - val_accuracy: 0.8684\n",
            "Epoch 19/30\n",
            "45/45 [==============================] - 4s 92ms/step - loss: 0.4319 - accuracy: 0.8729 - val_loss: 0.4476 - val_accuracy: 0.8687\n",
            "Epoch 20/30\n",
            "45/45 [==============================] - 7s 160ms/step - loss: 0.4289 - accuracy: 0.8735 - val_loss: 0.4452 - val_accuracy: 0.8690\n",
            "Epoch 21/30\n",
            "45/45 [==============================] - 5s 118ms/step - loss: 0.4261 - accuracy: 0.8738 - val_loss: 0.4445 - val_accuracy: 0.8693\n",
            "Epoch 22/30\n",
            "45/45 [==============================] - 6s 136ms/step - loss: 0.4238 - accuracy: 0.8743 - val_loss: 0.4412 - val_accuracy: 0.8691\n",
            "Epoch 23/30\n",
            "45/45 [==============================] - 4s 92ms/step - loss: 0.4210 - accuracy: 0.8747 - val_loss: 0.4401 - val_accuracy: 0.8700\n",
            "Epoch 24/30\n",
            "45/45 [==============================] - 4s 96ms/step - loss: 0.4187 - accuracy: 0.8750 - val_loss: 0.4377 - val_accuracy: 0.8699\n",
            "Epoch 25/30\n",
            "45/45 [==============================] - 6s 138ms/step - loss: 0.4164 - accuracy: 0.8753 - val_loss: 0.4360 - val_accuracy: 0.8705\n",
            "Epoch 26/30\n",
            "45/45 [==============================] - 4s 94ms/step - loss: 0.4142 - accuracy: 0.8757 - val_loss: 0.4343 - val_accuracy: 0.8704\n",
            "Epoch 27/30\n",
            "45/45 [==============================] - 5s 102ms/step - loss: 0.4123 - accuracy: 0.8760 - val_loss: 0.4333 - val_accuracy: 0.8708\n",
            "Epoch 28/30\n",
            "45/45 [==============================] - 8s 176ms/step - loss: 0.4101 - accuracy: 0.8765 - val_loss: 0.4316 - val_accuracy: 0.8709\n",
            "Epoch 29/30\n",
            "45/45 [==============================] - 4s 94ms/step - loss: 0.4083 - accuracy: 0.8768 - val_loss: 0.4302 - val_accuracy: 0.8710\n",
            "Epoch 30/30\n",
            "45/45 [==============================] - 4s 89ms/step - loss: 0.4064 - accuracy: 0.8771 - val_loss: 0.4292 - val_accuracy: 0.8713\n"
          ]
        }
      ]
    },
    {
      "cell_type": "code",
      "source": [
        "from matplotlib import pyplot as plt\n",
        "plt.plot(history.history['accuracy'])\n",
        "plt.plot(history.history['val_accuracy'])\n",
        "plt.title('model accuracy')\n",
        "plt.ylabel('accuracy')\n",
        "plt.xlabel('epoch')\n",
        "plt.legend(['train', 'test'], loc=\"lower right\")\n",
        "plt.show()"
      ],
      "metadata": {
        "colab": {
          "base_uri": "https://localhost:8080/",
          "height": 344
        },
        "id": "_MNyL2W8fW7y",
        "outputId": "d61f161a-f0b7-4641-cffc-d7556564cb64"
      },
      "execution_count": null,
      "outputs": [
        {
          "output_type": "display_data",
          "data": {
            "text/plain": [
              "<Figure size 1440x360 with 1 Axes>"
            ],
            "image/png": "[encoded data removed]"
          },
          "metadata": {
            "needs_background": "light"
          }
        }
      ]
    },
    {
      "cell_type": "code",
      "source": [
        "from matplotlib import pyplot as plt\n",
        "plt.plot(history.history['loss'])\n",
        "plt.plot(history.history['val_loss'])\n",
        "plt.title('model loss')\n",
        "plt.ylabel('loss')\n",
        "plt.xlabel('epoch')\n",
        "plt.legend(['train', 'test'], loc=\"lower right\")\n",
        "plt.show()"
      ],
      "metadata": {
        "colab": {
          "base_uri": "https://localhost:8080/",
          "height": 348
        },
        "id": "pl4xbhd54lUF",
        "outputId": "7caca8d6-057e-41a5-de39-918eaa0c9c4a"
      },
      "execution_count": null,
      "outputs": [
        {
          "output_type": "display_data",
          "data": {
            "text/plain": [
              "<Figure size 1440x360 with 1 Axes>"
            ],
            "image/png": "[encoded data removed]"
          },
          "metadata": {
            "needs_background": "light"
          }
        }
      ]
    },
    {
      "cell_type": "markdown",
      "source": [
        "LSTM Model"
      ],
      "metadata": {
        "id": "VGwZGgyR5Asz"
      }
    },
    {
      "cell_type": "code",
      "source": [
        "lstm_model = Sequential()\n",
        "lstm_model.add(Embedding(len(word_index) + 1, EMBEDDING_DIM, weights=[embedding_matrix], trainable=True))\n",
        "lstm_model.add(LSTM(64, return_sequences=True))\n",
        "lstm_model.add(TimeDistributed(Dense(NUM_CLASSES, activation='softmax')))\n",
        "lstm_model.compile(loss='categorical_crossentropy',optimizer='adam',metrics=['accuracy'])\n",
        "lstm_model.summary()"
      ],
      "metadata": {
        "colab": {
          "base_uri": "https://localhost:8080/"
        },
        "id": "B8mPylt44yWo",
        "outputId": "0632427e-efea-4e33-c7c1-335fe100f6fd"
      },
      "execution_count": null,
      "outputs": [
        {
          "output_type": "stream",
          "name": "stdout",
          "text": [
            "Model: \"sequential_5\"\n",
            "_________________________________________________________________\n",
            " Layer (type)                Output Shape              Param #   \n",
            "=================================================================\n",
            " embedding_5 (Embedding)     (None, None, 300)         5177100   \n",
            "                                                                 \n",
            " lstm_2 (LSTM)               (None, None, 64)          93440     \n",
            "                                                                 \n",
            " time_distributed_5 (TimeDis  (None, None, 43)         2795      \n",
            " tributed)                                                       \n",
            "                                                                 \n",
            "=================================================================\n",
            "Total params: 5,273,335\n",
            "Trainable params: 5,273,335\n",
            "Non-trainable params: 0\n",
            "_________________________________________________________________\n"
          ]
        }
      ]
    },
    {
      "cell_type": "code",
      "source": [
        "lstm_training = lstm_model.fit(x_train, y_train, batch_size=128, epochs=10, validation_split=0.2)"
      ],
      "metadata": {
        "colab": {
          "base_uri": "https://localhost:8080/"
        },
        "id": "T8JW29jj5UMX",
        "outputId": "32473bcb-8cb5-4562-b603-67b13b200558"
      },
      "execution_count": null,
      "outputs": [
        {
          "output_type": "stream",
          "name": "stdout",
          "text": [
            "Epoch 1/10\n",
            "45/45 [==============================] - 9s 150ms/step - loss: 1.6588 - accuracy: 0.7818 - val_loss: 0.6953 - val_accuracy: 0.8207\n",
            "Epoch 2/10\n",
            "45/45 [==============================] - 5s 106ms/step - loss: 0.6447 - accuracy: 0.8327 - val_loss: 0.6144 - val_accuracy: 0.8394\n",
            "Epoch 3/10\n",
            "45/45 [==============================] - 3s 66ms/step - loss: 0.5791 - accuracy: 0.8480 - val_loss: 0.5584 - val_accuracy: 0.8524\n",
            "Epoch 4/10\n",
            "45/45 [==============================] - 4s 85ms/step - loss: 0.5261 - accuracy: 0.8587 - val_loss: 0.5126 - val_accuracy: 0.8626\n",
            "Epoch 5/10\n",
            "45/45 [==============================] - 2s 48ms/step - loss: 0.4826 - accuracy: 0.8681 - val_loss: 0.4777 - val_accuracy: 0.8683\n",
            "Epoch 6/10\n",
            "45/45 [==============================] - 2s 48ms/step - loss: 0.4488 - accuracy: 0.8745 - val_loss: 0.4526 - val_accuracy: 0.8721\n",
            "Epoch 7/10\n",
            "45/45 [==============================] - 2s 36ms/step - loss: 0.4230 - accuracy: 0.8790 - val_loss: 0.4356 - val_accuracy: 0.8744\n",
            "Epoch 8/10\n",
            "45/45 [==============================] - 1s 30ms/step - loss: 0.4022 - accuracy: 0.8823 - val_loss: 0.4210 - val_accuracy: 0.8758\n",
            "Epoch 9/10\n",
            "45/45 [==============================] - 1s 24ms/step - loss: 0.3846 - accuracy: 0.8851 - val_loss: 0.4113 - val_accuracy: 0.8773\n",
            "Epoch 10/10\n",
            "45/45 [==============================] - 1s 31ms/step - loss: 0.3692 - accuracy: 0.8876 - val_loss: 0.4042 - val_accuracy: 0.8778\n"
          ]
        }
      ]
    },
    {
      "cell_type": "code",
      "source": [
        "from matplotlib import pyplot as plt\n",
        "plt.plot(lstm_training.history['accuracy'])\n",
        "plt.plot(lstm_training.history['val_accuracy'])\n",
        "plt.title('model accuracy')\n",
        "plt.ylabel('accuracy')\n",
        "plt.xlabel('epoch')\n",
        "plt.legend(['train', 'test'], loc=\"lower right\")\n",
        "plt.show()"
      ],
      "metadata": {
        "colab": {
          "base_uri": "https://localhost:8080/",
          "height": 346
        },
        "id": "TDHn6iK26jPP",
        "outputId": "8ba8fd47-afd1-438d-ca7f-fd96096eaca2"
      },
      "execution_count": null,
      "outputs": [
        {
          "output_type": "display_data",
          "data": {
            "text/plain": [
              "<Figure size 1440x360 with 1 Axes>"
            ],
            "image/png": "[encoded data removed]"
          },
          "metadata": {
            "needs_background": "light"
          }
        }
      ]
    },
    {
      "cell_type": "markdown",
      "source": [
        "GRU Model"
      ],
      "metadata": {
        "id": "n9pFPF7q8GMO"
      }
    },
    {
      "cell_type": "code",
      "source": [
        "gru_model = Sequential()\n",
        "gru_model.add(Embedding(len(word_index) + 1, EMBEDDING_DIM, weights=[embedding_matrix], trainable=True))\n",
        "gru_model.add(GRU(64, return_sequences=True))\n",
        "gru_model.add(TimeDistributed(Dense(NUM_CLASSES, activation='softmax')))\n",
        "gru_model.compile(loss='categorical_crossentropy',optimizer='adam',metrics=['accuracy'])\n",
        "gru_model.summary()"
      ],
      "metadata": {
        "colab": {
          "base_uri": "https://localhost:8080/"
        },
        "id": "Q1EkcAr77MFy",
        "outputId": "374756c6-3294-4407-dfc0-461b6fba2d5f"
      },
      "execution_count": null,
      "outputs": [
        {
          "output_type": "stream",
          "name": "stdout",
          "text": [
            "Model: \"sequential_6\"\n",
            "_________________________________________________________________\n",
            " Layer (type)                Output Shape              Param #   \n",
            "=================================================================\n",
            " embedding_6 (Embedding)     (None, None, 300)         5177100   \n",
            "                                                                 \n",
            " gru_1 (GRU)                 (None, None, 64)          70272     \n",
            "                                                                 \n",
            " time_distributed_6 (TimeDis  (None, None, 43)         2795      \n",
            " tributed)                                                       \n",
            "                                                                 \n",
            "=================================================================\n",
            "Total params: 5,250,167\n",
            "Trainable params: 5,250,167\n",
            "Non-trainable params: 0\n",
            "_________________________________________________________________\n"
          ]
        }
      ]
    },
    {
      "cell_type": "code",
      "source": [
        "gru_training = gru_model.fit(x_train, y_train, batch_size=128, epochs=10, validation_split=0.3)"
      ],
      "metadata": {
        "colab": {
          "base_uri": "https://localhost:8080/"
        },
        "id": "slweeqzy7ory",
        "outputId": "012915de-eec2-49de-a7a2-af71ac50dedb"
      },
      "execution_count": null,
      "outputs": [
        {
          "output_type": "stream",
          "name": "stdout",
          "text": [
            "Epoch 1/10\n",
            "40/40 [==============================] - 8s 125ms/step - loss: 1.9687 - accuracy: 0.8108 - val_loss: 0.6532 - val_accuracy: 0.8322\n",
            "Epoch 2/10\n",
            "40/40 [==============================] - 3s 87ms/step - loss: 0.6057 - accuracy: 0.8392 - val_loss: 0.5679 - val_accuracy: 0.8476\n",
            "Epoch 3/10\n",
            "40/40 [==============================] - 4s 102ms/step - loss: 0.5403 - accuracy: 0.8551 - val_loss: 0.5178 - val_accuracy: 0.8609\n",
            "Epoch 4/10\n",
            "40/40 [==============================] - 4s 105ms/step - loss: 0.4942 - accuracy: 0.8663 - val_loss: 0.4802 - val_accuracy: 0.8685\n",
            "Epoch 5/10\n",
            "40/40 [==============================] - 2s 50ms/step - loss: 0.4590 - accuracy: 0.8726 - val_loss: 0.4517 - val_accuracy: 0.8728\n",
            "Epoch 6/10\n",
            "40/40 [==============================] - 2s 53ms/step - loss: 0.4318 - accuracy: 0.8764 - val_loss: 0.4302 - val_accuracy: 0.8758\n",
            "Epoch 7/10\n",
            "40/40 [==============================] - 1s 28ms/step - loss: 0.4094 - accuracy: 0.8798 - val_loss: 0.4132 - val_accuracy: 0.8787\n",
            "Epoch 8/10\n",
            "40/40 [==============================] - 1s 31ms/step - loss: 0.3899 - accuracy: 0.8828 - val_loss: 0.3985 - val_accuracy: 0.8804\n",
            "Epoch 9/10\n",
            "40/40 [==============================] - 1s 35ms/step - loss: 0.3718 - accuracy: 0.8856 - val_loss: 0.3858 - val_accuracy: 0.8821\n",
            "Epoch 10/10\n",
            "40/40 [==============================] - 1s 27ms/step - loss: 0.3547 - accuracy: 0.8886 - val_loss: 0.3765 - val_accuracy: 0.8833\n"
          ]
        }
      ]
    },
    {
      "cell_type": "code",
      "source": [
        "from matplotlib import pyplot as plt\n",
        "plt.plot(gru_training.history['accuracy'])\n",
        "plt.plot(gru_training.history['val_accuracy'])\n",
        "plt.title('model accuracy')\n",
        "plt.ylabel('accuracy')\n",
        "plt.xlabel('epoch')\n",
        "plt.legend(['train', 'test'], loc=\"lower right\")\n",
        "plt.show()"
      ],
      "metadata": {
        "colab": {
          "base_uri": "https://localhost:8080/",
          "height": 346
        },
        "id": "D01GzvfP8eAp",
        "outputId": "8345e589-981f-4963-efdc-28981c697053"
      },
      "execution_count": null,
      "outputs": [
        {
          "output_type": "display_data",
          "data": {
            "text/plain": [
              "<Figure size 1440x360 with 1 Axes>"
            ],
            "image/png": "[encoded data removed]"
          },
          "metadata": {
            "needs_background": "light"
          }
        }
      ]
    },
    {
      "cell_type": "markdown",
      "source": [
        "Bidirectional LSTM Model"
      ],
      "metadata": {
        "id": "UTAcES4k8OiH"
      }
    },
    {
      "cell_type": "code",
      "source": [
        "bidirect_model = Sequential()\n",
        "bidirect_model.add(Embedding(len(word_index) + 1, EMBEDDING_DIM, weights=[embedding_matrix], trainable=True))\n",
        "bidirect_model.add(Bidirectional(LSTM(64, return_sequences=True)))\n",
        "bidirect_model.add(TimeDistributed(Dense(NUM_CLASSES, activation='softmax')))\n",
        "bidirect_model.compile(loss='categorical_crossentropy',optimizer='adam',metrics=['accuracy'])\n",
        "bidirect_model.summary()"
      ],
      "metadata": {
        "colab": {
          "base_uri": "https://localhost:8080/"
        },
        "id": "o2q4cxfy8kI0",
        "outputId": "34e56928-2987-46b9-b9a1-4fe13bb83ca5"
      },
      "execution_count": null,
      "outputs": [
        {
          "output_type": "stream",
          "name": "stdout",
          "text": [
            "Model: \"sequential_7\"\n",
            "_________________________________________________________________\n",
            " Layer (type)                Output Shape              Param #   \n",
            "=================================================================\n",
            " embedding_7 (Embedding)     (None, None, 300)         5177100   \n",
            "                                                                 \n",
            " bidirectional_1 (Bidirectio  (None, None, 128)        186880    \n",
            " nal)                                                            \n",
            "                                                                 \n",
            " time_distributed_7 (TimeDis  (None, None, 43)         5547      \n",
            " tributed)                                                       \n",
            "                                                                 \n",
            "=================================================================\n",
            "Total params: 5,369,527\n",
            "Trainable params: 5,369,527\n",
            "Non-trainable params: 0\n",
            "_________________________________________________________________\n"
          ]
        }
      ]
    },
    {
      "cell_type": "code",
      "source": [
        "bidirect_training = bidirect_model.fit(x_train, y_train, batch_size=128, epochs=10, validation_split=0.3)"
      ],
      "metadata": {
        "colab": {
          "base_uri": "https://localhost:8080/"
        },
        "id": "hskJH2ni83OH",
        "outputId": "fe33fcd2-bded-493d-cfce-e1ebd7fd977c"
      },
      "execution_count": null,
      "outputs": [
        {
          "output_type": "stream",
          "name": "stdout",
          "text": [
            "Epoch 1/10\n",
            "40/40 [==============================] - 11s 188ms/step - loss: 1.6345 - accuracy: 0.7923 - val_loss: 0.6408 - val_accuracy: 0.8312\n",
            "Epoch 2/10\n",
            "40/40 [==============================] - 4s 104ms/step - loss: 0.6060 - accuracy: 0.8368 - val_loss: 0.5737 - val_accuracy: 0.8448\n",
            "Epoch 3/10\n",
            "40/40 [==============================] - 3s 66ms/step - loss: 0.5459 - accuracy: 0.8510 - val_loss: 0.5227 - val_accuracy: 0.8580\n",
            "Epoch 4/10\n",
            "40/40 [==============================] - 3s 63ms/step - loss: 0.4982 - accuracy: 0.8644 - val_loss: 0.4836 - val_accuracy: 0.8680\n",
            "Epoch 5/10\n",
            "40/40 [==============================] - 2s 54ms/step - loss: 0.4612 - accuracy: 0.8726 - val_loss: 0.4550 - val_accuracy: 0.8735\n",
            "Epoch 6/10\n",
            "40/40 [==============================] - 2s 63ms/step - loss: 0.4331 - accuracy: 0.8777 - val_loss: 0.4347 - val_accuracy: 0.8766\n",
            "Epoch 7/10\n",
            "40/40 [==============================] - 2s 56ms/step - loss: 0.4107 - accuracy: 0.8812 - val_loss: 0.4189 - val_accuracy: 0.8789\n",
            "Epoch 8/10\n",
            "40/40 [==============================] - 1s 38ms/step - loss: 0.3916 - accuracy: 0.8844 - val_loss: 0.4071 - val_accuracy: 0.8805\n",
            "Epoch 9/10\n",
            "40/40 [==============================] - 1s 35ms/step - loss: 0.3753 - accuracy: 0.8872 - val_loss: 0.4040 - val_accuracy: 0.8818\n",
            "Epoch 10/10\n",
            "40/40 [==============================] - 2s 47ms/step - loss: 0.3610 - accuracy: 0.8895 - val_loss: 0.3900 - val_accuracy: 0.8828\n"
          ]
        }
      ]
    },
    {
      "cell_type": "code",
      "source": [
        "from matplotlib import pyplot as plt\n",
        "plt.plot(bidirect_training.history['accuracy'])\n",
        "plt.plot(bidirect_training.history['val_accuracy'])\n",
        "plt.title('model accuracy')\n",
        "plt.ylabel('accuracy')\n",
        "plt.xlabel('epoch')\n",
        "plt.legend(['train', 'test'], loc=\"lower right\")\n",
        "plt.show()"
      ],
      "metadata": {
        "colab": {
          "base_uri": "https://localhost:8080/",
          "height": 346
        },
        "id": "CmgKDtBG8_b8",
        "outputId": "cbb2f4ba-00f0-40e4-df12-bd7b90619adc"
      },
      "execution_count": null,
      "outputs": [
        {
          "output_type": "display_data",
          "data": {
            "text/plain": [
              "<Figure size 1440x360 with 1 Axes>"
            ],
            "image/png": "[encoded data removed]"
          },
          "metadata": {
            "needs_background": "light"
          }
        }
      ]
    },
    {
      "cell_type": "markdown",
      "source": [
        "Models Evaluation"
      ],
      "metadata": {
        "id": "VKN_gtU8YUDi"
      }
    },
    {
      "cell_type": "code",
      "source": [
        "results = rnn_model.evaluate(x_test, y_test, batch_size=128,verbose=0)\n",
        "print(rnn_model.metrics_names)\n",
        "print(results)"
      ],
      "metadata": {
        "colab": {
          "base_uri": "https://localhost:8080/"
        },
        "id": "Y09QtEK9fWIz",
        "outputId": "9077d1d1-d6ad-43fa-d285-9ecc785fa913"
      },
      "execution_count": null,
      "outputs": [
        {
          "output_type": "stream",
          "name": "stdout",
          "text": [
            "['loss', 'accuracy']\n",
            "[0.4288860261440277, 0.8723210096359253]\n"
          ]
        }
      ]
    },
    {
      "cell_type": "code",
      "source": [
        "results = lstm_model.evaluate(x_test, y_test, batch_size=128,verbose=0)\n",
        "print(lstm_model.metrics_names)\n",
        "print(results)"
      ],
      "metadata": {
        "colab": {
          "base_uri": "https://localhost:8080/"
        },
        "id": "J8zoP05EABA3",
        "outputId": "c3a7f8f0-1297-47a7-9142-2350d858a803"
      },
      "execution_count": null,
      "outputs": [
        {
          "output_type": "stream",
          "name": "stdout",
          "text": [
            "['loss', 'accuracy']\n",
            "[0.40334591269493103, 0.8780201077461243]\n"
          ]
        }
      ]
    },
    {
      "cell_type": "code",
      "source": [
        "results = gru_model.evaluate(x_test, y_test, batch_size=128,verbose=0)\n",
        "print(lstm_model.metrics_names)\n",
        "print(results)"
      ],
      "metadata": {
        "colab": {
          "base_uri": "https://localhost:8080/"
        },
        "id": "AUZ6CcnqAJhy",
        "outputId": "8aa84fd0-bf15-4b94-bfe1-5d74515678e0"
      },
      "execution_count": null,
      "outputs": [
        {
          "output_type": "stream",
          "name": "stdout",
          "text": [
            "['loss', 'accuracy']\n",
            "[0.3817194402217865, 0.882315456867218]\n"
          ]
        }
      ]
    },
    {
      "cell_type": "code",
      "source": [
        "results = bidirect_model.evaluate(x_test, y_test, batch_size=128,verbose=0)\n",
        "print(bidirect_model.metrics_names)\n",
        "print(results)"
      ],
      "metadata": {
        "colab": {
          "base_uri": "https://localhost:8080/"
        },
        "id": "Du0h6YIUAODm",
        "outputId": "cf9f3309-7bf4-4046-a065-945d2793c687"
      },
      "execution_count": null,
      "outputs": [
        {
          "output_type": "stream",
          "name": "stdout",
          "text": [
            "['loss', 'accuracy']\n",
            "[0.3943280279636383, 0.8821252584457397]\n"
          ]
        }
      ]
    },
    {
      "cell_type": "markdown",
      "source": [
        "Predict the test data"
      ],
      "metadata": {
        "id": "w7Eg3i01CrBQ"
      }
    },
    {
      "cell_type": "code",
      "source": [
        "import numpy as np\n",
        "import pandas as pd\n",
        "import os\n",
        "test_data = []\n",
        "f = open(\"/content/drive/MyDrive/dataset/nlp_test_dataset.txt\", \"r\")\n",
        "rowtext = []\n",
        "for line in f:\n",
        "  if line == \"\\n\":\n",
        "    test_data.append(rowtext)\n",
        "    rowtext = []\n",
        "  else:\n",
        "    if line!='.\\n' and line!=',\\n':\n",
        "      rowtext.append(line.strip('\\n'))\n",
        "print(test_data[0])"
      ],
      "metadata": {
        "colab": {
          "base_uri": "https://localhost:8080/"
        },
        "id": "cHuH7x_EAg2P",
        "outputId": "efec8edb-da26-4622-c3f5-fd47b154ef9e"
      },
      "execution_count": null,
      "outputs": [
        {
          "output_type": "stream",
          "name": "stdout",
          "text": [
            "['Rockwell', 'International', 'Corp.', \"'s\", 'Tulsa', 'unit', 'said', 'it', 'signed', 'a', 'tentative', 'agreement', 'extending', 'its', 'contract', 'with', 'Boeing', 'Co.', 'to', 'provide', 'structural', 'parts', 'for', 'Boeing', \"'s\", '747', 'jetliners']\n"
          ]
        }
      ]
    },
    {
      "cell_type": "code",
      "source": [
        "test_df = pd.DataFrame(columns=[\"text\"])\n",
        "test_df[\"text\"] = test_data"
      ],
      "metadata": {
        "id": "ogzFqhKKByoW"
      },
      "execution_count": null,
      "outputs": []
    },
    {
      "cell_type": "code",
      "source": [
        "test_df.head()"
      ],
      "metadata": {
        "colab": {
          "base_uri": "https://localhost:8080/",
          "height": 206
        },
        "id": "gWlBqL1RCjiu",
        "outputId": "b686646e-4211-41b9-f84e-66e3698e72a0"
      },
      "execution_count": null,
      "outputs": [
        {
          "output_type": "execute_result",
          "data": {
            "text/plain": [
              "                                                text\n",
              "0  [Rockwell, International, Corp., 's, Tulsa, un...\n",
              "1  [Rockwell, said, the, agreement, calls, for, i...\n",
              "2  [These, include, among, other, parts, each, je...\n",
              "3  [Under, the, existing, contract, Rockwell, sai...\n",
              "4  [Rockwell, based, in, El, Segundo, Calif., is,..."
            ],
            "text/html": [
              "\n",
              "  <div id=\"df-6bdbcf2a-345a-4d5d-9cfe-6d45b3f6b0e5\">\n",
              "    <div class=\"colab-df-container\">\n",
              "      <div>\n",
              "<style scoped>\n",
              "    .dataframe tbody tr th:only-of-type {\n",
              "        vertical-align: middle;\n",
              "    }\n",
              "\n",
              "    .dataframe tbody tr th {\n",
              "        vertical-align: top;\n",
              "    }\n",
              "\n",
              "    .dataframe thead th {\n",
              "        text-align: right;\n",
              "    }\n",
              "</style>\n",
              "<table border=\"1\" class=\"dataframe\">\n",
              "  <thead>\n",
              "    <tr style=\"text-align: right;\">\n",
              "      <th></th>\n",
              "      <th>text</th>\n",
              "    </tr>\n",
              "  </thead>\n",
              "  <tbody>\n",
              "    <tr>\n",
              "      <th>0</th>\n",
              "      <td>[Rockwell, International, Corp., 's, Tulsa, un...</td>\n",
              "    </tr>\n",
              "    <tr>\n",
              "      <th>1</th>\n",
              "      <td>[Rockwell, said, the, agreement, calls, for, i...</td>\n",
              "    </tr>\n",
              "    <tr>\n",
              "      <th>2</th>\n",
              "      <td>[These, include, among, other, parts, each, je...</td>\n",
              "    </tr>\n",
              "    <tr>\n",
              "      <th>3</th>\n",
              "      <td>[Under, the, existing, contract, Rockwell, sai...</td>\n",
              "    </tr>\n",
              "    <tr>\n",
              "      <th>4</th>\n",
              "      <td>[Rockwell, based, in, El, Segundo, Calif., is,...</td>\n",
              "    </tr>\n",
              "  </tbody>\n",
              "</table>\n",
              "</div>\n",
              "      <button class=\"colab-df-convert\" onclick=\"convertToInteractive('df-6bdbcf2a-345a-4d5d-9cfe-6d45b3f6b0e5')\"\n",
              "              title=\"Convert this dataframe to an interactive table.\"\n",
              "              style=\"display:none;\">\n",
              "        \n",
              "  <svg xmlns=\"http://www.w3.org/2000/svg\" height=\"24px\"viewBox=\"0 0 24 24\"\n",
              "       width=\"24px\">\n",
              "    <path d=\"M0 0h24v24H0V0z\" fill=\"none\"/>\n",
              "    <path d=\"M18.56 5.44l.94 2.06.94-2.06 2.06-.94-2.06-.94-.94-2.06-.94 2.06-2.06.94zm-11 1L8.5 8.5l.94-2.06 2.06-.94-2.06-.94L8.5 2.5l-.94 2.06-2.06.94zm10 10l.94 2.06.94-2.06 2.06-.94-2.06-.94-.94-2.06-.94 2.06-2.06.94z\"/><path d=\"M17.41 7.96l-1.37-1.37c-.4-.4-.92-.59-1.43-.59-.52 0-1.04.2-1.43.59L10.3 9.45l-7.72 7.72c-.78.78-.78 2.05 0 2.83L4 21.41c.39.39.9.59 1.41.59.51 0 1.02-.2 1.41-.59l7.78-7.78 2.81-2.81c.8-.78.8-2.07 0-2.86zM5.41 20L4 18.59l7.72-7.72 1.47 1.35L5.41 20z\"/>\n",
              "  </svg>\n",
              "      </button>\n",
              "      \n",
              "  <style>\n",
              "    .colab-df-container {\n",
              "      display:flex;\n",
              "      flex-wrap:wrap;\n",
              "      gap: 12px;\n",
              "    }\n",
              "\n",
              "    .colab-df-convert {\n",
              "      background-color: #E8F0FE;\n",
              "      border: none;\n",
              "      border-radius: 50%;\n",
              "      cursor: pointer;\n",
              "      display: none;\n",
              "      fill: #1967D2;\n",
              "      height: 32px;\n",
              "      padding: 0 0 0 0;\n",
              "      width: 32px;\n",
              "    }\n",
              "\n",
              "    .colab-df-convert:hover {\n",
              "      background-color: #E2EBFA;\n",
              "      box-shadow: 0px 1px 2px rgba(60, 64, 67, 0.3), 0px 1px 3px 1px rgba(60, 64, 67, 0.15);\n",
              "      fill: #174EA6;\n",
              "    }\n",
              "\n",
              "    [theme=dark] .colab-df-convert {\n",
              "      background-color: #3B4455;\n",
              "      fill: #D2E3FC;\n",
              "    }\n",
              "\n",
              "    [theme=dark] .colab-df-convert:hover {\n",
              "      background-color: #434B5C;\n",
              "      box-shadow: 0px 1px 3px 1px rgba(0, 0, 0, 0.15);\n",
              "      filter: drop-shadow(0px 1px 2px rgba(0, 0, 0, 0.3));\n",
              "      fill: #FFFFFF;\n",
              "    }\n",
              "  </style>\n",
              "\n",
              "      <script>\n",
              "        const buttonEl =\n",
              "          document.querySelector('#df-6bdbcf2a-345a-4d5d-9cfe-6d45b3f6b0e5 button.colab-df-convert');\n",
              "        buttonEl.style.display =\n",
              "          google.colab.kernel.accessAllowed ? 'block' : 'none';\n",
              "\n",
              "        async function convertToInteractive(key) {\n",
              "          const element = document.querySelector('#df-6bdbcf2a-345a-4d5d-9cfe-6d45b3f6b0e5');\n",
              "          const dataTable =\n",
              "            await google.colab.kernel.invokeFunction('convertToInteractive',\n",
              "                                                     [key], {});\n",
              "          if (!dataTable) return;\n",
              "\n",
              "          const docLinkHtml = 'Like what you see? Visit the ' +\n",
              "            '<a target=\"_blank\" href=https://colab.research.google.com/notebooks/data_table.ipynb>data table notebook</a>'\n",
              "            + ' to learn more about interactive tables.';\n",
              "          element.innerHTML = '';\n",
              "          dataTable['output_type'] = 'display_data';\n",
              "          await google.colab.output.renderOutput(dataTable, element);\n",
              "          const docLink = document.createElement('div');\n",
              "          docLink.innerHTML = docLinkHtml;\n",
              "          element.appendChild(docLink);\n",
              "        }\n",
              "      </script>\n",
              "    </div>\n",
              "  </div>\n",
              "  "
            ]
          },
          "metadata": {},
          "execution_count": 132
        }
      ]
    },
    {
      "cell_type": "code",
      "source": [
        "MAX_NB_WORDS = 5000\n",
        "MAX_SEQUENCE_LENGTH = 100\n",
        "tokenizer = Tokenizer(num_words=MAX_NB_WORDS)\n",
        "tokenizer.fit_on_texts(test_df[\"text\"])\n",
        "sequences = []\n",
        "for i in range(len(test_data)):\n",
        "  sequence = tokenizer.texts_to_sequences([test_data[i]])\n",
        "  sequences.append(sequence[0])\n",
        "print(sequences[0])\n",
        "print(sequences[30])\n",
        "test_X_padded = pad_sequences(sequences, maxlen=MAX_SEQUENCE_LENGTH, padding=\"post\")\n",
        "#tag_tokenizer.word_index['<PAD>'] = 0\n",
        "tag_tokenizer.index_word[0] = '<PAD>'"
      ],
      "metadata": {
        "colab": {
          "base_uri": "https://localhost:8080/"
        },
        "id": "TURjXrPmD3cu",
        "outputId": "44b6a729-36e9-4a53-e652-218b56418281"
      },
      "execution_count": null,
      "outputs": [
        {
          "output_type": "stream",
          "name": "stdout",
          "text": [
            "[1353, 270, 86, 8, 3413, 232, 14, 18, 917, 4, 2270, 432, 3414, 26, 307, 24, 1093, 101, 2, 433, 3415, 918, 7, 1093, 8, 3416, 3417]\n",
            "[17, 82, 8, 335, 3, 70, 18, 21, 581, 7, 4, 3471, 10, 3472, 22]\n"
          ]
        }
      ]
    },
    {
      "cell_type": "code",
      "source": [
        "rnn_output = rnn_model.predict(test_X_padded)\n",
        "rnn_pred_sequences = []\n",
        "for i in range(len(rnn_output)):\n",
        "    pred_tags = [tag_tokenizer.index_word[np.argmax(p)] for p in rnn_output[i]]\n",
        "    rnn_pred_sequences.append(pred_tags)\n",
        "for i in range(5):\n",
        "  print(test_df.iloc[i])\n",
        "  print(rnn_pred_sequences[i])\n",
        "  print(\"\\n\")"
      ],
      "metadata": {
        "colab": {
          "base_uri": "https://localhost:8080/"
        },
        "id": "ke_GQo3BFYYL",
        "outputId": "6feadec5-4a9e-4487-d0d4-957c899a6d34"
      },
      "execution_count": null,
      "outputs": [
        {
          "output_type": "stream",
          "name": "stdout",
          "text": [
            "63/63 [==============================] - 1s 10ms/step\n",
            "text    [Rockwell, International, Corp., 's, Tulsa, un...\n",
            "Name: 0, dtype: object\n",
            "['vbg', 'nn', 'nn', 'pos', 'nnp', 'nn', 'vbd', 'in', 'jj', 'dt', 'nn', 'nn', 'nn', 'vbp', 'vbp', 'in', 'in', 'in', 'in', 'in', 'in', 'nnp', 'in', 'nn', 'nn', 'prp$', 'jj', 'nn', '<PAD>', '<PAD>', '<PAD>', '<PAD>', '<PAD>', '<PAD>', '<PAD>', '<PAD>', '<PAD>', '<PAD>', '<PAD>', '<PAD>', '<PAD>', '<PAD>', '<PAD>', '<PAD>', '<PAD>', '<PAD>', '<PAD>', '<PAD>', '<PAD>', '<PAD>', '<PAD>', '<PAD>', '<PAD>', '<PAD>', '<PAD>', '<PAD>', '<PAD>', '<PAD>', '<PAD>', '<PAD>', '<PAD>', '<PAD>', '<PAD>', '<PAD>', '<PAD>', '<PAD>', '<PAD>', '<PAD>', '<PAD>', '<PAD>', '<PAD>', '<PAD>', '<PAD>', '<PAD>', '<PAD>', '<PAD>', '<PAD>', '<PAD>', '<PAD>', '<PAD>', '<PAD>', '<PAD>', '<PAD>', '<PAD>', '<PAD>', '<PAD>', '<PAD>', '<PAD>', '<PAD>', '<PAD>', '<PAD>', '<PAD>', '<PAD>', '<PAD>', '<PAD>', '<PAD>', '<PAD>', '<PAD>', '<PAD>', '<PAD>']\n",
            "\n",
            "\n",
            "text    [Rockwell, said, the, agreement, calls, for, i...\n",
            "Name: 1, dtype: object\n",
            "['vbg', 'vbd', 'dt', 'nn', 'nns', 'in', 'in', 'in', 'in', 'nn', 'nn', 'nns', 'nns', 'in', 'dt', 'dt', 'nn', '<PAD>', '<PAD>', '<PAD>', '<PAD>', '<PAD>', '<PAD>', '<PAD>', '<PAD>', '<PAD>', '<PAD>', '<PAD>', '<PAD>', '<PAD>', '<PAD>', '<PAD>', '<PAD>', '<PAD>', '<PAD>', '<PAD>', '<PAD>', '<PAD>', '<PAD>', '<PAD>', '<PAD>', '<PAD>', '<PAD>', '<PAD>', '<PAD>', '<PAD>', '<PAD>', '<PAD>', '<PAD>', '<PAD>', '<PAD>', '<PAD>', '<PAD>', '<PAD>', '<PAD>', '<PAD>', '<PAD>', '<PAD>', '<PAD>', '<PAD>', '<PAD>', '<PAD>', '<PAD>', '<PAD>', '<PAD>', '<PAD>', '<PAD>', '<PAD>', '<PAD>', '<PAD>', '<PAD>', '<PAD>', '<PAD>', '<PAD>', '<PAD>', '<PAD>', '<PAD>', '<PAD>', '<PAD>', '<PAD>', '<PAD>', '<PAD>', '<PAD>', '<PAD>', '<PAD>', '<PAD>', '<PAD>', '<PAD>', '<PAD>', '<PAD>', '<PAD>', '<PAD>', '<PAD>', '<PAD>', '<PAD>', '<PAD>', '<PAD>', '<PAD>', '<PAD>', '<PAD>']\n",
            "\n",
            "\n",
            "text    [These, include, among, other, parts, each, je...\n",
            "Name: 2, dtype: object\n",
            "['in', 'in', 'nnp', 'in', 'in', 'nn', 'nn', 'pos', 'nn', 'nn', 'nn', 'dt', 'dt', 'nn', 'nn', 'jj', 'nns', '<PAD>', 'nn', 'in', 'dt', 'in', 'in', 'nnp', 'nn', 'nn', 'in', '<PAD>', '<PAD>', '<PAD>', '<PAD>', '<PAD>', '<PAD>', '<PAD>', '<PAD>', '<PAD>', '<PAD>', '<PAD>', '<PAD>', '<PAD>', '<PAD>', '<PAD>', '<PAD>', '<PAD>', '<PAD>', '<PAD>', '<PAD>', '<PAD>', '<PAD>', '<PAD>', '<PAD>', '<PAD>', '<PAD>', '<PAD>', '<PAD>', '<PAD>', '<PAD>', '<PAD>', '<PAD>', '<PAD>', '<PAD>', '<PAD>', '<PAD>', '<PAD>', '<PAD>', '<PAD>', '<PAD>', '<PAD>', '<PAD>', '<PAD>', '<PAD>', '<PAD>', '<PAD>', '<PAD>', '<PAD>', '<PAD>', '<PAD>', '<PAD>', '<PAD>', '<PAD>', '<PAD>', '<PAD>', '<PAD>', '<PAD>', '<PAD>', '<PAD>', '<PAD>', '<PAD>', '<PAD>', '<PAD>', '<PAD>', '<PAD>', '<PAD>', '<PAD>', '<PAD>', '<PAD>', '<PAD>', '<PAD>', '<PAD>', '<PAD>']\n",
            "\n",
            "\n",
            "text    [Under, the, existing, contract, Rockwell, sai...\n",
            "Name: 3, dtype: object\n",
            "['rb', 'dt', 'nn', 'nnp', 'nn', 'vbd', 'in', 'prp$', 'jj', 'nn', 'nn', 'to', 'dt', 'jj', 'in', 'nn', '<PAD>', '<PAD>', '<PAD>', '<PAD>', '<PAD>', '<PAD>', '<PAD>', '<PAD>', '<PAD>', '<PAD>', '<PAD>', '<PAD>', '<PAD>', '<PAD>', '<PAD>', '<PAD>', '<PAD>', '<PAD>', '<PAD>', '<PAD>', '<PAD>', '<PAD>', '<PAD>', '<PAD>', '<PAD>', '<PAD>', '<PAD>', '<PAD>', '<PAD>', '<PAD>', '<PAD>', '<PAD>', '<PAD>', '<PAD>', '<PAD>', '<PAD>', '<PAD>', '<PAD>', '<PAD>', '<PAD>', '<PAD>', '<PAD>', '<PAD>', '<PAD>', '<PAD>', '<PAD>', '<PAD>', '<PAD>', '<PAD>', '<PAD>', '<PAD>', '<PAD>', '<PAD>', '<PAD>', '<PAD>', '<PAD>', '<PAD>', '<PAD>', '<PAD>', '<PAD>', '<PAD>', '<PAD>', '<PAD>', '<PAD>', '<PAD>', '<PAD>', '<PAD>', '<PAD>', '<PAD>', '<PAD>', '<PAD>', '<PAD>', '<PAD>', '<PAD>', '<PAD>', '<PAD>', '<PAD>', '<PAD>', '<PAD>', '<PAD>', '<PAD>', '<PAD>', '<PAD>', '<PAD>']\n",
            "\n",
            "\n",
            "text    [Rockwell, based, in, El, Segundo, Calif., is,...\n",
            "Name: 4, dtype: object\n",
            "['vbg', 'cd', 'cc', 'nn', 'cd', 'cd', 'vbz', 'nnp', 'nnp', 'cd', 'nn', 'in', 'in', 'in', 'nns', '<PAD>', '<PAD>', '<PAD>', '<PAD>', '<PAD>', '<PAD>', '<PAD>', '<PAD>', '<PAD>', '<PAD>', '<PAD>', '<PAD>', '<PAD>', '<PAD>', '<PAD>', '<PAD>', '<PAD>', '<PAD>', '<PAD>', '<PAD>', '<PAD>', '<PAD>', '<PAD>', '<PAD>', '<PAD>', '<PAD>', '<PAD>', '<PAD>', '<PAD>', '<PAD>', '<PAD>', '<PAD>', '<PAD>', '<PAD>', '<PAD>', '<PAD>', '<PAD>', '<PAD>', '<PAD>', '<PAD>', '<PAD>', '<PAD>', '<PAD>', '<PAD>', '<PAD>', '<PAD>', '<PAD>', '<PAD>', '<PAD>', '<PAD>', '<PAD>', '<PAD>', '<PAD>', '<PAD>', '<PAD>', '<PAD>', '<PAD>', '<PAD>', '<PAD>', '<PAD>', '<PAD>', '<PAD>', '<PAD>', '<PAD>', '<PAD>', '<PAD>', '<PAD>', '<PAD>', '<PAD>', '<PAD>', '<PAD>', '<PAD>', '<PAD>', '<PAD>', '<PAD>', '<PAD>', '<PAD>', '<PAD>', '<PAD>', '<PAD>', '<PAD>', '<PAD>', '<PAD>', '<PAD>', '<PAD>']\n",
            "\n",
            "\n"
          ]
        }
      ]
    },
    {
      "cell_type": "code",
      "source": [
        "lstm_output = lstm_model.predict(test_X_padded)\n",
        "lstm_pred_sequences = []\n",
        "for i in range(len(lstm_output)):\n",
        "    pred_tags = [tag_tokenizer.index_word[np.argmax(p)] for p in lstm_output[i]]\n",
        "    lstm_pred_sequences.append(pred_tags)\n",
        "for i in range(5):\n",
        "  print(test_df.iloc[i])\n",
        "  print(len(test_df.iloc[i]))\n",
        "  print(lstm_pred_sequences[i])\n",
        "  print(len(lstm_pred_sequences[i]))\n",
        "  print(\"\\n\")"
      ],
      "metadata": {
        "colab": {
          "base_uri": "https://localhost:8080/"
        },
        "id": "3_rEwmOMInTF",
        "outputId": "78d3b403-13e4-4854-a5ea-51e4ceaf7fc5"
      },
      "execution_count": null,
      "outputs": [
        {
          "output_type": "stream",
          "name": "stdout",
          "text": [
            "63/63 [==============================] - 0s 4ms/step\n",
            "text    [Rockwell, International, Corp., 's, Tulsa, un...\n",
            "Name: 0, dtype: object\n",
            "1\n",
            "['vbn', 'nn', 'nn', 'pos', 'nnp', 'vbn', 'vbd', 'in', 'in', 'dt', 'dt', 'dt', 'nn', 'vbp', 'nn', 'in', 'in', 'nnp', 'in', 'in', 'in', 'nn', 'in', 'in', 'pos', 'nns', 'nn', 'nn', 'nn', 'nn', 'nn', 'nn', '<PAD>', '<PAD>', '<PAD>', '<PAD>', '<PAD>', '<PAD>', '<PAD>', '<PAD>', '<PAD>', '<PAD>', '<PAD>', '<PAD>', '<PAD>', '<PAD>', '<PAD>', '<PAD>', '<PAD>', '<PAD>', '<PAD>', '<PAD>', '<PAD>', '<PAD>', '<PAD>', '<PAD>', '<PAD>', '<PAD>', '<PAD>', '<PAD>', '<PAD>', '<PAD>', '<PAD>', '<PAD>', '<PAD>', '<PAD>', '<PAD>', '<PAD>', '<PAD>', '<PAD>', '<PAD>', '<PAD>', '<PAD>', '<PAD>', '<PAD>', '<PAD>', '<PAD>', '<PAD>', '<PAD>', '<PAD>', '<PAD>', '<PAD>', '<PAD>', '<PAD>', '<PAD>', '<PAD>', '<PAD>', '<PAD>', '<PAD>', '<PAD>', '<PAD>', '<PAD>', '<PAD>', '<PAD>', '<PAD>', '<PAD>', '<PAD>', '<PAD>', '<PAD>', '<PAD>']\n",
            "100\n",
            "\n",
            "\n",
            "text    [Rockwell, said, the, agreement, calls, for, i...\n",
            "Name: 1, dtype: object\n",
            "1\n",
            "['vbn', 'vbd', 'dt', 'dt', 'nn', 'in', 'in', 'in', 'in', 'in', 'nn', 'nn', 'jj', 'in', 'dt', 'dt', 'dt', 'nn', 'nn', '<PAD>', '<PAD>', '<PAD>', '<PAD>', '<PAD>', '<PAD>', '<PAD>', '<PAD>', '<PAD>', '<PAD>', '<PAD>', '<PAD>', '<PAD>', '<PAD>', '<PAD>', '<PAD>', '<PAD>', '<PAD>', '<PAD>', '<PAD>', '<PAD>', '<PAD>', '<PAD>', '<PAD>', '<PAD>', '<PAD>', '<PAD>', '<PAD>', '<PAD>', '<PAD>', '<PAD>', '<PAD>', '<PAD>', '<PAD>', '<PAD>', '<PAD>', '<PAD>', '<PAD>', '<PAD>', '<PAD>', '<PAD>', '<PAD>', '<PAD>', '<PAD>', '<PAD>', '<PAD>', '<PAD>', '<PAD>', '<PAD>', '<PAD>', '<PAD>', '<PAD>', '<PAD>', '<PAD>', '<PAD>', '<PAD>', '<PAD>', '<PAD>', '<PAD>', '<PAD>', '<PAD>', '<PAD>', '<PAD>', '<PAD>', '<PAD>', '<PAD>', '<PAD>', '<PAD>', '<PAD>', '<PAD>', '<PAD>', '<PAD>', '<PAD>', '<PAD>', '<PAD>', '<PAD>', '<PAD>', '<PAD>', '<PAD>', '<PAD>', '<PAD>']\n",
            "100\n",
            "\n",
            "\n",
            "text    [These, include, among, other, parts, each, je...\n",
            "Name: 2, dtype: object\n",
            "1\n",
            "['in', 'prp', 'jj', 'in', 'nn', 'vbg', 'vbg', 'pos', 'in', 'nn', 'nn', 'dt', 'vbn', 'nnp', 'nnp', 'jj', 'vbd', 'nn', 'nn', 'in', 'in', 'nn', 'in', 'in', 'nn', 'in', 'nns', 'nns', 'nns', 'nns', 'nns', 'nns', '<PAD>', '<PAD>', '<PAD>', '<PAD>', '<PAD>', '<PAD>', '<PAD>', '<PAD>', '<PAD>', '<PAD>', '<PAD>', '<PAD>', '<PAD>', '<PAD>', '<PAD>', '<PAD>', '<PAD>', '<PAD>', '<PAD>', '<PAD>', '<PAD>', '<PAD>', '<PAD>', '<PAD>', '<PAD>', '<PAD>', '<PAD>', '<PAD>', '<PAD>', '<PAD>', '<PAD>', '<PAD>', '<PAD>', '<PAD>', '<PAD>', '<PAD>', '<PAD>', '<PAD>', '<PAD>', '<PAD>', '<PAD>', '<PAD>', '<PAD>', '<PAD>', '<PAD>', '<PAD>', '<PAD>', '<PAD>', '<PAD>', '<PAD>', '<PAD>', '<PAD>', '<PAD>', '<PAD>', '<PAD>', '<PAD>', '<PAD>', '<PAD>', '<PAD>', '<PAD>', '<PAD>', '<PAD>', '<PAD>', '<PAD>', '<PAD>', '<PAD>', '<PAD>', '<PAD>']\n",
            "100\n",
            "\n",
            "\n",
            "text    [Under, the, existing, contract, Rockwell, sai...\n",
            "Name: 3, dtype: object\n",
            "1\n",
            "['rb', 'dt', 'nn', 'nn', 'nn', 'vbd', 'in', 'prp$', 'nn', 'nn', 'nn', 'to', 'dt', 'jj', 'nn', 'nn', '<PAD>', '<PAD>', '<PAD>', '<PAD>', '<PAD>', '<PAD>', '<PAD>', '<PAD>', '<PAD>', '<PAD>', '<PAD>', '<PAD>', '<PAD>', '<PAD>', '<PAD>', '<PAD>', '<PAD>', '<PAD>', '<PAD>', '<PAD>', '<PAD>', '<PAD>', '<PAD>', '<PAD>', '<PAD>', '<PAD>', '<PAD>', '<PAD>', '<PAD>', '<PAD>', '<PAD>', '<PAD>', '<PAD>', '<PAD>', '<PAD>', '<PAD>', '<PAD>', '<PAD>', '<PAD>', '<PAD>', '<PAD>', '<PAD>', '<PAD>', '<PAD>', '<PAD>', '<PAD>', '<PAD>', '<PAD>', '<PAD>', '<PAD>', '<PAD>', '<PAD>', '<PAD>', '<PAD>', '<PAD>', '<PAD>', '<PAD>', '<PAD>', '<PAD>', '<PAD>', '<PAD>', '<PAD>', '<PAD>', '<PAD>', '<PAD>', '<PAD>', '<PAD>', '<PAD>', '<PAD>', '<PAD>', '<PAD>', '<PAD>', '<PAD>', '<PAD>', '<PAD>', '<PAD>', '<PAD>', '<PAD>', '<PAD>', '<PAD>', '<PAD>', '<PAD>', '<PAD>', '<PAD>']\n",
            "100\n",
            "\n",
            "\n",
            "text    [Rockwell, based, in, El, Segundo, Calif., is,...\n",
            "Name: 4, dtype: object\n",
            "1\n",
            "['vbn', 'cd', 'cc', 'cc', 'cd', 'nn', 'vbz', 'nnp', 'nnp', 'nn', 'nn', 'in', 'in', 'cd', '<PAD>', '<PAD>', '<PAD>', '<PAD>', '<PAD>', '<PAD>', '<PAD>', '<PAD>', '<PAD>', '<PAD>', '<PAD>', '<PAD>', '<PAD>', '<PAD>', '<PAD>', '<PAD>', '<PAD>', '<PAD>', '<PAD>', '<PAD>', '<PAD>', '<PAD>', '<PAD>', '<PAD>', '<PAD>', '<PAD>', '<PAD>', '<PAD>', '<PAD>', '<PAD>', '<PAD>', '<PAD>', '<PAD>', '<PAD>', '<PAD>', '<PAD>', '<PAD>', '<PAD>', '<PAD>', '<PAD>', '<PAD>', '<PAD>', '<PAD>', '<PAD>', '<PAD>', '<PAD>', '<PAD>', '<PAD>', '<PAD>', '<PAD>', '<PAD>', '<PAD>', '<PAD>', '<PAD>', '<PAD>', '<PAD>', '<PAD>', '<PAD>', '<PAD>', '<PAD>', '<PAD>', '<PAD>', '<PAD>', '<PAD>', '<PAD>', '<PAD>', '<PAD>', '<PAD>', '<PAD>', '<PAD>', '<PAD>', '<PAD>', '<PAD>', '<PAD>', '<PAD>', '<PAD>', '<PAD>', '<PAD>', '<PAD>', '<PAD>', '<PAD>', '<PAD>', '<PAD>', '<PAD>', '<PAD>', '<PAD>']\n",
            "100\n",
            "\n",
            "\n"
          ]
        }
      ]
    },
    {
      "cell_type": "code",
      "source": [
        "print(len(test_data))\n",
        "print(len(test_data[0]))\n",
        "print(len(sequences))\n",
        "print(len(sequences[0]))\n",
        "print(len(test_X_padded))\n",
        "print(len(test_X_padded[0]))\n",
        "\n",
        "print(len(rnn_output))\n",
        "print(len(rnn_output[0]))\n",
        "print(len(lstm_pred_sequences))\n",
        "print(len(lstm_pred_sequences[0]))"
      ],
      "metadata": {
        "colab": {
          "base_uri": "https://localhost:8080/"
        },
        "id": "NUaAATbXlkHv",
        "outputId": "2d044b7d-e8d0-487a-d9a6-6552e0571446"
      },
      "execution_count": null,
      "outputs": [
        {
          "output_type": "stream",
          "name": "stdout",
          "text": [
            "2012\n",
            "27\n",
            "2012\n",
            "27\n",
            "2012\n",
            "100\n",
            "2012\n",
            "100\n",
            "2012\n",
            "100\n"
          ]
        }
      ]
    },
    {
      "cell_type": "code",
      "source": [
        "gru_output = gru_model.predict(test_X_padded)\n",
        "gru_pred_sequences = []\n",
        "for i in range(len(gru_output)):\n",
        "    pred_tags = [tag_tokenizer.index_word[np.argmax(p)] for p in gru_output[i]]\n",
        "    gru_pred_sequences.append(pred_tags)\n",
        "for i in range(5):\n",
        "  print(test_df.iloc[i])\n",
        "  print(len(test_df.iloc[i]))\n",
        "  print(gru_pred_sequences[i])\n",
        "  print(len(gru_pred_sequences[i]))\n",
        "  print(\"\\n\")"
      ],
      "metadata": {
        "colab": {
          "base_uri": "https://localhost:8080/"
        },
        "id": "nhO_TEmw-3XN",
        "outputId": "3974c842-0735-4b85-ead8-fe4cf88d913d"
      },
      "execution_count": null,
      "outputs": [
        {
          "output_type": "stream",
          "name": "stdout",
          "text": [
            "63/63 [==============================] - 0s 3ms/step\n",
            "text    [Rockwell, International, Corp., 's, Tulsa, un...\n",
            "Name: 0, dtype: object\n",
            "1\n",
            "['vbn', 'nn', '(', 'pos', 'nnp', 'vbn', 'vbd', 'vbd', 'vbd', 'dt', 'dt', 'nn', 'nn', 'vbp', 'nnp', 'in', 'vbn', 'nnp', 'nnp', 'nn', 'nnp', 'nn', 'in', 'in', 'pos', 'pos', 'nn', 'nn', 'nn', '<PAD>', '<PAD>', '<PAD>', '<PAD>', '<PAD>', '<PAD>', '<PAD>', '<PAD>', '<PAD>', '<PAD>', '<PAD>', '<PAD>', '<PAD>', '<PAD>', '<PAD>', '<PAD>', '<PAD>', '<PAD>', '<PAD>', '<PAD>', '<PAD>', '<PAD>', '<PAD>', '<PAD>', '<PAD>', '<PAD>', '<PAD>', '<PAD>', '<PAD>', '<PAD>', '<PAD>', '<PAD>', '<PAD>', '<PAD>', '<PAD>', '<PAD>', '<PAD>', '<PAD>', '<PAD>', '<PAD>', '<PAD>', '<PAD>', '<PAD>', '<PAD>', '<PAD>', '<PAD>', '<PAD>', '<PAD>', '<PAD>', '<PAD>', '<PAD>', '<PAD>', '<PAD>', '<PAD>', '<PAD>', '<PAD>', '<PAD>', '<PAD>', '<PAD>', '<PAD>', '<PAD>', '<PAD>', '<PAD>', '<PAD>', '<PAD>', '<PAD>', '<PAD>', '<PAD>', '<PAD>', '<PAD>', '<PAD>']\n",
            "100\n",
            "\n",
            "\n",
            "text    [Rockwell, said, the, agreement, calls, for, i...\n",
            "Name: 1, dtype: object\n",
            "1\n",
            "['vbn', 'vbd', 'dt', 'dt', 'nn', 'in', 'in', 'in', 'in', 'in', 'nn', 'nn', 'jj', 'in', 'dt', 'dt', 'dt', 'dt', '<PAD>', '<PAD>', '<PAD>', '<PAD>', '<PAD>', '<PAD>', '<PAD>', '<PAD>', '<PAD>', '<PAD>', '<PAD>', '<PAD>', '<PAD>', '<PAD>', '<PAD>', '<PAD>', '<PAD>', '<PAD>', '<PAD>', '<PAD>', '<PAD>', '<PAD>', '<PAD>', '<PAD>', '<PAD>', '<PAD>', '<PAD>', '<PAD>', '<PAD>', '<PAD>', '<PAD>', '<PAD>', '<PAD>', '<PAD>', '<PAD>', '<PAD>', '<PAD>', '<PAD>', '<PAD>', '<PAD>', '<PAD>', '<PAD>', '<PAD>', '<PAD>', '<PAD>', '<PAD>', '<PAD>', '<PAD>', '<PAD>', '<PAD>', '<PAD>', '<PAD>', '<PAD>', '<PAD>', '<PAD>', '<PAD>', '<PAD>', '<PAD>', '<PAD>', '<PAD>', '<PAD>', '<PAD>', '<PAD>', '<PAD>', '<PAD>', '<PAD>', '<PAD>', '<PAD>', '<PAD>', '<PAD>', '<PAD>', '<PAD>', '<PAD>', '<PAD>', '<PAD>', '<PAD>', '<PAD>', '<PAD>', '<PAD>', '<PAD>', '<PAD>', '<PAD>']\n",
            "100\n",
            "\n",
            "\n",
            "text    [These, include, among, other, parts, each, je...\n",
            "Name: 2, dtype: object\n",
            "1\n",
            "['in', 'prp', 'jj', 'in', 'nn', 'nn', 'nn', 'pos', 'in', 'nn', 'nn', 'dt', 'vbn', 'nnp', 'nnp', 'jj', 'vbd', 'nn', 'nn', 'in', 'dt', 'dt', 'in', 'nnp', 'nn', 'nnp', 'nn', 'nn', '<PAD>', '<PAD>', '<PAD>', '<PAD>', '<PAD>', '<PAD>', '<PAD>', '<PAD>', '<PAD>', '<PAD>', '<PAD>', '<PAD>', '<PAD>', '<PAD>', '<PAD>', '<PAD>', '<PAD>', '<PAD>', '<PAD>', '<PAD>', '<PAD>', '<PAD>', '<PAD>', '<PAD>', '<PAD>', '<PAD>', '<PAD>', '<PAD>', '<PAD>', '<PAD>', '<PAD>', '<PAD>', '<PAD>', '<PAD>', '<PAD>', '<PAD>', '<PAD>', '<PAD>', '<PAD>', '<PAD>', '<PAD>', '<PAD>', '<PAD>', '<PAD>', '<PAD>', '<PAD>', '<PAD>', '<PAD>', '<PAD>', '<PAD>', '<PAD>', '<PAD>', '<PAD>', '<PAD>', '<PAD>', '<PAD>', '<PAD>', '<PAD>', '<PAD>', '<PAD>', '<PAD>', '<PAD>', '<PAD>', '<PAD>', '<PAD>', '<PAD>', '<PAD>', '<PAD>', '<PAD>', '<PAD>', '<PAD>', '<PAD>']\n",
            "100\n",
            "\n",
            "\n",
            "text    [Under, the, existing, contract, Rockwell, sai...\n",
            "Name: 3, dtype: object\n",
            "1\n",
            "['rb', 'dt', 'nn', 'nnp', 'vbn', 'vbd', 'in', 'prp$', 'nn', 'nn', 'nn', 'to', 'dt', 'jj', 'in', 'vbn', 'in', '<PAD>', '<PAD>', '<PAD>', '<PAD>', '<PAD>', '<PAD>', '<PAD>', '<PAD>', '<PAD>', '<PAD>', '<PAD>', '<PAD>', '<PAD>', '<PAD>', '<PAD>', '<PAD>', '<PAD>', '<PAD>', '<PAD>', '<PAD>', '<PAD>', '<PAD>', '<PAD>', '<PAD>', '<PAD>', '<PAD>', '<PAD>', '<PAD>', '<PAD>', '<PAD>', '<PAD>', '<PAD>', '<PAD>', '<PAD>', '<PAD>', '<PAD>', '<PAD>', '<PAD>', '<PAD>', '<PAD>', '<PAD>', '<PAD>', '<PAD>', '<PAD>', '<PAD>', '<PAD>', '<PAD>', '<PAD>', '<PAD>', '<PAD>', '<PAD>', '<PAD>', '<PAD>', '<PAD>', '<PAD>', '<PAD>', '<PAD>', '<PAD>', '<PAD>', '<PAD>', '<PAD>', '<PAD>', '<PAD>', '<PAD>', '<PAD>', '<PAD>', '<PAD>', '<PAD>', '<PAD>', '<PAD>', '<PAD>', '<PAD>', '<PAD>', '<PAD>', '<PAD>', '<PAD>', '<PAD>', '<PAD>', '<PAD>', '<PAD>', '<PAD>', '<PAD>', '<PAD>']\n",
            "100\n",
            "\n",
            "\n",
            "text    [Rockwell, based, in, El, Segundo, Calif., is,...\n",
            "Name: 4, dtype: object\n",
            "1\n",
            "['vbn', 'cd', 'cc', 'cc', 'cd', 'nn', 'vbz', 'nnp', 'nnp', 'nn', 'nn', 'in', 'in', 'cd', '<PAD>', '<PAD>', '<PAD>', '<PAD>', '<PAD>', '<PAD>', '<PAD>', '<PAD>', '<PAD>', '<PAD>', '<PAD>', '<PAD>', '<PAD>', '<PAD>', '<PAD>', '<PAD>', '<PAD>', '<PAD>', '<PAD>', '<PAD>', '<PAD>', '<PAD>', '<PAD>', '<PAD>', '<PAD>', '<PAD>', '<PAD>', '<PAD>', '<PAD>', '<PAD>', '<PAD>', '<PAD>', '<PAD>', '<PAD>', '<PAD>', '<PAD>', '<PAD>', '<PAD>', '<PAD>', '<PAD>', '<PAD>', '<PAD>', '<PAD>', '<PAD>', '<PAD>', '<PAD>', '<PAD>', '<PAD>', '<PAD>', '<PAD>', '<PAD>', '<PAD>', '<PAD>', '<PAD>', '<PAD>', '<PAD>', '<PAD>', '<PAD>', '<PAD>', '<PAD>', '<PAD>', '<PAD>', '<PAD>', '<PAD>', '<PAD>', '<PAD>', '<PAD>', '<PAD>', '<PAD>', '<PAD>', '<PAD>', '<PAD>', '<PAD>', '<PAD>', '<PAD>', '<PAD>', '<PAD>', '<PAD>', '<PAD>', '<PAD>', '<PAD>', '<PAD>', '<PAD>', '<PAD>', '<PAD>', '<PAD>']\n",
            "100\n",
            "\n",
            "\n"
          ]
        }
      ]
    },
    {
      "cell_type": "code",
      "source": [
        "bidirect_output = bidirect_model.predict(test_X_padded)\n",
        "bidirect_pred_sequences = []\n",
        "for i in range(len(bidirect_output)):\n",
        "    pred_tags = [tag_tokenizer.index_word[np.argmax(p)] for p in bidirect_output[i]]\n",
        "    bidirect_pred_sequences.append(pred_tags)\n",
        "for i in range(5):\n",
        "  print(test_df.iloc[i])\n",
        "  print(len(test_df.iloc[i]))\n",
        "  print(bidirect_pred_sequences[i])\n",
        "  print(len(bidirect_pred_sequences[i]))\n",
        "  print(\"\\n\")"
      ],
      "metadata": {
        "colab": {
          "base_uri": "https://localhost:8080/"
        },
        "id": "JOJLt4ZT_PxD",
        "outputId": "04506bcd-f24b-41b6-f8c2-8dc729736efb"
      },
      "execution_count": null,
      "outputs": [
        {
          "output_type": "stream",
          "name": "stdout",
          "text": [
            "63/63 [==============================] - 1s 5ms/step\n",
            "text    [Rockwell, International, Corp., 's, Tulsa, un...\n",
            "Name: 0, dtype: object\n",
            "1\n",
            "['vbd', 'nn', 'nnp', 'pos', 'nnp', 'vbn', 'vbd', 'in', 'rb', 'dt', 'dt', 'dt', 'nn', 'vbp', 'nnp', 'in', 'vbn', 'nnp', 'in', 'in', 'in', 'nn', 'in', 'in', 'pos', 'in', 'nn', 'nn', 'nn', 'nn', '<PAD>', '<PAD>', '<PAD>', '<PAD>', '<PAD>', '<PAD>', '<PAD>', '<PAD>', '<PAD>', '<PAD>', '<PAD>', '<PAD>', '<PAD>', '<PAD>', '<PAD>', '<PAD>', '<PAD>', '<PAD>', '<PAD>', '<PAD>', '<PAD>', '<PAD>', '<PAD>', '<PAD>', '<PAD>', '<PAD>', '<PAD>', '<PAD>', '<PAD>', '<PAD>', '<PAD>', '<PAD>', '<PAD>', '<PAD>', '<PAD>', '<PAD>', '<PAD>', '<PAD>', '<PAD>', '<PAD>', '<PAD>', '<PAD>', '<PAD>', '<PAD>', '<PAD>', '<PAD>', '<PAD>', '<PAD>', '<PAD>', '<PAD>', '<PAD>', '<PAD>', '<PAD>', '<PAD>', '<PAD>', '<PAD>', '<PAD>', '<PAD>', '<PAD>', '<PAD>', '<PAD>', '<PAD>', '<PAD>', '<PAD>', '<PAD>', '<PAD>', '<PAD>', '<PAD>', '<PAD>', '<PAD>']\n",
            "100\n",
            "\n",
            "\n",
            "text    [Rockwell, said, the, agreement, calls, for, i...\n",
            "Name: 1, dtype: object\n",
            "1\n",
            "['vbd', 'vbd', 'dt', 'dt', 'nn', 'in', 'in', 'in', 'in', 'in', 'nn', 'vbg', 'jj', 'in', 'dt', 'dt', 'nn', '<PAD>', '<PAD>', '<PAD>', '<PAD>', '<PAD>', '<PAD>', '<PAD>', '<PAD>', '<PAD>', '<PAD>', '<PAD>', '<PAD>', '<PAD>', '<PAD>', '<PAD>', '<PAD>', '<PAD>', '<PAD>', '<PAD>', '<PAD>', '<PAD>', '<PAD>', '<PAD>', '<PAD>', '<PAD>', '<PAD>', '<PAD>', '<PAD>', '<PAD>', '<PAD>', '<PAD>', '<PAD>', '<PAD>', '<PAD>', '<PAD>', '<PAD>', '<PAD>', '<PAD>', '<PAD>', '<PAD>', '<PAD>', '<PAD>', '<PAD>', '<PAD>', '<PAD>', '<PAD>', '<PAD>', '<PAD>', '<PAD>', '<PAD>', '<PAD>', '<PAD>', '<PAD>', '<PAD>', '<PAD>', '<PAD>', '<PAD>', '<PAD>', '<PAD>', '<PAD>', '<PAD>', '<PAD>', '<PAD>', '<PAD>', '<PAD>', '<PAD>', '<PAD>', '<PAD>', '<PAD>', '<PAD>', '<PAD>', '<PAD>', '<PAD>', '<PAD>', '<PAD>', '<PAD>', '<PAD>', '<PAD>', '<PAD>', '<PAD>', '<PAD>', '<PAD>', '<PAD>']\n",
            "100\n",
            "\n",
            "\n",
            "text    [These, include, among, other, parts, each, je...\n",
            "Name: 2, dtype: object\n",
            "1\n",
            "['in', 'prp', 'jj', 'in', 'in', 'in', 'nn', 'pos', 'in', 'nn', 'nn', 'dt', 'vbn', 'nn', 'nnp', 'jj', 'vbn', 'nn', 'nn', 'in', 'dt', 'dt', 'in', 'in', 'nn', 'in', 'nns', '<PAD>', '<PAD>', '<PAD>', '<PAD>', '<PAD>', '<PAD>', '<PAD>', '<PAD>', '<PAD>', '<PAD>', '<PAD>', '<PAD>', '<PAD>', '<PAD>', '<PAD>', '<PAD>', '<PAD>', '<PAD>', '<PAD>', '<PAD>', '<PAD>', '<PAD>', '<PAD>', '<PAD>', '<PAD>', '<PAD>', '<PAD>', '<PAD>', '<PAD>', '<PAD>', '<PAD>', '<PAD>', '<PAD>', '<PAD>', '<PAD>', '<PAD>', '<PAD>', '<PAD>', '<PAD>', '<PAD>', '<PAD>', '<PAD>', '<PAD>', '<PAD>', '<PAD>', '<PAD>', '<PAD>', '<PAD>', '<PAD>', '<PAD>', '<PAD>', '<PAD>', '<PAD>', '<PAD>', '<PAD>', '<PAD>', '<PAD>', '<PAD>', '<PAD>', '<PAD>', '<PAD>', '<PAD>', '<PAD>', '<PAD>', '<PAD>', '<PAD>', '<PAD>', '<PAD>', '<PAD>', '<PAD>', '<PAD>', '<PAD>', '<PAD>']\n",
            "100\n",
            "\n",
            "\n",
            "text    [Under, the, existing, contract, Rockwell, sai...\n",
            "Name: 3, dtype: object\n",
            "1\n",
            "['rb', 'dt', 'nn', 'nnp', 'vbd', 'vbd', 'in', 'prp$', 'nn', 'nn', 'nn', 'to', 'dt', 'jj', 'in', 'in', '<PAD>', '<PAD>', '<PAD>', '<PAD>', '<PAD>', '<PAD>', '<PAD>', '<PAD>', '<PAD>', '<PAD>', '<PAD>', '<PAD>', '<PAD>', '<PAD>', '<PAD>', '<PAD>', '<PAD>', '<PAD>', '<PAD>', '<PAD>', '<PAD>', '<PAD>', '<PAD>', '<PAD>', '<PAD>', '<PAD>', '<PAD>', '<PAD>', '<PAD>', '<PAD>', '<PAD>', '<PAD>', '<PAD>', '<PAD>', '<PAD>', '<PAD>', '<PAD>', '<PAD>', '<PAD>', '<PAD>', '<PAD>', '<PAD>', '<PAD>', '<PAD>', '<PAD>', '<PAD>', '<PAD>', '<PAD>', '<PAD>', '<PAD>', '<PAD>', '<PAD>', '<PAD>', '<PAD>', '<PAD>', '<PAD>', '<PAD>', '<PAD>', '<PAD>', '<PAD>', '<PAD>', '<PAD>', '<PAD>', '<PAD>', '<PAD>', '<PAD>', '<PAD>', '<PAD>', '<PAD>', '<PAD>', '<PAD>', '<PAD>', '<PAD>', '<PAD>', '<PAD>', '<PAD>', '<PAD>', '<PAD>', '<PAD>', '<PAD>', '<PAD>', '<PAD>', '<PAD>', '<PAD>']\n",
            "100\n",
            "\n",
            "\n",
            "text    [Rockwell, based, in, El, Segundo, Calif., is,...\n",
            "Name: 4, dtype: object\n",
            "1\n",
            "['vbn', 'cd', 'cc', 'cc', 'cd', 'nn', 'vbz', 'nnp', 'nnp', 'nn', 'jjr', 'in', 'in', 'cd', '<PAD>', '<PAD>', '<PAD>', '<PAD>', '<PAD>', '<PAD>', '<PAD>', '<PAD>', '<PAD>', '<PAD>', '<PAD>', '<PAD>', '<PAD>', '<PAD>', '<PAD>', '<PAD>', '<PAD>', '<PAD>', '<PAD>', '<PAD>', '<PAD>', '<PAD>', '<PAD>', '<PAD>', '<PAD>', '<PAD>', '<PAD>', '<PAD>', '<PAD>', '<PAD>', '<PAD>', '<PAD>', '<PAD>', '<PAD>', '<PAD>', '<PAD>', '<PAD>', '<PAD>', '<PAD>', '<PAD>', '<PAD>', '<PAD>', '<PAD>', '<PAD>', '<PAD>', '<PAD>', '<PAD>', '<PAD>', '<PAD>', '<PAD>', '<PAD>', '<PAD>', '<PAD>', '<PAD>', '<PAD>', '<PAD>', '<PAD>', '<PAD>', '<PAD>', '<PAD>', '<PAD>', '<PAD>', '<PAD>', '<PAD>', '<PAD>', '<PAD>', '<PAD>', '<PAD>', '<PAD>', '<PAD>', '<PAD>', '<PAD>', '<PAD>', '<PAD>', '<PAD>', '<PAD>', '<PAD>', '<PAD>', '<PAD>', '<PAD>', '<PAD>', '<PAD>', '<PAD>', '<PAD>', '<PAD>', '<PAD>']\n",
            "100\n",
            "\n",
            "\n"
          ]
        }
      ]
    },
    {
      "cell_type": "markdown",
      "source": [
        "Writing to file"
      ],
      "metadata": {
        "id": "mW8F75GILp-Q"
      }
    },
    {
      "cell_type": "code",
      "source": [
        "nr = len(test_data)\n",
        "with open('/content/drive/MyDrive/dataset/labeled_test_dataset_lstm.txt', 'w') as f:\n",
        "  for i in range(nr):\n",
        "    nc = len(test_data[i])\n",
        "    for j in range(nc):\n",
        "      if test_data[i][j]!=\"<PAD>\":\n",
        "        f.write(str(test_data[i][j])+\" \" + str(lstm_pred_sequences[i][j] ))\n",
        "        f.write(\"\\n\")"
      ],
      "metadata": {
        "id": "ohj1LRlPLfaa"
      },
      "execution_count": null,
      "outputs": []
    },
    {
      "cell_type": "code",
      "source": [
        "nr = len(test_data)\n",
        "with open('/content/drive/MyDrive/dataset/labeled_test_dataset_rnn.txt', 'w') as f:\n",
        "  for i in range(nr):\n",
        "    nc = len(test_data[i])\n",
        "    for j in range(nc):\n",
        "      if test_data[i][j]!=\"<PAD>\":\n",
        "        f.write(str(test_data[i][j])+\" \" + str(rnn_pred_sequences[i][j] ))\n",
        "        f.write(\"\\n\")"
      ],
      "metadata": {
        "id": "ILeOyl1g_8dj"
      },
      "execution_count": null,
      "outputs": []
    },
    {
      "cell_type": "code",
      "source": [
        "nr = len(test_data)\n",
        "with open('/content/drive/MyDrive/dataset/labeled_test_dataset_gru.txt', 'w') as f:\n",
        "  for i in range(nr):\n",
        "    nc = len(test_data[i])\n",
        "    for j in range(nc):\n",
        "      if test_data[i][j]!=\"<PAD>\":\n",
        "        f.write(str(test_data[i][j])+\" \" + str(gru_pred_sequences[i][j] ))\n",
        "        f.write(\"\\n\")"
      ],
      "metadata": {
        "id": "LSPcWSUzAAYB"
      },
      "execution_count": null,
      "outputs": []
    },
    {
      "cell_type": "code",
      "source": [
        "nr = len(test_data)\n",
        "with open('/content/drive/MyDrive/dataset/labeled_test_dataset_bidirect.txt', 'w') as f:\n",
        "  for i in range(nr):\n",
        "    nc = len(test_data[i])\n",
        "    for j in range(nc):\n",
        "      if test_data[i][j]!=\"<PAD>\":\n",
        "        f.write(str(test_data[i][j])+\" \" + str(bidirect_pred_sequences[i][j] ))\n",
        "        f.write(\"\\n\")"
      ],
      "metadata": {
        "id": "tM0gQUpuAD8s"
      },
      "execution_count": null,
      "outputs": []
    },
    {
      "cell_type": "code",
      "source": [
        "lstm = {}\n",
        "rnn = {}\n",
        "bidirect = {}\n",
        "gru = {}\n",
        "hmm = {}\n",
        "logistic = {}\n",
        "\n",
        "for i in tag_to_id.keys():\n",
        "  lstm[i.lower()] = 0\n",
        "  rnn[i.lower()] = 0\n",
        "  bidirect[i.lower()] = 0\n",
        "  gru[i.lower()] = 0\n",
        "  hmm[i.lower()] = 0\n",
        "  logistic[i.lower()] = 0\n",
        "\n",
        "file1 = open('/content/drive/MyDrive/dataset/labeled_test_dataset_lstm.txt', 'r')\n",
        "lines = file1.readlines()\n",
        "\n",
        "for i in lines:\n",
        "  tag = i.split(\" \")[1].strip(\"\\n\")\n",
        "  if tag in lstm.keys():\n",
        "    lstm[tag]+=1\n",
        "\n",
        "\n",
        "file1 = open('/content/drive/MyDrive/dataset/labeled_test_dataset_rnn.txt', 'r')\n",
        "lines = file1.readlines()\n",
        "\n",
        "for i in lines:\n",
        "  tag = i.split(\" \")[1].strip(\"\\n\")\n",
        "  if tag in rnn.keys():\n",
        "    rnn[tag]+=1\n",
        "\n",
        "\n",
        "file1 = open('/content/drive/MyDrive/dataset/labeled_test_dataset_gru.txt', 'r')\n",
        "lines = file1.readlines()\n",
        "\n",
        "for i in lines:\n",
        "  tag = i.split(\" \")[1].strip(\"\\n\")\n",
        "  if tag in gru.keys():\n",
        "    gru[tag]+=1\n",
        "\n",
        "\n",
        "file1 = open('/content/drive/MyDrive/dataset/labeled_test_dataset_bidirect.txt', 'r')\n",
        "lines = file1.readlines()\n",
        "\n",
        "for i in lines:\n",
        "  tag = i.split(\" \")[1].strip(\"\\n\")\n",
        "  if tag in bidirect.keys():\n",
        "    bidirect[tag]+=1\n",
        "\n",
        "    \n",
        "waste = []\n",
        "for i in lstm.keys():\n",
        "  if lstm[i]<100:\n",
        "    waste.append(i)\n",
        "for i in waste:\n",
        "  del lstm[i]\n",
        "  del bidirect[i]\n",
        "  del rnn[i]\n",
        "  del gru[i]\n",
        "  del hmm[i]\n",
        "  del logistic[i]\n",
        "\n",
        "print(rnn)\n",
        "print(lstm)\n",
        "print(gru)\n",
        "print(bidirect)"
      ],
      "metadata": {
        "colab": {
          "base_uri": "https://localhost:8080/"
        },
        "id": "wWSmzSE7OvAa",
        "outputId": "a46a6742-681e-4ae9-d917-59c58319ff08"
      },
      "execution_count": null,
      "outputs": [
        {
          "output_type": "stream",
          "name": "stdout",
          "text": [
            "{'nn': 8220, 'in': 6849, 'dt': 4618, 'vbz': 867, 'rb': 1180, 'vbn': 682, 'to': 1461, 'vb': 758, 'jj': 2148, 'nns': 2812, 'nnp': 3922, 'cc': 1420, 'pos': 387, 'vbp': 291, 'vbg': 120, 'prp$': 371, 'cd': 1310, '``': 295, \"''\": 264, 'vbd': 1371, 'md': 426, '$': 335, 'prp': 693, ':': 152}\n",
            "{'nn': 7866, 'in': 6412, 'dt': 4632, 'vbz': 709, 'rb': 1192, 'vbn': 417, 'to': 1114, 'vb': 658, 'jj': 2783, 'nns': 3337, 'nnp': 3949, 'cc': 1756, 'pos': 402, 'vbp': 481, 'vbg': 203, 'prp$': 406, 'cd': 1671, '``': 329, \"''\": 214, 'vbd': 1540, 'md': 365, '$': 327, 'prp': 796, ':': 127}\n",
            "{'nn': 7028, 'in': 6637, 'dt': 4744, 'vbz': 793, 'rb': 1398, 'vbn': 633, 'to': 1566, 'vb': 647, 'jj': 2181, 'nns': 2812, 'nnp': 4103, 'cc': 1456, 'pos': 436, 'vbp': 468, 'vbg': 34, 'prp$': 422, 'cd': 1707, '``': 325, \"''\": 320, 'vbd': 1515, 'md': 430, '$': 447, 'prp': 927, ':': 117}\n",
            "{'nn': 7911, 'in': 6801, 'dt': 4442, 'vbz': 758, 'rb': 1388, 'vbn': 620, 'to': 1185, 'vb': 641, 'jj': 2757, 'nns': 2845, 'nnp': 3906, 'cc': 1239, 'pos': 422, 'vbp': 449, 'vbg': 291, 'prp$': 401, 'cd': 1408, '``': 308, \"''\": 212, 'vbd': 1387, 'md': 435, '$': 315, 'prp': 740, ':': 147}\n"
          ]
        }
      ]
    },
    {
      "cell_type": "code",
      "source": [
        "plt.rcParams[\"figure.figsize\"] = (15,5)\n",
        "plt.bar(range(len(lstm)), lstm.values(), tick_label=lstm.keys())\n",
        "plt.xticks(range(len(lstm)), list(lstm.keys()))\n",
        "plt.show()"
      ],
      "metadata": {
        "colab": {
          "base_uri": "https://localhost:8080/",
          "height": 320
        },
        "id": "kWsGu6ksRMTH",
        "outputId": "720c1f2a-428f-4600-b8c8-9371453270ad"
      },
      "execution_count": null,
      "outputs": [
        {
          "output_type": "display_data",
          "data": {
            "text/plain": [
              "<Figure size 1080x360 with 1 Axes>"
            ],
            "image/png": "[encoded data removed]"
          },
          "metadata": {
            "needs_background": "light"
          }
        }
      ]
    },
    {
      "cell_type": "code",
      "source": [
        "plt.bar(range(len(rnn)), rnn.values(), tick_label=rnn.keys())\n",
        "plt.xticks(range(len(rnn)), list(rnn.keys()))\n",
        "plt.show()"
      ],
      "metadata": {
        "colab": {
          "base_uri": "https://localhost:8080/",
          "height": 320
        },
        "id": "U_vhGmo1UcFZ",
        "outputId": "7033b695-6e8c-4eb9-ff16-ebcec3c3f104"
      },
      "execution_count": null,
      "outputs": [
        {
          "output_type": "display_data",
          "data": {
            "text/plain": [
              "<Figure size 1080x360 with 1 Axes>"
            ],
            "image/png": "[encoded data removed]"
          },
          "metadata": {
            "needs_background": "light"
          }
        }
      ]
    },
    {
      "cell_type": "code",
      "source": [
        "plt.bar(range(len(gru)), gru.values(), tick_label=gru.keys())\n",
        "plt.xticks(range(len(gru)), list(gru.keys()))\n",
        "plt.show()"
      ],
      "metadata": {
        "colab": {
          "base_uri": "https://localhost:8080/",
          "height": 320
        },
        "id": "DUXaKMdrUi0W",
        "outputId": "46e7e284-7df1-4b12-e855-8d48b1f4d285"
      },
      "execution_count": null,
      "outputs": [
        {
          "output_type": "display_data",
          "data": {
            "text/plain": [
              "<Figure size 1080x360 with 1 Axes>"
            ],
            "image/png": "[encoded data removed]"
          },
          "metadata": {
            "needs_background": "light"
          }
        }
      ]
    },
    {
      "cell_type": "code",
      "source": [
        "plt.bar(range(len(bidirect)), bidirect.values(), tick_label=bidirect.keys())\n",
        "plt.xticks(range(len(bidirect)), list(bidirect.keys()))\n",
        "plt.show()"
      ],
      "metadata": {
        "colab": {
          "base_uri": "https://localhost:8080/",
          "height": 320
        },
        "id": "uxufqUBuUpGL",
        "outputId": "c2bf708c-8df8-4a0f-8001-1530500cf535"
      },
      "execution_count": null,
      "outputs": [
        {
          "output_type": "display_data",
          "data": {
            "text/plain": [
              "<Figure size 1080x360 with 1 Axes>"
            ],
            "image/png": "[encoded data removed]"
          },
          "metadata": {
            "needs_background": "light"
          }
        }
      ]
    },
    {
      "cell_type": "code",
      "source": [
        "file1 = open('/content/drive/MyDrive/dataset/labeled_test_data_hmm.txt', 'r')\n",
        "lines = file1.readlines()\n",
        "\n",
        "for i in lines:\n",
        "  tag = i.split(\" \")[1].strip(\"\\n\").lower()\n",
        "  if tag in hmm.keys():\n",
        "    hmm[tag]+=1\n",
        "print(hmm)"
      ],
      "metadata": {
        "colab": {
          "base_uri": "https://localhost:8080/"
        },
        "id": "9-qCu-sY_-oZ",
        "outputId": "3bbecc41-06b7-4454-ef94-faa52d19a843"
      },
      "execution_count": null,
      "outputs": [
        {
          "output_type": "stream",
          "name": "stdout",
          "text": [
            "{'nn': 4851, 'in': 5008, 'dt': 3193, 'vbz': 730, 'rb': 1042, 'vbn': 758, 'to': 784, 'vb': 903, 'jj': 2032, 'nns': 2074, 'nnp': 3676, 'cc': 826, 'pos': 330, 'vbp': 416, 'vbg': 483, 'prp$': 323, 'cd': 1111, '``': 257, \"''\": 240, 'vbd': 1142, 'md': 356, '$': 316, 'prp': 648, ':': 140}\n"
          ]
        }
      ]
    },
    {
      "cell_type": "code",
      "source": [
        "plt.bar(range(len(hmm)), hmm.values(), tick_label=hmm.keys())\n",
        "plt.xticks(range(len(hmm)), list(hmm.keys()))\n",
        "plt.show()"
      ],
      "metadata": {
        "colab": {
          "base_uri": "https://localhost:8080/",
          "height": 320
        },
        "id": "fJqg0vW7BmFF",
        "outputId": "0c19baf9-3580-4798-965b-8d788748bf9d"
      },
      "execution_count": null,
      "outputs": [
        {
          "output_type": "display_data",
          "data": {
            "text/plain": [
              "<Figure size 1080x360 with 1 Axes>"
            ],
            "image/png": "[encoded data removed]"
          },
          "metadata": {
            "needs_background": "light"
          }
        }
      ]
    },
    {
      "cell_type": "code",
      "source": [
        "X = np.arange(len(lstm))\n",
        "plt.rcParams[\"figure.figsize\"] = (20,5)\n",
        "ax = plt.subplot(111)\n",
        "\n",
        "ax.bar(X, lstm.values(), width=0.2, color='b', align='center')\n",
        "ax.bar(X-0.2, rnn.values(), width=0.2, color='g', align='center')\n",
        "ax.bar(X-0.4, gru.values(), width=0.2, color='r', align='center')\n",
        "ax.bar(X-0.6, bidirect.values(), width=0.2, color='y', align='center')\n",
        "\n",
        "ax.legend(('lstm','rnn','gru','bidirect', 'hmm'))\n",
        "plt.xticks(X, lstm.keys())\n",
        "plt.title(\"POS Tags Distribution\", fontsize=17)\n",
        "plt.show()"
      ],
      "metadata": {
        "colab": {
          "base_uri": "https://localhost:8080/",
          "height": 339
        },
        "id": "I7V_cy1qVPv_",
        "outputId": "f6659e63-70ef-4ef8-f203-dec2da7b237f"
      },
      "execution_count": null,
      "outputs": [
        {
          "output_type": "display_data",
          "data": {
            "text/plain": [
              "<Figure size 1440x360 with 1 Axes>"
            ],
            "image/png": "[encoded data removed]"
          },
          "metadata": {
            "needs_background": "light"
          }
        }
      ]
    },
    {
      "cell_type": "code",
      "source": [
        "file1 = open('/content/drive/MyDrive/dataset/labeled_test_dataset_logistic.txt', 'r')\n",
        "lines = file1.readlines()\n",
        "\n",
        "for i in lines:\n",
        "  tag = i.split(\" \")[1].strip(\"\\n\").lower()\n",
        "  if tag in logistic.keys():\n",
        "    logistic[tag]+=1\n",
        "print(logistic)"
      ],
      "metadata": {
        "colab": {
          "base_uri": "https://localhost:8080/"
        },
        "id": "ufoGOJEe6TWr",
        "outputId": "762b2c32-e855-432b-a6c5-0a9f44d57f59"
      },
      "execution_count": null,
      "outputs": [
        {
          "output_type": "stream",
          "name": "stdout",
          "text": [
            "{'nn': 5232, 'in': 15299, 'dt': 4493, 'vbz': 0, 'rb': 0, 'vbn': 0, 'to': 0, 'vb': 0, 'jj': 0, 'nns': 0, 'nnp': 4254, 'cc': 2357, 'pos': 0, 'vbp': 0, 'vbg': 0, 'prp$': 0, 'cd': 0, '``': 6963, \"''\": 0, 'vbd': 0, 'md': 0, '$': 0, 'prp': 0, ':': 0}\n"
          ]
        }
      ]
    },
    {
      "cell_type": "code",
      "source": [
        "X = np.arange(len(lstm))\n",
        "plt.rcParams[\"figure.figsize\"] = (20,5)\n",
        "ax = plt.subplot(111)\n",
        "\n",
        "ax.bar(X, lstm.values(), width=0.2, color='b', align='center')\n",
        "ax.bar(X+0.2, hmm.values(), width=0.2, color='g', align='center')\n",
        "ax.bar(X+0.4, logistic.values(), width=0.2, color='r', align='center')\n",
        "\n",
        "ax.legend(('lstm', 'hmm', 'logistic'))\n",
        "plt.xticks(X, lstm.keys())\n",
        "plt.title(\"LSTM, HMM and Logistic Comparison\", fontsize=17)\n",
        "plt.show()"
      ],
      "metadata": {
        "colab": {
          "base_uri": "https://localhost:8080/",
          "height": 337
        },
        "id": "HL2E7ARlFQcF",
        "outputId": "8214d1ae-04da-41ba-d1ae-12d848ce43c7"
      },
      "execution_count": null,
      "outputs": [
        {
          "output_type": "display_data",
          "data": {
            "text/plain": [
              "<Figure size 1440x360 with 1 Axes>"
            ],
            "image/png": "[encoded data removed]"
          },
          "metadata": {
            "needs_background": "light"
          }
        }
      ]
    }
  ]
}