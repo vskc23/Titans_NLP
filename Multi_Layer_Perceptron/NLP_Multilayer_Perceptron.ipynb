{
  "nbformat": 4,
  "nbformat_minor": 0,
  "metadata": {
    "colab": {
      "provenance": []
    },
    "kernelspec": {
      "name": "python3",
      "display_name": "Python 3"
    },
    "language_info": {
      "name": "python"
    },
    "accelerator": "GPU",
    "gpuClass": "standard"
  },
  "cells": [
    {
      "cell_type": "markdown",
      "source": [
        "Loading Training data.\n",
        "\n",
        "---\n",
        "\n",
        "\n",
        "Removing few special characters."
      ],
      "metadata": {
        "id": "hjznLIIkXNIn"
      }
    },
    {
      "cell_type": "code",
      "source": [
        "import numpy as np\n",
        "import pandas as pd\n",
        "import os\n",
        "data = []\n",
        "target = []\n",
        "f = open(\"/content/drive/MyDrive/dataset/nlp_train_dataset.txt\", \"r\")\n",
        "rowtext = []\n",
        "rowtarget = []\n",
        "for line in f:\n",
        "  if line == \"\\n\":\n",
        "    data.append(rowtext)\n",
        "    target.append(rowtarget)\n",
        "    rowtext = []\n",
        "    rowtarget = []\n",
        "  else:\n",
        "    s=line.split()\n",
        "    if s[0]!=\".\" and s[0]!=\",\":\n",
        "      rowtext.append(s[0])\n",
        "    if s[1]!=\".\" and s[1]!=\",\":\n",
        "      rowtarget.append(s[1])\n",
        "print(data[0])"
      ],
      "metadata": {
        "colab": {
          "base_uri": "https://localhost:8080/"
        },
        "id": "I7_3fHWySESh",
        "outputId": "42fefdc5-39e9-4383-a22e-f341f2d74374"
      },
      "execution_count": 1,
      "outputs": [
        {
          "output_type": "stream",
          "name": "stdout",
          "text": [
            "['Confidence', 'in', 'the', 'pound', 'is', 'widely', 'expected', 'to', 'take', 'another', 'sharp', 'dive', 'if', 'trade', 'figures', 'for', 'September', 'due', 'for', 'release', 'tomorrow', 'fail', 'to', 'show', 'a', 'substantial', 'improvement', 'from', 'July', 'and', 'August', \"'s\", 'near-record', 'deficits']\n"
          ]
        }
      ]
    },
    {
      "cell_type": "code",
      "source": [
        "df = pd.DataFrame(columns=[\"text\",\"target\"])\n",
        "df[\"text\"] = data\n",
        "df[\"target\"] = target"
      ],
      "metadata": {
        "id": "b_RDgsxZZbN9"
      },
      "execution_count": 2,
      "outputs": []
    },
    {
      "cell_type": "code",
      "source": [
        "df.head()"
      ],
      "metadata": {
        "colab": {
          "base_uri": "https://localhost:8080/",
          "height": 206
        },
        "id": "vc0IgbcwYFL1",
        "outputId": "9c083ef4-da30-4add-82d1-6253e1fe7555"
      },
      "execution_count": 3,
      "outputs": [
        {
          "output_type": "execute_result",
          "data": {
            "text/plain": [
              "                                                text  \\\n",
              "0  [Confidence, in, the, pound, is, widely, expec...   \n",
              "1  [Chancellor, of, the, Exchequer, Nigel, Lawson...   \n",
              "2  [But, analysts, reckon, underlying, support, f...   \n",
              "3  [This, has, increased, the, risk, of, the, gov...   \n",
              "4  [``, The, risks, for, sterling, of, a, bad, tr...   \n",
              "\n",
              "                                              target  \n",
              "0  [NN, IN, DT, NN, VBZ, RB, VBN, TO, VB, DT, JJ,...  \n",
              "1  [NNP, IN, DT, NNP, NNP, NNP, POS, VBN, NN, TO,...  \n",
              "2  [CC, NNS, VBP, VBG, NN, IN, NN, VBZ, VBN, VBN,...  \n",
              "3  [DT, VBZ, VBN, DT, NN, IN, DT, NN, VBG, VBN, T...  \n",
              "4  [``, DT, NNS, IN, NN, IN, DT, JJ, NN, NN, VBP,...  "
            ],
            "text/html": [
              "\n",
              "  <div id=\"df-349b5ea9-4d44-47bc-bc8f-910429c83573\">\n",
              "    <div class=\"colab-df-container\">\n",
              "      <div>\n",
              "<style scoped>\n",
              "    .dataframe tbody tr th:only-of-type {\n",
              "        vertical-align: middle;\n",
              "    }\n",
              "\n",
              "    .dataframe tbody tr th {\n",
              "        vertical-align: top;\n",
              "    }\n",
              "\n",
              "    .dataframe thead th {\n",
              "        text-align: right;\n",
              "    }\n",
              "</style>\n",
              "<table border=\"1\" class=\"dataframe\">\n",
              "  <thead>\n",
              "    <tr style=\"text-align: right;\">\n",
              "      <th></th>\n",
              "      <th>text</th>\n",
              "      <th>target</th>\n",
              "    </tr>\n",
              "  </thead>\n",
              "  <tbody>\n",
              "    <tr>\n",
              "      <th>0</th>\n",
              "      <td>[Confidence, in, the, pound, is, widely, expec...</td>\n",
              "      <td>[NN, IN, DT, NN, VBZ, RB, VBN, TO, VB, DT, JJ,...</td>\n",
              "    </tr>\n",
              "    <tr>\n",
              "      <th>1</th>\n",
              "      <td>[Chancellor, of, the, Exchequer, Nigel, Lawson...</td>\n",
              "      <td>[NNP, IN, DT, NNP, NNP, NNP, POS, VBN, NN, TO,...</td>\n",
              "    </tr>\n",
              "    <tr>\n",
              "      <th>2</th>\n",
              "      <td>[But, analysts, reckon, underlying, support, f...</td>\n",
              "      <td>[CC, NNS, VBP, VBG, NN, IN, NN, VBZ, VBN, VBN,...</td>\n",
              "    </tr>\n",
              "    <tr>\n",
              "      <th>3</th>\n",
              "      <td>[This, has, increased, the, risk, of, the, gov...</td>\n",
              "      <td>[DT, VBZ, VBN, DT, NN, IN, DT, NN, VBG, VBN, T...</td>\n",
              "    </tr>\n",
              "    <tr>\n",
              "      <th>4</th>\n",
              "      <td>[``, The, risks, for, sterling, of, a, bad, tr...</td>\n",
              "      <td>[``, DT, NNS, IN, NN, IN, DT, JJ, NN, NN, VBP,...</td>\n",
              "    </tr>\n",
              "  </tbody>\n",
              "</table>\n",
              "</div>\n",
              "      <button class=\"colab-df-convert\" onclick=\"convertToInteractive('df-349b5ea9-4d44-47bc-bc8f-910429c83573')\"\n",
              "              title=\"Convert this dataframe to an interactive table.\"\n",
              "              style=\"display:none;\">\n",
              "        \n",
              "  <svg xmlns=\"http://www.w3.org/2000/svg\" height=\"24px\"viewBox=\"0 0 24 24\"\n",
              "       width=\"24px\">\n",
              "    <path d=\"M0 0h24v24H0V0z\" fill=\"none\"/>\n",
              "    <path d=\"M18.56 5.44l.94 2.06.94-2.06 2.06-.94-2.06-.94-.94-2.06-.94 2.06-2.06.94zm-11 1L8.5 8.5l.94-2.06 2.06-.94-2.06-.94L8.5 2.5l-.94 2.06-2.06.94zm10 10l.94 2.06.94-2.06 2.06-.94-2.06-.94-.94-2.06-.94 2.06-2.06.94z\"/><path d=\"M17.41 7.96l-1.37-1.37c-.4-.4-.92-.59-1.43-.59-.52 0-1.04.2-1.43.59L10.3 9.45l-7.72 7.72c-.78.78-.78 2.05 0 2.83L4 21.41c.39.39.9.59 1.41.59.51 0 1.02-.2 1.41-.59l7.78-7.78 2.81-2.81c.8-.78.8-2.07 0-2.86zM5.41 20L4 18.59l7.72-7.72 1.47 1.35L5.41 20z\"/>\n",
              "  </svg>\n",
              "      </button>\n",
              "      \n",
              "  <style>\n",
              "    .colab-df-container {\n",
              "      display:flex;\n",
              "      flex-wrap:wrap;\n",
              "      gap: 12px;\n",
              "    }\n",
              "\n",
              "    .colab-df-convert {\n",
              "      background-color: #E8F0FE;\n",
              "      border: none;\n",
              "      border-radius: 50%;\n",
              "      cursor: pointer;\n",
              "      display: none;\n",
              "      fill: #1967D2;\n",
              "      height: 32px;\n",
              "      padding: 0 0 0 0;\n",
              "      width: 32px;\n",
              "    }\n",
              "\n",
              "    .colab-df-convert:hover {\n",
              "      background-color: #E2EBFA;\n",
              "      box-shadow: 0px 1px 2px rgba(60, 64, 67, 0.3), 0px 1px 3px 1px rgba(60, 64, 67, 0.15);\n",
              "      fill: #174EA6;\n",
              "    }\n",
              "\n",
              "    [theme=dark] .colab-df-convert {\n",
              "      background-color: #3B4455;\n",
              "      fill: #D2E3FC;\n",
              "    }\n",
              "\n",
              "    [theme=dark] .colab-df-convert:hover {\n",
              "      background-color: #434B5C;\n",
              "      box-shadow: 0px 1px 3px 1px rgba(0, 0, 0, 0.15);\n",
              "      filter: drop-shadow(0px 1px 2px rgba(0, 0, 0, 0.3));\n",
              "      fill: #FFFFFF;\n",
              "    }\n",
              "  </style>\n",
              "\n",
              "      <script>\n",
              "        const buttonEl =\n",
              "          document.querySelector('#df-349b5ea9-4d44-47bc-bc8f-910429c83573 button.colab-df-convert');\n",
              "        buttonEl.style.display =\n",
              "          google.colab.kernel.accessAllowed ? 'block' : 'none';\n",
              "\n",
              "        async function convertToInteractive(key) {\n",
              "          const element = document.querySelector('#df-349b5ea9-4d44-47bc-bc8f-910429c83573');\n",
              "          const dataTable =\n",
              "            await google.colab.kernel.invokeFunction('convertToInteractive',\n",
              "                                                     [key], {});\n",
              "          if (!dataTable) return;\n",
              "\n",
              "          const docLinkHtml = 'Like what you see? Visit the ' +\n",
              "            '<a target=\"_blank\" href=https://colab.research.google.com/notebooks/data_table.ipynb>data table notebook</a>'\n",
              "            + ' to learn more about interactive tables.';\n",
              "          element.innerHTML = '';\n",
              "          dataTable['output_type'] = 'display_data';\n",
              "          await google.colab.output.renderOutput(dataTable, element);\n",
              "          const docLink = document.createElement('div');\n",
              "          docLink.innerHTML = docLinkHtml;\n",
              "          element.appendChild(docLink);\n",
              "        }\n",
              "      </script>\n",
              "    </div>\n",
              "  </div>\n",
              "  "
            ]
          },
          "metadata": {},
          "execution_count": 3
        }
      ]
    },
    {
      "cell_type": "code",
      "source": [
        "print(len(df[\"text\"][0]))\n",
        "print(len(df[\"target\"][0]))"
      ],
      "metadata": {
        "colab": {
          "base_uri": "https://localhost:8080/"
        },
        "id": "iuP1eWhvgGVB",
        "outputId": "db708512-36f2-4b31-ee80-127407a86c32"
      },
      "execution_count": 4,
      "outputs": [
        {
          "output_type": "stream",
          "name": "stdout",
          "text": [
            "34\n",
            "34\n"
          ]
        }
      ]
    },
    {
      "cell_type": "code",
      "source": [
        "for i in range(len(df[\"text\"].head(1)[0])):\n",
        "  print(df[\"text\"].head(1)[0][i] + \"||\"+ df[\"target\"].head(1)[0][i])"
      ],
      "metadata": {
        "colab": {
          "base_uri": "https://localhost:8080/"
        },
        "id": "E8RI2oH3Tctl",
        "outputId": "7bc208f1-7740-4f72-cf6c-5da9a5314760"
      },
      "execution_count": 5,
      "outputs": [
        {
          "output_type": "stream",
          "name": "stdout",
          "text": [
            "Confidence||NN\n",
            "in||IN\n",
            "the||DT\n",
            "pound||NN\n",
            "is||VBZ\n",
            "widely||RB\n",
            "expected||VBN\n",
            "to||TO\n",
            "take||VB\n",
            "another||DT\n",
            "sharp||JJ\n",
            "dive||NN\n",
            "if||IN\n",
            "trade||NN\n",
            "figures||NNS\n",
            "for||IN\n",
            "September||NNP\n",
            "due||JJ\n",
            "for||IN\n",
            "release||NN\n",
            "tomorrow||NN\n",
            "fail||VB\n",
            "to||TO\n",
            "show||VB\n",
            "a||DT\n",
            "substantial||JJ\n",
            "improvement||NN\n",
            "from||IN\n",
            "July||NNP\n",
            "and||CC\n",
            "August||NNP\n",
            "'s||POS\n",
            "near-record||JJ\n",
            "deficits||NNS\n"
          ]
        }
      ]
    },
    {
      "cell_type": "code",
      "source": [
        "import gensim\n",
        "w2v_model = gensim.models.Word2Vec(df[\"text\"], size=100, window=5, min_count=1, workers=4)\n",
        "\n",
        "X = np.zeros((len(df[\"text\"]), 100))\n",
        "for i, sentence in enumerate(df[\"text\"]):\n",
        "    for word in sentence:\n",
        "        X[i] += w2v_model.wv[word]\n",
        "    X[i] /= len(sentence)"
      ],
      "metadata": {
        "id": "V5Mk4RUas-vq"
      },
      "execution_count": 6,
      "outputs": []
    },
    {
      "cell_type": "markdown",
      "source": [
        "Creating dictionary of Features"
      ],
      "metadata": {
        "id": "axHNxB_6Xx2v"
      }
    },
    {
      "cell_type": "code",
      "source": [
        "unique_targets = []\n",
        "for i in target:\n",
        "  for j in i:\n",
        "    if j not in unique_targets:\n",
        "      unique_targets.append(j)"
      ],
      "metadata": {
        "id": "1ZoiY6KivZ-2"
      },
      "execution_count": 7,
      "outputs": []
    },
    {
      "cell_type": "code",
      "source": [
        "print(unique_targets)"
      ],
      "metadata": {
        "colab": {
          "base_uri": "https://localhost:8080/"
        },
        "id": "9lp_345CvtAi",
        "outputId": "6d8b0a9f-e6ba-42b2-b7ee-63ff872dcec5"
      },
      "execution_count": 8,
      "outputs": [
        {
          "output_type": "stream",
          "name": "stdout",
          "text": [
            "['NN', 'IN', 'DT', 'VBZ', 'RB', 'VBN', 'TO', 'VB', 'JJ', 'NNS', 'NNP', 'CC', 'POS', 'VBP', 'VBG', 'PRP$', 'CD', '``', \"''\", 'VBD', 'EX', 'MD', '#', '(', '$', ')', 'NNPS', 'PRP', 'JJS', 'WP', 'RBR', 'JJR', 'WDT', 'WRB', 'RBS', 'PDT', 'RP', ':', 'FW', 'WP$', 'SYM', 'UH']\n"
          ]
        }
      ]
    },
    {
      "cell_type": "code",
      "source": [
        "tag_to_id = {}\n",
        "k = 0\n",
        "for i in unique_targets:\n",
        "  tag_to_id[i] = k\n",
        "  k+=1\n",
        "print(tag_to_id)"
      ],
      "metadata": {
        "colab": {
          "base_uri": "https://localhost:8080/"
        },
        "id": "2V09sho6vMcD",
        "outputId": "130f3767-9432-47a5-f41d-d93ec95eb82f"
      },
      "execution_count": 9,
      "outputs": [
        {
          "output_type": "stream",
          "name": "stdout",
          "text": [
            "{'NN': 0, 'IN': 1, 'DT': 2, 'VBZ': 3, 'RB': 4, 'VBN': 5, 'TO': 6, 'VB': 7, 'JJ': 8, 'NNS': 9, 'NNP': 10, 'CC': 11, 'POS': 12, 'VBP': 13, 'VBG': 14, 'PRP$': 15, 'CD': 16, '``': 17, \"''\": 18, 'VBD': 19, 'EX': 20, 'MD': 21, '#': 22, '(': 23, '$': 24, ')': 25, 'NNPS': 26, 'PRP': 27, 'JJS': 28, 'WP': 29, 'RBR': 30, 'JJR': 31, 'WDT': 32, 'WRB': 33, 'RBS': 34, 'PDT': 35, 'RP': 36, ':': 37, 'FW': 38, 'WP$': 39, 'SYM': 40, 'UH': 41}\n"
          ]
        }
      ]
    },
    {
      "cell_type": "code",
      "source": [
        "y = np.zeros((len(df[\"target\"]), len(tag_to_id)))\n",
        "for i, pos_tag in enumerate(df[\"target\"]):\n",
        "    for tag in pos_tag:\n",
        "        y[i, tag_to_id[tag]] = 1"
      ],
      "metadata": {
        "id": "Rrcx_Y_vwTG3"
      },
      "execution_count": 10,
      "outputs": []
    },
    {
      "cell_type": "code",
      "source": [
        "maxlength = 0\n",
        "for i in df[\"text\"]:\n",
        "  if len(i)>maxlength:\n",
        "    maxlength = len(i)\n",
        "print(maxlength)"
      ],
      "metadata": {
        "colab": {
          "base_uri": "https://localhost:8080/"
        },
        "id": "Ml4yx1_La5-C",
        "outputId": "b0ee06f6-7025-4052-918f-5ec709d150ca"
      },
      "execution_count": 11,
      "outputs": [
        {
          "output_type": "stream",
          "name": "stdout",
          "text": [
            "73\n"
          ]
        }
      ]
    },
    {
      "cell_type": "code",
      "source": [
        "from tensorflow.keras.preprocessing.sequence import pad_sequences"
      ],
      "metadata": {
        "id": "JMLUMefeflOs"
      },
      "execution_count": 12,
      "outputs": []
    },
    {
      "cell_type": "markdown",
      "source": [
        "Padding\n",
        "\n",
        "---\n",
        "\n",
        "\n",
        "Training and Testing data split"
      ],
      "metadata": {
        "id": "8GlZFG_hX6wL"
      }
    },
    {
      "cell_type": "code",
      "source": [
        "X_padded = pad_sequences(X, maxlen=maxlength, padding=\"post\", truncating=\"post\")\n",
        "Y_padded = pad_sequences(y, maxlen=maxlength, padding=\"post\", truncating=\"post\")"
      ],
      "metadata": {
        "id": "6coBWERPaSY_"
      },
      "execution_count": 13,
      "outputs": []
    },
    {
      "cell_type": "code",
      "source": [
        "from sklearn.model_selection import train_test_split\n",
        "x_train, x_test, y_train, y_test = train_test_split(X_padded,Y_padded,test_size=0.3, random_state=0, shuffle=True)"
      ],
      "metadata": {
        "id": "cYjEnxh7hYy9"
      },
      "execution_count": 14,
      "outputs": []
    },
    {
      "cell_type": "markdown",
      "source": [
        "RNN Model"
      ],
      "metadata": {
        "id": "3nWLGl4b7TIK"
      }
    },
    {
      "cell_type": "code",
      "source": [
        "GLOVE_DIR = \"/content/drive/MyDrive/dataset/glove.6B.300d.txt\"  # path to pre-trained GloVe embeddings\n",
        "EMBEDDING_DIM = 300\n",
        "\n",
        "embeddings_index = {}\n",
        "with open(GLOVE_DIR) as f:\n",
        "    for line in f:\n",
        "        values = line.split()\n",
        "        word = values[0]\n",
        "        coefs = np.asarray(values[1:], dtype=\"float32\")\n",
        "        embeddings_index[word] = coefs"
      ],
      "metadata": {
        "id": "oH-mzXR9Ws2j"
      },
      "execution_count": 15,
      "outputs": []
    },
    {
      "cell_type": "code",
      "source": [
        "from tensorflow.keras.preprocessing.text import Tokenizer\n",
        "MAX_NB_WORDS = 5000\n",
        "MAX_SEQUENCE_LENGTH = 100\n",
        "VALIDATION_SPLIT = 0.2\n",
        "tokenizer = Tokenizer(num_words=MAX_NB_WORDS)\n",
        "tokenizer.fit_on_texts(df[\"text\"])\n",
        "sequences = tokenizer.texts_to_sequences(df[\"text\"])\n",
        "\n",
        "word_index = tokenizer.word_index\n",
        "\n",
        "tag_tokenizer = Tokenizer()\n",
        "tag_tokenizer.fit_on_texts(df[\"target\"])\n",
        "Y_encoded = tag_tokenizer.texts_to_sequences(df[\"target\"])\n",
        "\n",
        "\n",
        "\n",
        "X_padded = pad_sequences(sequences, maxlen=MAX_SEQUENCE_LENGTH, padding=\"post\")\n",
        "Y_padded = pad_sequences(Y_encoded, maxlen=MAX_SEQUENCE_LENGTH, padding=\"post\")\n"
      ],
      "metadata": {
        "id": "CKHWyBHsYeOX"
      },
      "execution_count": 16,
      "outputs": []
    },
    {
      "cell_type": "code",
      "source": [
        "embedding_matrix = np.zeros((len(word_index) + 1, EMBEDDING_DIM))\n",
        "for word, i in word_index.items():\n",
        "    embedding_vector = embeddings_index.get(word)\n",
        "    if embedding_vector is not None:\n",
        "        embedding_matrix[i] = embedding_vector"
      ],
      "metadata": {
        "id": "czyzyTltYW4C"
      },
      "execution_count": 17,
      "outputs": []
    },
    {
      "cell_type": "code",
      "source": [
        "print(\"Embeddings shape: {}\".format(embedding_matrix.shape))"
      ],
      "metadata": {
        "colab": {
          "base_uri": "https://localhost:8080/"
        },
        "id": "EqK0bFKqwHTF",
        "outputId": "f909093f-79ce-464c-f21f-ae5cdc9f4d7c"
      },
      "execution_count": 18,
      "outputs": [
        {
          "output_type": "stream",
          "name": "stdout",
          "text": [
            "Embeddings shape: (17257, 300)\n"
          ]
        }
      ]
    },
    {
      "cell_type": "code",
      "source": [
        "from keras.utils.np_utils import to_categorical\n",
        "Y = to_categorical(Y_padded)"
      ],
      "metadata": {
        "id": "l5_Fkm1ptEFa"
      },
      "execution_count": 19,
      "outputs": []
    },
    {
      "cell_type": "code",
      "source": [
        "np.shape(Y)"
      ],
      "metadata": {
        "colab": {
          "base_uri": "https://localhost:8080/"
        },
        "id": "40GcrPiiuzc3",
        "outputId": "a77a2603-bb70-4a5d-c44c-90a5e22be2f0"
      },
      "execution_count": 20,
      "outputs": [
        {
          "output_type": "execute_result",
          "data": {
            "text/plain": [
              "(8936, 100, 43)"
            ]
          },
          "metadata": {},
          "execution_count": 20
        }
      ]
    },
    {
      "cell_type": "code",
      "source": [
        "NUM_CLASSES = Y.shape[2]\n",
        "from sklearn.model_selection import train_test_split\n",
        "x_train, x_test, y_train, y_test = train_test_split(X_padded,Y,test_size=0.2, random_state=0, shuffle=True)"
      ],
      "metadata": {
        "id": "frGaUfZtwip8"
      },
      "execution_count": 21,
      "outputs": []
    },
    {
      "cell_type": "code",
      "source": [
        "print(\"TRAINING DATA\")\n",
        "print('Shape of input sequences: {}'.format(x_train.shape))\n",
        "print('Shape of output sequences: {}'.format(y_train.shape))\n",
        "print(\"TESTING DATA\")\n",
        "print('Shape of input sequences: {}'.format(x_test.shape))\n",
        "print('Shape of output sequences: {}'.format(y_test.shape))"
      ],
      "metadata": {
        "colab": {
          "base_uri": "https://localhost:8080/"
        },
        "id": "2ehN-qzVsQX0",
        "outputId": "4ad85c23-13dd-41d0-a932-adefc10ff5ae"
      },
      "execution_count": 22,
      "outputs": [
        {
          "output_type": "stream",
          "name": "stdout",
          "text": [
            "TRAINING DATA\n",
            "Shape of input sequences: (7148, 100)\n",
            "Shape of output sequences: (7148, 100, 43)\n",
            "TESTING DATA\n",
            "Shape of input sequences: (1788, 100)\n",
            "Shape of output sequences: (1788, 100, 43)\n"
          ]
        }
      ]
    },
    {
      "cell_type": "code",
      "source": [
        "from tensorflow.keras.layers import Embedding, LSTM, Dense, Flatten, SimpleRNN, TimeDistributed, RNN, GRU, Bidirectional\n",
        "from tensorflow.keras.models import Sequential\n",
        "rnn_model = Sequential()\n",
        "rnn_model.add(Embedding(len(word_index) + 1, EMBEDDING_DIM, weights=[embedding_matrix], trainable=False))\n",
        "rnn_model.add(SimpleRNN(64, return_sequences=True))\n",
        "rnn_model.add(TimeDistributed(Dense(NUM_CLASSES, activation=\"softmax\")))\n",
        "rnn_model.compile(loss=\"categorical_crossentropy\", optimizer=\"adam\", metrics=[\"accuracy\"])\n",
        "print(rnn_model.summary())"
      ],
      "metadata": {
        "colab": {
          "base_uri": "https://localhost:8080/"
        },
        "id": "ELk6wYM2Z14g",
        "outputId": "aa16131e-20c8-4d2e-b05a-77e47baf8198"
      },
      "execution_count": 23,
      "outputs": [
        {
          "output_type": "stream",
          "name": "stdout",
          "text": [
            "Model: \"sequential\"\n",
            "_________________________________________________________________\n",
            " Layer (type)                Output Shape              Param #   \n",
            "=================================================================\n",
            " embedding (Embedding)       (None, None, 300)         5177100   \n",
            "                                                                 \n",
            " simple_rnn (SimpleRNN)      (None, None, 64)          23360     \n",
            "                                                                 \n",
            " time_distributed (TimeDistr  (None, None, 43)         2795      \n",
            " ibuted)                                                         \n",
            "                                                                 \n",
            "=================================================================\n",
            "Total params: 5,203,255\n",
            "Trainable params: 26,155\n",
            "Non-trainable params: 5,177,100\n",
            "_________________________________________________________________\n",
            "None\n"
          ]
        }
      ]
    },
    {
      "cell_type": "code",
      "source": [
        "history = rnn_model.fit(x_train, y_train, validation_split=0.2, epochs=30, batch_size=128)"
      ],
      "metadata": {
        "colab": {
          "base_uri": "https://localhost:8080/"
        },
        "id": "2QzjJ7tiZ-y4",
        "outputId": "cf7688dc-4581-45bc-bbd5-9a30584ff682"
      },
      "execution_count": 24,
      "outputs": [
        {
          "output_type": "stream",
          "name": "stdout",
          "text": [
            "Epoch 1/30\n",
            "45/45 [==============================] - 11s 135ms/step - loss: 1.6122 - accuracy: 0.7244 - val_loss: 0.7037 - val_accuracy: 0.8301\n",
            "Epoch 2/30\n",
            "45/45 [==============================] - 4s 90ms/step - loss: 0.6430 - accuracy: 0.8368 - val_loss: 0.6139 - val_accuracy: 0.8415\n",
            "Epoch 3/30\n",
            "45/45 [==============================] - 4s 90ms/step - loss: 0.5783 - accuracy: 0.8477 - val_loss: 0.5725 - val_accuracy: 0.8503\n",
            "Epoch 4/30\n",
            "45/45 [==============================] - 6s 122ms/step - loss: 0.5442 - accuracy: 0.8545 - val_loss: 0.5460 - val_accuracy: 0.8550\n",
            "Epoch 5/30\n",
            "45/45 [==============================] - 4s 91ms/step - loss: 0.5207 - accuracy: 0.8592 - val_loss: 0.5275 - val_accuracy: 0.8582\n",
            "Epoch 6/30\n",
            "45/45 [==============================] - 4s 95ms/step - loss: 0.5899 - accuracy: 0.8455 - val_loss: 0.6475 - val_accuracy: 0.8386\n",
            "Epoch 7/30\n",
            "45/45 [==============================] - 5s 115ms/step - loss: 0.5823 - accuracy: 0.8506 - val_loss: 0.5566 - val_accuracy: 0.8536\n",
            "Epoch 8/30\n",
            "45/45 [==============================] - 4s 90ms/step - loss: 0.5410 - accuracy: 0.8569 - val_loss: 0.5408 - val_accuracy: 0.8559\n",
            "Epoch 9/30\n",
            "45/45 [==============================] - 8s 175ms/step - loss: 0.5286 - accuracy: 0.8587 - val_loss: 0.5311 - val_accuracy: 0.8573\n",
            "Epoch 10/30\n",
            "45/45 [==============================] - 4s 85ms/step - loss: 0.5205 - accuracy: 0.8595 - val_loss: 0.5244 - val_accuracy: 0.8581\n",
            "Epoch 11/30\n",
            "45/45 [==============================] - 4s 87ms/step - loss: 0.5146 - accuracy: 0.8602 - val_loss: 0.5194 - val_accuracy: 0.8588\n",
            "Epoch 12/30\n",
            "45/45 [==============================] - 6s 128ms/step - loss: 0.5101 - accuracy: 0.8606 - val_loss: 0.5155 - val_accuracy: 0.8591\n",
            "Epoch 13/30\n",
            "45/45 [==============================] - 4s 86ms/step - loss: 0.5065 - accuracy: 0.8611 - val_loss: 0.5123 - val_accuracy: 0.8594\n",
            "Epoch 14/30\n",
            "45/45 [==============================] - 4s 89ms/step - loss: 0.5034 - accuracy: 0.8614 - val_loss: 0.5095 - val_accuracy: 0.8594\n",
            "Epoch 15/30\n",
            "45/45 [==============================] - 6s 130ms/step - loss: 0.5006 - accuracy: 0.8616 - val_loss: 0.5070 - val_accuracy: 0.8596\n",
            "Epoch 16/30\n",
            "45/45 [==============================] - 4s 87ms/step - loss: 0.4982 - accuracy: 0.8619 - val_loss: 0.5048 - val_accuracy: 0.8596\n",
            "Epoch 17/30\n",
            "45/45 [==============================] - 4s 89ms/step - loss: 0.4959 - accuracy: 0.8621 - val_loss: 0.5027 - val_accuracy: 0.8601\n",
            "Epoch 18/30\n",
            "45/45 [==============================] - 5s 123ms/step - loss: 0.4938 - accuracy: 0.8625 - val_loss: 0.5008 - val_accuracy: 0.8602\n",
            "Epoch 19/30\n",
            "45/45 [==============================] - 4s 88ms/step - loss: 0.4918 - accuracy: 0.8626 - val_loss: 0.4989 - val_accuracy: 0.8603\n",
            "Epoch 20/30\n",
            "45/45 [==============================] - 5s 113ms/step - loss: 0.4900 - accuracy: 0.8629 - val_loss: 0.4972 - val_accuracy: 0.8604\n",
            "Epoch 21/30\n",
            "45/45 [==============================] - 6s 144ms/step - loss: 0.4882 - accuracy: 0.8631 - val_loss: 0.4956 - val_accuracy: 0.8607\n",
            "Epoch 22/30\n",
            "45/45 [==============================] - 5s 109ms/step - loss: 0.4866 - accuracy: 0.8633 - val_loss: 0.4942 - val_accuracy: 0.8609\n",
            "Epoch 23/30\n",
            "45/45 [==============================] - 4s 95ms/step - loss: 0.4854 - accuracy: 0.8634 - val_loss: 0.4931 - val_accuracy: 0.8610\n",
            "Epoch 24/30\n",
            "45/45 [==============================] - 5s 119ms/step - loss: 0.4824 - accuracy: 0.8637 - val_loss: 0.4916 - val_accuracy: 0.8612\n",
            "Epoch 25/30\n",
            "45/45 [==============================] - 4s 86ms/step - loss: 0.4810 - accuracy: 0.8639 - val_loss: 0.4903 - val_accuracy: 0.8615\n",
            "Epoch 26/30\n",
            "45/45 [==============================] - 4s 98ms/step - loss: 0.4798 - accuracy: 0.8640 - val_loss: 0.4891 - val_accuracy: 0.8614\n",
            "Epoch 27/30\n",
            "45/45 [==============================] - 5s 121ms/step - loss: 0.4786 - accuracy: 0.8641 - val_loss: 0.4881 - val_accuracy: 0.8615\n",
            "Epoch 28/30\n",
            "45/45 [==============================] - 4s 95ms/step - loss: 0.4774 - accuracy: 0.8643 - val_loss: 0.4870 - val_accuracy: 0.8617\n",
            "Epoch 29/30\n",
            "45/45 [==============================] - 5s 109ms/step - loss: 0.4764 - accuracy: 0.8643 - val_loss: 0.4860 - val_accuracy: 0.8618\n",
            "Epoch 30/30\n",
            "45/45 [==============================] - 5s 106ms/step - loss: 0.4754 - accuracy: 0.8645 - val_loss: 0.4851 - val_accuracy: 0.8617\n"
          ]
        }
      ]
    },
    {
      "cell_type": "code",
      "source": [
        "from matplotlib import pyplot as plt\n",
        "plt.plot(history.history['accuracy'])\n",
        "plt.plot(history.history['val_accuracy'])\n",
        "plt.title('model accuracy')\n",
        "plt.ylabel('accuracy')\n",
        "plt.xlabel('epoch')\n",
        "plt.legend(['train', 'test'], loc=\"lower right\")\n",
        "plt.show()"
      ],
      "metadata": {
        "colab": {
          "base_uri": "https://localhost:8080/",
          "height": 295
        },
        "id": "_MNyL2W8fW7y",
        "outputId": "9bf7e16e-1cdb-4167-fe21-e7b545c0879c"
      },
      "execution_count": 25,
      "outputs": [
        {
          "output_type": "display_data",
          "data": {
            "text/plain": [
              "<Figure size 432x288 with 1 Axes>"
            ],
            "image/png": "[encoded data removed]"
          },
          "metadata": {
            "needs_background": "light"
          }
        }
      ]
    },
    {
      "cell_type": "code",
      "source": [
        "from matplotlib import pyplot as plt\n",
        "plt.plot(history.history['loss'])\n",
        "plt.plot(history.history['val_loss'])\n",
        "plt.title('model loss')\n",
        "plt.ylabel('loss')\n",
        "plt.xlabel('epoch')\n",
        "plt.legend(['train', 'test'], loc=\"lower right\")\n",
        "plt.show()"
      ],
      "metadata": {
        "colab": {
          "base_uri": "https://localhost:8080/",
          "height": 295
        },
        "id": "pl4xbhd54lUF",
        "outputId": "e8ce446d-c9ab-4fc1-e9db-bdc005826946"
      },
      "execution_count": 26,
      "outputs": [
        {
          "output_type": "display_data",
          "data": {
            "text/plain": [
              "<Figure size 432x288 with 1 Axes>"
            ],
            "image/png": "[encoded data removed]"
          },
          "metadata": {
            "needs_background": "light"
          }
        }
      ]
    },
    {
      "cell_type": "markdown",
      "source": [
        "LSTM Model"
      ],
      "metadata": {
        "id": "VGwZGgyR5Asz"
      }
    },
    {
      "cell_type": "code",
      "source": [
        "lstm_model = Sequential()\n",
        "lstm_model.add(Embedding(len(word_index) + 1, EMBEDDING_DIM, weights=[embedding_matrix], trainable=True))\n",
        "lstm_model.add(LSTM(64, return_sequences=True))\n",
        "lstm_model.add(TimeDistributed(Dense(NUM_CLASSES, activation='softmax')))\n",
        "lstm_model.compile(loss='categorical_crossentropy',optimizer='adam',metrics=['accuracy'])\n",
        "lstm_model.summary()"
      ],
      "metadata": {
        "colab": {
          "base_uri": "https://localhost:8080/"
        },
        "id": "B8mPylt44yWo",
        "outputId": "e782ec15-38b9-4920-ab22-1d1a2f053bf8"
      },
      "execution_count": 27,
      "outputs": [
        {
          "output_type": "stream",
          "name": "stdout",
          "text": [
            "Model: \"sequential_1\"\n",
            "_________________________________________________________________\n",
            " Layer (type)                Output Shape              Param #   \n",
            "=================================================================\n",
            " embedding_1 (Embedding)     (None, None, 300)         5177100   \n",
            "                                                                 \n",
            " lstm (LSTM)                 (None, None, 64)          93440     \n",
            "                                                                 \n",
            " time_distributed_1 (TimeDis  (None, None, 43)         2795      \n",
            " tributed)                                                       \n",
            "                                                                 \n",
            "=================================================================\n",
            "Total params: 5,273,335\n",
            "Trainable params: 5,273,335\n",
            "Non-trainable params: 0\n",
            "_________________________________________________________________\n"
          ]
        }
      ]
    },
    {
      "cell_type": "code",
      "source": [
        "lstm_training = lstm_model.fit(x_train, y_train, batch_size=128, epochs=10, validation_split=0.2)"
      ],
      "metadata": {
        "colab": {
          "base_uri": "https://localhost:8080/"
        },
        "id": "T8JW29jj5UMX",
        "outputId": "582ad86d-ecc6-41f8-a31c-55c9a9cc2168"
      },
      "execution_count": 28,
      "outputs": [
        {
          "output_type": "stream",
          "name": "stdout",
          "text": [
            "Epoch 1/10\n",
            "45/45 [==============================] - 13s 210ms/step - loss: 1.6369 - accuracy: 0.7838 - val_loss: 0.6946 - val_accuracy: 0.8137\n",
            "Epoch 2/10\n",
            "45/45 [==============================] - 6s 130ms/step - loss: 0.6418 - accuracy: 0.8302 - val_loss: 0.6088 - val_accuracy: 0.8411\n",
            "Epoch 3/10\n",
            "45/45 [==============================] - 4s 92ms/step - loss: 0.5715 - accuracy: 0.8500 - val_loss: 0.5506 - val_accuracy: 0.8548\n",
            "Epoch 4/10\n",
            "45/45 [==============================] - 3s 58ms/step - loss: 0.5171 - accuracy: 0.8621 - val_loss: 0.5049 - val_accuracy: 0.8637\n",
            "Epoch 5/10\n",
            "45/45 [==============================] - 3s 58ms/step - loss: 0.4748 - accuracy: 0.8700 - val_loss: 0.4719 - val_accuracy: 0.8695\n",
            "Epoch 6/10\n",
            "45/45 [==============================] - 3s 58ms/step - loss: 0.4428 - accuracy: 0.8762 - val_loss: 0.4481 - val_accuracy: 0.8733\n",
            "Epoch 7/10\n",
            "45/45 [==============================] - 2s 53ms/step - loss: 0.4187 - accuracy: 0.8800 - val_loss: 0.4316 - val_accuracy: 0.8756\n",
            "Epoch 8/10\n",
            "45/45 [==============================] - 3s 66ms/step - loss: 0.3987 - accuracy: 0.8829 - val_loss: 0.4191 - val_accuracy: 0.8771\n",
            "Epoch 9/10\n",
            "45/45 [==============================] - 2s 36ms/step - loss: 0.3817 - accuracy: 0.8859 - val_loss: 0.4095 - val_accuracy: 0.8781\n",
            "Epoch 10/10\n",
            "45/45 [==============================] - 2s 41ms/step - loss: 0.3667 - accuracy: 0.8884 - val_loss: 0.4015 - val_accuracy: 0.8786\n"
          ]
        }
      ]
    },
    {
      "cell_type": "code",
      "source": [
        "from matplotlib import pyplot as plt\n",
        "plt.plot(lstm_training.history['accuracy'])\n",
        "plt.plot(lstm_training.history['val_accuracy'])\n",
        "plt.title('model accuracy')\n",
        "plt.ylabel('accuracy')\n",
        "plt.xlabel('epoch')\n",
        "plt.legend(['train', 'test'], loc=\"lower right\")\n",
        "plt.show()"
      ],
      "metadata": {
        "colab": {
          "base_uri": "https://localhost:8080/",
          "height": 295
        },
        "id": "TDHn6iK26jPP",
        "outputId": "f69604a6-c89b-4ef0-963f-4cdf74385aab"
      },
      "execution_count": 29,
      "outputs": [
        {
          "output_type": "display_data",
          "data": {
            "text/plain": [
              "<Figure size 432x288 with 1 Axes>"
            ],
            "image/png": "[encoded data removed]"
          },
          "metadata": {
            "needs_background": "light"
          }
        }
      ]
    },
    {
      "cell_type": "markdown",
      "source": [
        "GRU Model"
      ],
      "metadata": {
        "id": "n9pFPF7q8GMO"
      }
    },
    {
      "cell_type": "code",
      "source": [
        "gru_model = Sequential()\n",
        "gru_model.add(Embedding(len(word_index) + 1, EMBEDDING_DIM, weights=[embedding_matrix], trainable=True))\n",
        "gru_model.add(GRU(64, return_sequences=True))\n",
        "gru_model.add(TimeDistributed(Dense(NUM_CLASSES, activation='softmax')))\n",
        "gru_model.compile(loss='categorical_crossentropy',optimizer='adam',metrics=['accuracy'])\n",
        "gru_model.summary()"
      ],
      "metadata": {
        "colab": {
          "base_uri": "https://localhost:8080/"
        },
        "id": "Q1EkcAr77MFy",
        "outputId": "940af108-c837-4255-d30f-cddee51f4366"
      },
      "execution_count": 30,
      "outputs": [
        {
          "output_type": "stream",
          "name": "stdout",
          "text": [
            "Model: \"sequential_2\"\n",
            "_________________________________________________________________\n",
            " Layer (type)                Output Shape              Param #   \n",
            "=================================================================\n",
            " embedding_2 (Embedding)     (None, None, 300)         5177100   \n",
            "                                                                 \n",
            " gru (GRU)                   (None, None, 64)          70272     \n",
            "                                                                 \n",
            " time_distributed_2 (TimeDis  (None, None, 43)         2795      \n",
            " tributed)                                                       \n",
            "                                                                 \n",
            "=================================================================\n",
            "Total params: 5,250,167\n",
            "Trainable params: 5,250,167\n",
            "Non-trainable params: 0\n",
            "_________________________________________________________________\n"
          ]
        }
      ]
    },
    {
      "cell_type": "code",
      "source": [
        "gru_training = gru_model.fit(x_train, y_train, batch_size=128, epochs=10, validation_split=0.3)"
      ],
      "metadata": {
        "colab": {
          "base_uri": "https://localhost:8080/"
        },
        "id": "slweeqzy7ory",
        "outputId": "69ab28e0-150d-4f42-b63c-a69b07d622c2"
      },
      "execution_count": 31,
      "outputs": [
        {
          "output_type": "stream",
          "name": "stdout",
          "text": [
            "Epoch 1/10\n",
            "40/40 [==============================] - 7s 129ms/step - loss: 1.9631 - accuracy: 0.8002 - val_loss: 0.6659 - val_accuracy: 0.8200\n",
            "Epoch 2/10\n",
            "40/40 [==============================] - 5s 123ms/step - loss: 0.6150 - accuracy: 0.8349 - val_loss: 0.5768 - val_accuracy: 0.8444\n",
            "Epoch 3/10\n",
            "40/40 [==============================] - 3s 82ms/step - loss: 0.5488 - accuracy: 0.8517 - val_loss: 0.5252 - val_accuracy: 0.8583\n",
            "Epoch 4/10\n",
            "40/40 [==============================] - 3s 80ms/step - loss: 0.5012 - accuracy: 0.8635 - val_loss: 0.4859 - val_accuracy: 0.8664\n",
            "Epoch 5/10\n",
            "40/40 [==============================] - 3s 81ms/step - loss: 0.4647 - accuracy: 0.8711 - val_loss: 0.4571 - val_accuracy: 0.8715\n",
            "Epoch 6/10\n",
            "40/40 [==============================] - 2s 43ms/step - loss: 0.4370 - accuracy: 0.8760 - val_loss: 0.4357 - val_accuracy: 0.8752\n",
            "Epoch 7/10\n",
            "40/40 [==============================] - 2s 42ms/step - loss: 0.4145 - accuracy: 0.8792 - val_loss: 0.4179 - val_accuracy: 0.8774\n",
            "Epoch 8/10\n",
            "40/40 [==============================] - 1s 36ms/step - loss: 0.3950 - accuracy: 0.8821 - val_loss: 0.4036 - val_accuracy: 0.8795\n",
            "Epoch 9/10\n",
            "40/40 [==============================] - 1s 29ms/step - loss: 0.3776 - accuracy: 0.8849 - val_loss: 0.3909 - val_accuracy: 0.8812\n",
            "Epoch 10/10\n",
            "40/40 [==============================] - 1s 23ms/step - loss: 0.3612 - accuracy: 0.8873 - val_loss: 0.3798 - val_accuracy: 0.8826\n"
          ]
        }
      ]
    },
    {
      "cell_type": "code",
      "source": [
        "from matplotlib import pyplot as plt\n",
        "plt.plot(gru_training.history['accuracy'])\n",
        "plt.plot(gru_training.history['val_accuracy'])\n",
        "plt.title('model accuracy')\n",
        "plt.ylabel('accuracy')\n",
        "plt.xlabel('epoch')\n",
        "plt.legend(['train', 'test'], loc=\"lower right\")\n",
        "plt.show()"
      ],
      "metadata": {
        "colab": {
          "base_uri": "https://localhost:8080/",
          "height": 295
        },
        "id": "D01GzvfP8eAp",
        "outputId": "2714933d-8cb0-439e-f8e1-4f2d55578a50"
      },
      "execution_count": 32,
      "outputs": [
        {
          "output_type": "display_data",
          "data": {
            "text/plain": [
              "<Figure size 432x288 with 1 Axes>"
            ],
            "image/png": "[encoded data removed]"
          },
          "metadata": {
            "needs_background": "light"
          }
        }
      ]
    },
    {
      "cell_type": "markdown",
      "source": [
        "Bidirectional LSTM Model"
      ],
      "metadata": {
        "id": "UTAcES4k8OiH"
      }
    },
    {
      "cell_type": "code",
      "source": [
        "bidirect_model = Sequential()\n",
        "bidirect_model.add(Embedding(len(word_index) + 1, EMBEDDING_DIM, weights=[embedding_matrix], trainable=True))\n",
        "bidirect_model.add(Bidirectional(LSTM(64, return_sequences=True)))\n",
        "bidirect_model.add(TimeDistributed(Dense(NUM_CLASSES, activation='softmax')))\n",
        "bidirect_model.compile(loss='categorical_crossentropy',optimizer='adam',metrics=['accuracy'])\n",
        "bidirect_model.summary()"
      ],
      "metadata": {
        "colab": {
          "base_uri": "https://localhost:8080/"
        },
        "id": "o2q4cxfy8kI0",
        "outputId": "0558dfbd-8f23-453b-c866-93e1070341c6"
      },
      "execution_count": 33,
      "outputs": [
        {
          "output_type": "stream",
          "name": "stdout",
          "text": [
            "Model: \"sequential_3\"\n",
            "_________________________________________________________________\n",
            " Layer (type)                Output Shape              Param #   \n",
            "=================================================================\n",
            " embedding_3 (Embedding)     (None, None, 300)         5177100   \n",
            "                                                                 \n",
            " bidirectional (Bidirectiona  (None, None, 128)        186880    \n",
            " l)                                                              \n",
            "                                                                 \n",
            " time_distributed_3 (TimeDis  (None, None, 43)         5547      \n",
            " tributed)                                                       \n",
            "                                                                 \n",
            "=================================================================\n",
            "Total params: 5,369,527\n",
            "Trainable params: 5,369,527\n",
            "Non-trainable params: 0\n",
            "_________________________________________________________________\n"
          ]
        }
      ]
    },
    {
      "cell_type": "code",
      "source": [
        "bidirect_training = bidirect_model.fit(x_train, y_train, batch_size=128, epochs=10, validation_split=0.3)"
      ],
      "metadata": {
        "colab": {
          "base_uri": "https://localhost:8080/"
        },
        "id": "hskJH2ni83OH",
        "outputId": "92109035-c29d-48d1-d86a-551ff2533345"
      },
      "execution_count": 34,
      "outputs": [
        {
          "output_type": "stream",
          "name": "stdout",
          "text": [
            "Epoch 1/10\n",
            "40/40 [==============================] - 11s 169ms/step - loss: 1.6212 - accuracy: 0.7903 - val_loss: 0.6444 - val_accuracy: 0.8324\n",
            "Epoch 2/10\n",
            "40/40 [==============================] - 4s 100ms/step - loss: 0.6047 - accuracy: 0.8383 - val_loss: 0.5710 - val_accuracy: 0.8445\n",
            "Epoch 3/10\n",
            "40/40 [==============================] - 3s 66ms/step - loss: 0.5423 - accuracy: 0.8510 - val_loss: 0.5186 - val_accuracy: 0.8580\n",
            "Epoch 4/10\n",
            "40/40 [==============================] - 3s 76ms/step - loss: 0.4928 - accuracy: 0.8644 - val_loss: 0.4776 - val_accuracy: 0.8677\n",
            "Epoch 5/10\n",
            "40/40 [==============================] - 3s 72ms/step - loss: 0.4537 - accuracy: 0.8727 - val_loss: 0.4483 - val_accuracy: 0.8736\n",
            "Epoch 6/10\n",
            "40/40 [==============================] - 2s 59ms/step - loss: 0.4236 - accuracy: 0.8781 - val_loss: 0.4267 - val_accuracy: 0.8771\n",
            "Epoch 7/10\n",
            "40/40 [==============================] - 2s 37ms/step - loss: 0.3999 - accuracy: 0.8818 - val_loss: 0.4115 - val_accuracy: 0.8788\n",
            "Epoch 8/10\n",
            "40/40 [==============================] - 1s 29ms/step - loss: 0.3801 - accuracy: 0.8848 - val_loss: 0.3995 - val_accuracy: 0.8807\n",
            "Epoch 9/10\n",
            "40/40 [==============================] - 1s 36ms/step - loss: 0.3627 - accuracy: 0.8883 - val_loss: 0.3912 - val_accuracy: 0.8821\n",
            "Epoch 10/10\n",
            "40/40 [==============================] - 1s 35ms/step - loss: 0.3474 - accuracy: 0.8914 - val_loss: 0.3845 - val_accuracy: 0.8833\n"
          ]
        }
      ]
    },
    {
      "cell_type": "code",
      "source": [
        "from matplotlib import pyplot as plt\n",
        "plt.plot(bidirect_training.history['accuracy'])\n",
        "plt.plot(bidirect_training.history['val_accuracy'])\n",
        "plt.title('model accuracy')\n",
        "plt.ylabel('accuracy')\n",
        "plt.xlabel('epoch')\n",
        "plt.legend(['train', 'test'], loc=\"lower right\")\n",
        "plt.show()"
      ],
      "metadata": {
        "colab": {
          "base_uri": "https://localhost:8080/",
          "height": 295
        },
        "id": "CmgKDtBG8_b8",
        "outputId": "9f49cee9-d450-4d2a-b8a0-b7677e056719"
      },
      "execution_count": 35,
      "outputs": [
        {
          "output_type": "display_data",
          "data": {
            "text/plain": [
              "<Figure size 432x288 with 1 Axes>"
            ],
            "image/png": "[encoded data removed]"
          },
          "metadata": {
            "needs_background": "light"
          }
        }
      ]
    },
    {
      "cell_type": "markdown",
      "source": [
        "Models Evaluation"
      ],
      "metadata": {
        "id": "VKN_gtU8YUDi"
      }
    },
    {
      "cell_type": "code",
      "source": [
        "results = rnn_model.evaluate(x_test, y_test, batch_size=128,verbose=0)\n",
        "print(rnn_model.metrics_names)\n",
        "print(results)"
      ],
      "metadata": {
        "colab": {
          "base_uri": "https://localhost:8080/"
        },
        "id": "Y09QtEK9fWIz",
        "outputId": "94ab6a5d-b017-4fd5-8321-60ba53592616"
      },
      "execution_count": 36,
      "outputs": [
        {
          "output_type": "stream",
          "name": "stdout",
          "text": [
            "['loss', 'accuracy']\n",
            "[0.48510175943374634, 0.86197429895401]\n"
          ]
        }
      ]
    },
    {
      "cell_type": "code",
      "source": [
        "results = lstm_model.evaluate(x_test, y_test, batch_size=128,verbose=0)\n",
        "print(lstm_model.metrics_names)\n",
        "print(results)"
      ],
      "metadata": {
        "colab": {
          "base_uri": "https://localhost:8080/"
        },
        "id": "J8zoP05EABA3",
        "outputId": "2ff2f0e2-4935-4bb1-bbe2-28a6d7beacbe"
      },
      "execution_count": 37,
      "outputs": [
        {
          "output_type": "stream",
          "name": "stdout",
          "text": [
            "['loss', 'accuracy']\n",
            "[0.40151476860046387, 0.8790436387062073]\n"
          ]
        }
      ]
    },
    {
      "cell_type": "code",
      "source": [
        "results = gru_model.evaluate(x_test, y_test, batch_size=128,verbose=0)\n",
        "print(lstm_model.metrics_names)\n",
        "print(results)"
      ],
      "metadata": {
        "colab": {
          "base_uri": "https://localhost:8080/"
        },
        "id": "AUZ6CcnqAJhy",
        "outputId": "443bea30-70ee-4766-cdb0-a58cc2550f4f"
      },
      "execution_count": 38,
      "outputs": [
        {
          "output_type": "stream",
          "name": "stdout",
          "text": [
            "['loss', 'accuracy']\n",
            "[0.38250577449798584, 0.8814932703971863]\n"
          ]
        }
      ]
    },
    {
      "cell_type": "code",
      "source": [
        "results = bidirect_model.evaluate(x_test, y_test, batch_size=128,verbose=0)\n",
        "print(bidirect_model.metrics_names)\n",
        "print(results)"
      ],
      "metadata": {
        "colab": {
          "base_uri": "https://localhost:8080/"
        },
        "id": "Du0h6YIUAODm",
        "outputId": "8707f415-6f8d-4ea9-bfcb-0f00eaf76ea8"
      },
      "execution_count": 39,
      "outputs": [
        {
          "output_type": "stream",
          "name": "stdout",
          "text": [
            "['loss', 'accuracy']\n",
            "[0.388576865196228, 0.8817952871322632]\n"
          ]
        }
      ]
    },
    {
      "cell_type": "markdown",
      "source": [
        "Predict the test data"
      ],
      "metadata": {
        "id": "w7Eg3i01CrBQ"
      }
    },
    {
      "cell_type": "code",
      "source": [
        "import numpy as np\n",
        "import pandas as pd\n",
        "import os\n",
        "test_data = []\n",
        "f = open(\"/content/drive/MyDrive/dataset/nlp_test_dataset.txt\", \"r\")\n",
        "rowtext = []\n",
        "for line in f:\n",
        "  if line == \"\\n\":\n",
        "    test_data.append(rowtext)\n",
        "    rowtext = []\n",
        "  else:\n",
        "    if line!='.\\n' and line!=',\\n':\n",
        "      rowtext.append(line.strip('\\n'))\n",
        "print(test_data[0])"
      ],
      "metadata": {
        "colab": {
          "base_uri": "https://localhost:8080/"
        },
        "id": "cHuH7x_EAg2P",
        "outputId": "e8077c02-b762-498d-dd9b-e75cfb67252d"
      },
      "execution_count": 40,
      "outputs": [
        {
          "output_type": "stream",
          "name": "stdout",
          "text": [
            "['Rockwell', 'International', 'Corp.', \"'s\", 'Tulsa', 'unit', 'said', 'it', 'signed', 'a', 'tentative', 'agreement', 'extending', 'its', 'contract', 'with', 'Boeing', 'Co.', 'to', 'provide', 'structural', 'parts', 'for', 'Boeing', \"'s\", '747', 'jetliners']\n"
          ]
        }
      ]
    },
    {
      "cell_type": "code",
      "source": [
        "test_df = pd.DataFrame(columns=[\"text\"])\n",
        "test_df[\"text\"] = test_data"
      ],
      "metadata": {
        "id": "ogzFqhKKByoW"
      },
      "execution_count": 41,
      "outputs": []
    },
    {
      "cell_type": "code",
      "source": [
        "test_df.head()"
      ],
      "metadata": {
        "colab": {
          "base_uri": "https://localhost:8080/",
          "height": 206
        },
        "id": "gWlBqL1RCjiu",
        "outputId": "064d3f16-4ddb-4ae3-a5b3-0e61df0d20c4"
      },
      "execution_count": 42,
      "outputs": [
        {
          "output_type": "execute_result",
          "data": {
            "text/plain": [
              "                                                text\n",
              "0  [Rockwell, International, Corp., 's, Tulsa, un...\n",
              "1  [Rockwell, said, the, agreement, calls, for, i...\n",
              "2  [These, include, among, other, parts, each, je...\n",
              "3  [Under, the, existing, contract, Rockwell, sai...\n",
              "4  [Rockwell, based, in, El, Segundo, Calif., is,..."
            ],
            "text/html": [
              "\n",
              "  <div id=\"df-5de9639a-97cc-4abe-9cb7-210d2dae063d\">\n",
              "    <div class=\"colab-df-container\">\n",
              "      <div>\n",
              "<style scoped>\n",
              "    .dataframe tbody tr th:only-of-type {\n",
              "        vertical-align: middle;\n",
              "    }\n",
              "\n",
              "    .dataframe tbody tr th {\n",
              "        vertical-align: top;\n",
              "    }\n",
              "\n",
              "    .dataframe thead th {\n",
              "        text-align: right;\n",
              "    }\n",
              "</style>\n",
              "<table border=\"1\" class=\"dataframe\">\n",
              "  <thead>\n",
              "    <tr style=\"text-align: right;\">\n",
              "      <th></th>\n",
              "      <th>text</th>\n",
              "    </tr>\n",
              "  </thead>\n",
              "  <tbody>\n",
              "    <tr>\n",
              "      <th>0</th>\n",
              "      <td>[Rockwell, International, Corp., 's, Tulsa, un...</td>\n",
              "    </tr>\n",
              "    <tr>\n",
              "      <th>1</th>\n",
              "      <td>[Rockwell, said, the, agreement, calls, for, i...</td>\n",
              "    </tr>\n",
              "    <tr>\n",
              "      <th>2</th>\n",
              "      <td>[These, include, among, other, parts, each, je...</td>\n",
              "    </tr>\n",
              "    <tr>\n",
              "      <th>3</th>\n",
              "      <td>[Under, the, existing, contract, Rockwell, sai...</td>\n",
              "    </tr>\n",
              "    <tr>\n",
              "      <th>4</th>\n",
              "      <td>[Rockwell, based, in, El, Segundo, Calif., is,...</td>\n",
              "    </tr>\n",
              "  </tbody>\n",
              "</table>\n",
              "</div>\n",
              "      <button class=\"colab-df-convert\" onclick=\"convertToInteractive('df-5de9639a-97cc-4abe-9cb7-210d2dae063d')\"\n",
              "              title=\"Convert this dataframe to an interactive table.\"\n",
              "              style=\"display:none;\">\n",
              "        \n",
              "  <svg xmlns=\"http://www.w3.org/2000/svg\" height=\"24px\"viewBox=\"0 0 24 24\"\n",
              "       width=\"24px\">\n",
              "    <path d=\"M0 0h24v24H0V0z\" fill=\"none\"/>\n",
              "    <path d=\"M18.56 5.44l.94 2.06.94-2.06 2.06-.94-2.06-.94-.94-2.06-.94 2.06-2.06.94zm-11 1L8.5 8.5l.94-2.06 2.06-.94-2.06-.94L8.5 2.5l-.94 2.06-2.06.94zm10 10l.94 2.06.94-2.06 2.06-.94-2.06-.94-.94-2.06-.94 2.06-2.06.94z\"/><path d=\"M17.41 7.96l-1.37-1.37c-.4-.4-.92-.59-1.43-.59-.52 0-1.04.2-1.43.59L10.3 9.45l-7.72 7.72c-.78.78-.78 2.05 0 2.83L4 21.41c.39.39.9.59 1.41.59.51 0 1.02-.2 1.41-.59l7.78-7.78 2.81-2.81c.8-.78.8-2.07 0-2.86zM5.41 20L4 18.59l7.72-7.72 1.47 1.35L5.41 20z\"/>\n",
              "  </svg>\n",
              "      </button>\n",
              "      \n",
              "  <style>\n",
              "    .colab-df-container {\n",
              "      display:flex;\n",
              "      flex-wrap:wrap;\n",
              "      gap: 12px;\n",
              "    }\n",
              "\n",
              "    .colab-df-convert {\n",
              "      background-color: #E8F0FE;\n",
              "      border: none;\n",
              "      border-radius: 50%;\n",
              "      cursor: pointer;\n",
              "      display: none;\n",
              "      fill: #1967D2;\n",
              "      height: 32px;\n",
              "      padding: 0 0 0 0;\n",
              "      width: 32px;\n",
              "    }\n",
              "\n",
              "    .colab-df-convert:hover {\n",
              "      background-color: #E2EBFA;\n",
              "      box-shadow: 0px 1px 2px rgba(60, 64, 67, 0.3), 0px 1px 3px 1px rgba(60, 64, 67, 0.15);\n",
              "      fill: #174EA6;\n",
              "    }\n",
              "\n",
              "    [theme=dark] .colab-df-convert {\n",
              "      background-color: #3B4455;\n",
              "      fill: #D2E3FC;\n",
              "    }\n",
              "\n",
              "    [theme=dark] .colab-df-convert:hover {\n",
              "      background-color: #434B5C;\n",
              "      box-shadow: 0px 1px 3px 1px rgba(0, 0, 0, 0.15);\n",
              "      filter: drop-shadow(0px 1px 2px rgba(0, 0, 0, 0.3));\n",
              "      fill: #FFFFFF;\n",
              "    }\n",
              "  </style>\n",
              "\n",
              "      <script>\n",
              "        const buttonEl =\n",
              "          document.querySelector('#df-5de9639a-97cc-4abe-9cb7-210d2dae063d button.colab-df-convert');\n",
              "        buttonEl.style.display =\n",
              "          google.colab.kernel.accessAllowed ? 'block' : 'none';\n",
              "\n",
              "        async function convertToInteractive(key) {\n",
              "          const element = document.querySelector('#df-5de9639a-97cc-4abe-9cb7-210d2dae063d');\n",
              "          const dataTable =\n",
              "            await google.colab.kernel.invokeFunction('convertToInteractive',\n",
              "                                                     [key], {});\n",
              "          if (!dataTable) return;\n",
              "\n",
              "          const docLinkHtml = 'Like what you see? Visit the ' +\n",
              "            '<a target=\"_blank\" href=https://colab.research.google.com/notebooks/data_table.ipynb>data table notebook</a>'\n",
              "            + ' to learn more about interactive tables.';\n",
              "          element.innerHTML = '';\n",
              "          dataTable['output_type'] = 'display_data';\n",
              "          await google.colab.output.renderOutput(dataTable, element);\n",
              "          const docLink = document.createElement('div');\n",
              "          docLink.innerHTML = docLinkHtml;\n",
              "          element.appendChild(docLink);\n",
              "        }\n",
              "      </script>\n",
              "    </div>\n",
              "  </div>\n",
              "  "
            ]
          },
          "metadata": {},
          "execution_count": 42
        }
      ]
    },
    {
      "cell_type": "code",
      "source": [
        "MAX_NB_WORDS = 5000\n",
        "MAX_SEQUENCE_LENGTH = 100\n",
        "tokenizer = Tokenizer(num_words=MAX_NB_WORDS)\n",
        "tokenizer.fit_on_texts(test_df[\"text\"])\n",
        "sequences = []\n",
        "for i in range(len(test_data)):\n",
        "  sequence = tokenizer.texts_to_sequences([test_data[i]])\n",
        "  sequences.append(sequence[0])\n",
        "print(sequences[0])\n",
        "print(sequences[30])\n",
        "test_X_padded = pad_sequences(sequences, maxlen=MAX_SEQUENCE_LENGTH, padding=\"post\")\n",
        "tag_tokenizer.word_index['<PAD>'] = 0\n",
        "tag_tokenizer.index_word[0] = '<PAD>'"
      ],
      "metadata": {
        "colab": {
          "base_uri": "https://localhost:8080/"
        },
        "id": "TURjXrPmD3cu",
        "outputId": "35ed3eac-0521-4a5d-fa6a-61654c9fbeb0"
      },
      "execution_count": 43,
      "outputs": [
        {
          "output_type": "stream",
          "name": "stdout",
          "text": [
            "[1353, 270, 86, 8, 3413, 232, 14, 18, 917, 4, 2270, 432, 3414, 26, 307, 24, 1093, 101, 2, 433, 3415, 918, 7, 1093, 8, 3416, 3417]\n",
            "[17, 82, 8, 335, 3, 70, 18, 21, 581, 7, 4, 3471, 10, 3472, 22]\n"
          ]
        }
      ]
    },
    {
      "cell_type": "code",
      "source": [
        "rnn_output = rnn_model.predict(test_X_padded)\n",
        "rnn_pred_sequences = []\n",
        "for i in range(len(rnn_output)):\n",
        "    pred_tags = [tag_tokenizer.index_word[np.argmax(p)] for p in rnn_output[i]]\n",
        "    rnn_pred_sequences.append(pred_tags)\n",
        "for i in range(5):\n",
        "  print(test_df.iloc[i])\n",
        "  print(rnn_pred_sequences[i])\n",
        "  print(\"\\n\")"
      ],
      "metadata": {
        "colab": {
          "base_uri": "https://localhost:8080/"
        },
        "id": "ke_GQo3BFYYL",
        "outputId": "1fc0044b-a35c-4ceb-e84e-248688670c9c"
      },
      "execution_count": 44,
      "outputs": [
        {
          "output_type": "stream",
          "name": "stdout",
          "text": [
            "63/63 [==============================] - 1s 10ms/step\n",
            "text    [Rockwell, International, Corp., 's, Tulsa, un...\n",
            "Name: 0, dtype: object\n",
            "['nns', 'nn', 'nn', 'pos', 'nnp', 'nn', 'vbd', 'in', 'nn', 'dt', 'nn', 'nn', 'nn', 'vbp', 'in', 'in', 'nn', 'nnp', 'in', 'in', 'nnp', 'nnp', 'in', 'nn', 'vbz', '<PAD>', 'nn', '<PAD>', '<PAD>', '<PAD>', '<PAD>', '<PAD>', '<PAD>', '<PAD>', '<PAD>', '<PAD>', '<PAD>', '<PAD>', '<PAD>', '<PAD>', '<PAD>', '<PAD>', '<PAD>', '<PAD>', '<PAD>', '<PAD>', '<PAD>', '<PAD>', '<PAD>', '<PAD>', '<PAD>', '<PAD>', '<PAD>', '<PAD>', '<PAD>', '<PAD>', '<PAD>', '<PAD>', '<PAD>', '<PAD>', '<PAD>', '<PAD>', '<PAD>', '<PAD>', '<PAD>', '<PAD>', '<PAD>', '<PAD>', '<PAD>', '<PAD>', '<PAD>', '<PAD>', '<PAD>', '<PAD>', '<PAD>', '<PAD>', '<PAD>', '<PAD>', '<PAD>', '<PAD>', '<PAD>', '<PAD>', '<PAD>', '<PAD>', '<PAD>', '<PAD>', '<PAD>', '<PAD>', '<PAD>', '<PAD>', '<PAD>', '<PAD>', '<PAD>', '<PAD>', '<PAD>', '<PAD>', '<PAD>', '<PAD>', '<PAD>', '<PAD>']\n",
            "\n",
            "\n",
            "text    [Rockwell, said, the, agreement, calls, for, i...\n",
            "Name: 1, dtype: object\n",
            "['nns', 'vbd', 'dt', 'nn', 'jj', 'in', 'in', 'in', 'in', 'nn', 'nn', 'nn', 'nns', 'in', 'dt', 'dt', 'nn', 'nn', '<PAD>', '<PAD>', '<PAD>', '<PAD>', '<PAD>', '<PAD>', '<PAD>', '<PAD>', '<PAD>', '<PAD>', '<PAD>', '<PAD>', '<PAD>', '<PAD>', '<PAD>', '<PAD>', '<PAD>', '<PAD>', '<PAD>', '<PAD>', '<PAD>', '<PAD>', '<PAD>', '<PAD>', '<PAD>', '<PAD>', '<PAD>', '<PAD>', '<PAD>', '<PAD>', '<PAD>', '<PAD>', '<PAD>', '<PAD>', '<PAD>', '<PAD>', '<PAD>', '<PAD>', '<PAD>', '<PAD>', '<PAD>', '<PAD>', '<PAD>', '<PAD>', '<PAD>', '<PAD>', '<PAD>', '<PAD>', '<PAD>', '<PAD>', '<PAD>', '<PAD>', '<PAD>', '<PAD>', '<PAD>', '<PAD>', '<PAD>', '<PAD>', '<PAD>', '<PAD>', '<PAD>', '<PAD>', '<PAD>', '<PAD>', '<PAD>', '<PAD>', '<PAD>', '<PAD>', '<PAD>', '<PAD>', '<PAD>', '<PAD>', '<PAD>', '<PAD>', '<PAD>', '<PAD>', '<PAD>', '<PAD>', '<PAD>', '<PAD>', '<PAD>', '<PAD>']\n",
            "\n",
            "\n",
            "text    [These, include, among, other, parts, each, je...\n",
            "Name: 2, dtype: object\n",
            "['in', 'in', 'jj', 'in', 'nns', 'nn', 'nn', 'pos', 'nn', 'nn', 'nn', 'dt', 'dt', 'nn', 'nn', '<PAD>', '<PAD>', 'in', 'in', 'in', 'dt', 'nn', 'in', 'nnp', 'nn', 'nn', 'nns', 'nns', '<PAD>', '<PAD>', '<PAD>', '<PAD>', '<PAD>', '<PAD>', '<PAD>', '<PAD>', '<PAD>', '<PAD>', '<PAD>', '<PAD>', '<PAD>', '<PAD>', '<PAD>', '<PAD>', '<PAD>', '<PAD>', '<PAD>', '<PAD>', '<PAD>', '<PAD>', '<PAD>', '<PAD>', '<PAD>', '<PAD>', '<PAD>', '<PAD>', '<PAD>', '<PAD>', '<PAD>', '<PAD>', '<PAD>', '<PAD>', '<PAD>', '<PAD>', '<PAD>', '<PAD>', '<PAD>', '<PAD>', '<PAD>', '<PAD>', '<PAD>', '<PAD>', '<PAD>', '<PAD>', '<PAD>', '<PAD>', '<PAD>', '<PAD>', '<PAD>', '<PAD>', '<PAD>', '<PAD>', '<PAD>', '<PAD>', '<PAD>', '<PAD>', '<PAD>', '<PAD>', '<PAD>', '<PAD>', '<PAD>', '<PAD>', '<PAD>', '<PAD>', '<PAD>', '<PAD>', '<PAD>', '<PAD>', '<PAD>', '<PAD>']\n",
            "\n",
            "\n",
            "text    [Under, the, existing, contract, Rockwell, sai...\n",
            "Name: 3, dtype: object\n",
            "['prp', 'dt', 'nn', 'nn', 'nn', 'vbd', 'in', 'prp$', 'nn', 'nn', 'nn', 'to', 'dt', 'nn', 'in', 'nn', 'nn', '<PAD>', '<PAD>', '<PAD>', '<PAD>', '<PAD>', '<PAD>', '<PAD>', '<PAD>', '<PAD>', '<PAD>', '<PAD>', '<PAD>', '<PAD>', '<PAD>', '<PAD>', '<PAD>', '<PAD>', '<PAD>', '<PAD>', '<PAD>', '<PAD>', '<PAD>', '<PAD>', '<PAD>', '<PAD>', '<PAD>', '<PAD>', '<PAD>', '<PAD>', '<PAD>', '<PAD>', '<PAD>', '<PAD>', '<PAD>', '<PAD>', '<PAD>', '<PAD>', '<PAD>', '<PAD>', '<PAD>', '<PAD>', '<PAD>', '<PAD>', '<PAD>', '<PAD>', '<PAD>', '<PAD>', '<PAD>', '<PAD>', '<PAD>', '<PAD>', '<PAD>', '<PAD>', '<PAD>', '<PAD>', '<PAD>', '<PAD>', '<PAD>', '<PAD>', '<PAD>', '<PAD>', '<PAD>', '<PAD>', '<PAD>', '<PAD>', '<PAD>', '<PAD>', '<PAD>', '<PAD>', '<PAD>', '<PAD>', '<PAD>', '<PAD>', '<PAD>', '<PAD>', '<PAD>', '<PAD>', '<PAD>', '<PAD>', '<PAD>', '<PAD>', '<PAD>', '<PAD>']\n",
            "\n",
            "\n",
            "text    [Rockwell, based, in, El, Segundo, Calif., is,...\n",
            "Name: 4, dtype: object\n",
            "['nns', 'cd', 'cc', 'nn', 'cd', 'cd', 'vbz', 'nnp', 'nnp', 'nn', 'nn', 'in', 'nn', 'cd', 'nns', '<PAD>', '<PAD>', '<PAD>', '<PAD>', '<PAD>', '<PAD>', '<PAD>', '<PAD>', '<PAD>', '<PAD>', '<PAD>', '<PAD>', '<PAD>', '<PAD>', '<PAD>', '<PAD>', '<PAD>', '<PAD>', '<PAD>', '<PAD>', '<PAD>', '<PAD>', '<PAD>', '<PAD>', '<PAD>', '<PAD>', '<PAD>', '<PAD>', '<PAD>', '<PAD>', '<PAD>', '<PAD>', '<PAD>', '<PAD>', '<PAD>', '<PAD>', '<PAD>', '<PAD>', '<PAD>', '<PAD>', '<PAD>', '<PAD>', '<PAD>', '<PAD>', '<PAD>', '<PAD>', '<PAD>', '<PAD>', '<PAD>', '<PAD>', '<PAD>', '<PAD>', '<PAD>', '<PAD>', '<PAD>', '<PAD>', '<PAD>', '<PAD>', '<PAD>', '<PAD>', '<PAD>', '<PAD>', '<PAD>', '<PAD>', '<PAD>', '<PAD>', '<PAD>', '<PAD>', '<PAD>', '<PAD>', '<PAD>', '<PAD>', '<PAD>', '<PAD>', '<PAD>', '<PAD>', '<PAD>', '<PAD>', '<PAD>', '<PAD>', '<PAD>', '<PAD>', '<PAD>', '<PAD>', '<PAD>']\n",
            "\n",
            "\n"
          ]
        }
      ]
    },
    {
      "cell_type": "code",
      "source": [
        "lstm_output = lstm_model.predict(test_X_padded)\n",
        "lstm_pred_sequences = []\n",
        "for i in range(len(lstm_output)):\n",
        "    pred_tags = [tag_tokenizer.index_word[np.argmax(p)] for p in lstm_output[i]]\n",
        "    lstm_pred_sequences.append(pred_tags)\n",
        "for i in range(5):\n",
        "  print(test_df.iloc[i])\n",
        "  print(len(test_df.iloc[i]))\n",
        "  print(lstm_pred_sequences[i])\n",
        "  print(len(lstm_pred_sequences[i]))\n",
        "  print(\"\\n\")"
      ],
      "metadata": {
        "colab": {
          "base_uri": "https://localhost:8080/"
        },
        "id": "3_rEwmOMInTF",
        "outputId": "fad80fd8-3158-4dbb-f9cf-3ff130dec19d"
      },
      "execution_count": 45,
      "outputs": [
        {
          "output_type": "stream",
          "name": "stdout",
          "text": [
            "63/63 [==============================] - 1s 3ms/step\n",
            "text    [Rockwell, International, Corp., 's, Tulsa, un...\n",
            "Name: 0, dtype: object\n",
            "1\n",
            "['rb', 'nn', 'nn', 'pos', 'nnp', 'nnp', 'vbd', 'in', 'rb', 'dt', 'in', 'dt', 'nn', 'vbp', 'nnp', 'in', 'vbn', 'nnp', 'in', 'in', 'in', 'nn', 'in', 'in', 'pos', 'nn', 'nn', 'nn', 'nn', 'nn', '<PAD>', '<PAD>', '<PAD>', '<PAD>', '<PAD>', '<PAD>', '<PAD>', '<PAD>', '<PAD>', '<PAD>', '<PAD>', '<PAD>', '<PAD>', '<PAD>', '<PAD>', '<PAD>', '<PAD>', '<PAD>', '<PAD>', '<PAD>', '<PAD>', '<PAD>', '<PAD>', '<PAD>', '<PAD>', '<PAD>', '<PAD>', '<PAD>', '<PAD>', '<PAD>', '<PAD>', '<PAD>', '<PAD>', '<PAD>', '<PAD>', '<PAD>', '<PAD>', '<PAD>', '<PAD>', '<PAD>', '<PAD>', '<PAD>', '<PAD>', '<PAD>', '<PAD>', '<PAD>', '<PAD>', '<PAD>', '<PAD>', '<PAD>', '<PAD>', '<PAD>', '<PAD>', '<PAD>', '<PAD>', '<PAD>', '<PAD>', '<PAD>', '<PAD>', '<PAD>', '<PAD>', '<PAD>', '<PAD>', '<PAD>', '<PAD>', '<PAD>', '<PAD>', '<PAD>', '<PAD>', '<PAD>']\n",
            "100\n",
            "\n",
            "\n",
            "text    [Rockwell, said, the, agreement, calls, for, i...\n",
            "Name: 1, dtype: object\n",
            "1\n",
            "['rb', 'vbd', 'dt', 'dt', 'nn', 'in', 'in', 'in', 'in', 'in', 'nn', 'jj', 'jj', 'in', 'dt', 'dt', 'dt', 'nn', '<PAD>', '<PAD>', '<PAD>', '<PAD>', '<PAD>', '<PAD>', '<PAD>', '<PAD>', '<PAD>', '<PAD>', '<PAD>', '<PAD>', '<PAD>', '<PAD>', '<PAD>', '<PAD>', '<PAD>', '<PAD>', '<PAD>', '<PAD>', '<PAD>', '<PAD>', '<PAD>', '<PAD>', '<PAD>', '<PAD>', '<PAD>', '<PAD>', '<PAD>', '<PAD>', '<PAD>', '<PAD>', '<PAD>', '<PAD>', '<PAD>', '<PAD>', '<PAD>', '<PAD>', '<PAD>', '<PAD>', '<PAD>', '<PAD>', '<PAD>', '<PAD>', '<PAD>', '<PAD>', '<PAD>', '<PAD>', '<PAD>', '<PAD>', '<PAD>', '<PAD>', '<PAD>', '<PAD>', '<PAD>', '<PAD>', '<PAD>', '<PAD>', '<PAD>', '<PAD>', '<PAD>', '<PAD>', '<PAD>', '<PAD>', '<PAD>', '<PAD>', '<PAD>', '<PAD>', '<PAD>', '<PAD>', '<PAD>', '<PAD>', '<PAD>', '<PAD>', '<PAD>', '<PAD>', '<PAD>', '<PAD>', '<PAD>', '<PAD>', '<PAD>', '<PAD>']\n",
            "100\n",
            "\n",
            "\n",
            "text    [These, include, among, other, parts, each, je...\n",
            "Name: 2, dtype: object\n",
            "1\n",
            "['in', 'prp', 'jj', 'in', 'in', 'vbg', 'jj', 'pos', 'in', 'nn', 'nn', 'dt', 'dt', 'nnp', 'nnp', 'jj', 'vbd', 'nn', 'nn', 'in', 'in', 'dt', 'in', 'nnp', 'nn', 'nns', 'nns', 'nns', 'nns', 'nns', '<PAD>', '<PAD>', '<PAD>', '<PAD>', '<PAD>', '<PAD>', '<PAD>', '<PAD>', '<PAD>', '<PAD>', '<PAD>', '<PAD>', '<PAD>', '<PAD>', '<PAD>', '<PAD>', '<PAD>', '<PAD>', '<PAD>', '<PAD>', '<PAD>', '<PAD>', '<PAD>', '<PAD>', '<PAD>', '<PAD>', '<PAD>', '<PAD>', '<PAD>', '<PAD>', '<PAD>', '<PAD>', '<PAD>', '<PAD>', '<PAD>', '<PAD>', '<PAD>', '<PAD>', '<PAD>', '<PAD>', '<PAD>', '<PAD>', '<PAD>', '<PAD>', '<PAD>', '<PAD>', '<PAD>', '<PAD>', '<PAD>', '<PAD>', '<PAD>', '<PAD>', '<PAD>', '<PAD>', '<PAD>', '<PAD>', '<PAD>', '<PAD>', '<PAD>', '<PAD>', '<PAD>', '<PAD>', '<PAD>', '<PAD>', '<PAD>', '<PAD>', '<PAD>', '<PAD>', '<PAD>', '<PAD>']\n",
            "100\n",
            "\n",
            "\n",
            "text    [Under, the, existing, contract, Rockwell, sai...\n",
            "Name: 3, dtype: object\n",
            "1\n",
            "['rb', 'dt', 'nn', 'nn', 'in', 'vbd', 'in', 'prp$', 'nn', 'nn', 'nn', 'to', 'dt', 'jj', 'in', 'in', 'in', '<PAD>', '<PAD>', '<PAD>', '<PAD>', '<PAD>', '<PAD>', '<PAD>', '<PAD>', '<PAD>', '<PAD>', '<PAD>', '<PAD>', '<PAD>', '<PAD>', '<PAD>', '<PAD>', '<PAD>', '<PAD>', '<PAD>', '<PAD>', '<PAD>', '<PAD>', '<PAD>', '<PAD>', '<PAD>', '<PAD>', '<PAD>', '<PAD>', '<PAD>', '<PAD>', '<PAD>', '<PAD>', '<PAD>', '<PAD>', '<PAD>', '<PAD>', '<PAD>', '<PAD>', '<PAD>', '<PAD>', '<PAD>', '<PAD>', '<PAD>', '<PAD>', '<PAD>', '<PAD>', '<PAD>', '<PAD>', '<PAD>', '<PAD>', '<PAD>', '<PAD>', '<PAD>', '<PAD>', '<PAD>', '<PAD>', '<PAD>', '<PAD>', '<PAD>', '<PAD>', '<PAD>', '<PAD>', '<PAD>', '<PAD>', '<PAD>', '<PAD>', '<PAD>', '<PAD>', '<PAD>', '<PAD>', '<PAD>', '<PAD>', '<PAD>', '<PAD>', '<PAD>', '<PAD>', '<PAD>', '<PAD>', '<PAD>', '<PAD>', '<PAD>', '<PAD>', '<PAD>']\n",
            "100\n",
            "\n",
            "\n",
            "text    [Rockwell, based, in, El, Segundo, Calif., is,...\n",
            "Name: 4, dtype: object\n",
            "1\n",
            "['rb', 'cd', 'cc', 'cc', 'cd', 'nn', 'vbz', 'nnp', 'nnp', 'nn', '<PAD>', 'in', 'in', 'cd', '<PAD>', '<PAD>', '<PAD>', '<PAD>', '<PAD>', '<PAD>', '<PAD>', '<PAD>', '<PAD>', '<PAD>', '<PAD>', '<PAD>', '<PAD>', '<PAD>', '<PAD>', '<PAD>', '<PAD>', '<PAD>', '<PAD>', '<PAD>', '<PAD>', '<PAD>', '<PAD>', '<PAD>', '<PAD>', '<PAD>', '<PAD>', '<PAD>', '<PAD>', '<PAD>', '<PAD>', '<PAD>', '<PAD>', '<PAD>', '<PAD>', '<PAD>', '<PAD>', '<PAD>', '<PAD>', '<PAD>', '<PAD>', '<PAD>', '<PAD>', '<PAD>', '<PAD>', '<PAD>', '<PAD>', '<PAD>', '<PAD>', '<PAD>', '<PAD>', '<PAD>', '<PAD>', '<PAD>', '<PAD>', '<PAD>', '<PAD>', '<PAD>', '<PAD>', '<PAD>', '<PAD>', '<PAD>', '<PAD>', '<PAD>', '<PAD>', '<PAD>', '<PAD>', '<PAD>', '<PAD>', '<PAD>', '<PAD>', '<PAD>', '<PAD>', '<PAD>', '<PAD>', '<PAD>', '<PAD>', '<PAD>', '<PAD>', '<PAD>', '<PAD>', '<PAD>', '<PAD>', '<PAD>', '<PAD>', '<PAD>']\n",
            "100\n",
            "\n",
            "\n"
          ]
        }
      ]
    },
    {
      "cell_type": "code",
      "source": [
        "print(len(test_data))\n",
        "print(len(test_data[0]))\n",
        "print(len(sequences))\n",
        "print(len(sequences[0]))\n",
        "print(len(test_X_padded))\n",
        "print(len(test_X_padded[0]))\n",
        "\n",
        "print(len(rnn_output))\n",
        "print(len(rnn_output[0]))\n",
        "print(len(lstm_pred_sequences))\n",
        "print(len(lstm_pred_sequences[0]))"
      ],
      "metadata": {
        "colab": {
          "base_uri": "https://localhost:8080/"
        },
        "id": "NUaAATbXlkHv",
        "outputId": "3707f7c5-af88-478b-9445-80518660fb96"
      },
      "execution_count": 46,
      "outputs": [
        {
          "output_type": "stream",
          "name": "stdout",
          "text": [
            "2012\n",
            "27\n",
            "2012\n",
            "27\n",
            "2012\n",
            "100\n",
            "2012\n",
            "100\n",
            "2012\n",
            "100\n"
          ]
        }
      ]
    },
    {
      "cell_type": "code",
      "source": [
        "gru_output = gru_model.predict(test_X_padded)\n",
        "gru_pred_sequences = []\n",
        "for i in range(len(gru_output)):\n",
        "    pred_tags = [tag_tokenizer.index_word[np.argmax(p)] for p in gru_output[i]]\n",
        "    gru_pred_sequences.append(pred_tags)\n",
        "for i in range(5):\n",
        "  print(test_df.iloc[i])\n",
        "  print(len(test_df.iloc[i]))\n",
        "  print(gru_pred_sequences[i])\n",
        "  print(len(gru_pred_sequences[i]))\n",
        "  print(\"\\n\")"
      ],
      "metadata": {
        "colab": {
          "base_uri": "https://localhost:8080/"
        },
        "id": "nhO_TEmw-3XN",
        "outputId": "acdbd335-d0d4-41e3-e09f-0367a427d1e9"
      },
      "execution_count": 47,
      "outputs": [
        {
          "output_type": "stream",
          "name": "stdout",
          "text": [
            "63/63 [==============================] - 1s 3ms/step\n",
            "text    [Rockwell, International, Corp., 's, Tulsa, un...\n",
            "Name: 0, dtype: object\n",
            "1\n",
            "['vbn', 'nn', '(', 'pos', 'nnp', 'nnp', 'vbd', 'vbd', 'vbd', 'dt', 'vbz', 'nn', 'nn', 'vbp', 'nnp', 'in', 'vbn', 'nnp', 'in', 'nn', 'nnp', 'nn', 'in', 'in', 'pos', 'pos', 'nn', 'nn', '<PAD>', '<PAD>', '<PAD>', '<PAD>', '<PAD>', '<PAD>', '<PAD>', '<PAD>', '<PAD>', '<PAD>', '<PAD>', '<PAD>', '<PAD>', '<PAD>', '<PAD>', '<PAD>', '<PAD>', '<PAD>', '<PAD>', '<PAD>', '<PAD>', '<PAD>', '<PAD>', '<PAD>', '<PAD>', '<PAD>', '<PAD>', '<PAD>', '<PAD>', '<PAD>', '<PAD>', '<PAD>', '<PAD>', '<PAD>', '<PAD>', '<PAD>', '<PAD>', '<PAD>', '<PAD>', '<PAD>', '<PAD>', '<PAD>', '<PAD>', '<PAD>', '<PAD>', '<PAD>', '<PAD>', '<PAD>', '<PAD>', '<PAD>', '<PAD>', '<PAD>', '<PAD>', '<PAD>', '<PAD>', '<PAD>', '<PAD>', '<PAD>', '<PAD>', '<PAD>', '<PAD>', '<PAD>', '<PAD>', '<PAD>', '<PAD>', '<PAD>', '<PAD>', '<PAD>', '<PAD>', '<PAD>', '<PAD>', '<PAD>']\n",
            "100\n",
            "\n",
            "\n",
            "text    [Rockwell, said, the, agreement, calls, for, i...\n",
            "Name: 1, dtype: object\n",
            "1\n",
            "['vbn', 'vbd', 'dt', 'dt', 'nn', 'in', 'in', 'in', 'in', 'in', 'nn', 'nn', 'jj', 'in', 'dt', 'dt', 'in', '<PAD>', '<PAD>', '<PAD>', '<PAD>', '<PAD>', '<PAD>', '<PAD>', '<PAD>', '<PAD>', '<PAD>', '<PAD>', '<PAD>', '<PAD>', '<PAD>', '<PAD>', '<PAD>', '<PAD>', '<PAD>', '<PAD>', '<PAD>', '<PAD>', '<PAD>', '<PAD>', '<PAD>', '<PAD>', '<PAD>', '<PAD>', '<PAD>', '<PAD>', '<PAD>', '<PAD>', '<PAD>', '<PAD>', '<PAD>', '<PAD>', '<PAD>', '<PAD>', '<PAD>', '<PAD>', '<PAD>', '<PAD>', '<PAD>', '<PAD>', '<PAD>', '<PAD>', '<PAD>', '<PAD>', '<PAD>', '<PAD>', '<PAD>', '<PAD>', '<PAD>', '<PAD>', '<PAD>', '<PAD>', '<PAD>', '<PAD>', '<PAD>', '<PAD>', '<PAD>', '<PAD>', '<PAD>', '<PAD>', '<PAD>', '<PAD>', '<PAD>', '<PAD>', '<PAD>', '<PAD>', '<PAD>', '<PAD>', '<PAD>', '<PAD>', '<PAD>', '<PAD>', '<PAD>', '<PAD>', '<PAD>', '<PAD>', '<PAD>', '<PAD>', '<PAD>', '<PAD>']\n",
            "100\n",
            "\n",
            "\n",
            "text    [These, include, among, other, parts, each, je...\n",
            "Name: 2, dtype: object\n",
            "1\n",
            "['in', 'prp', 'jj', 'in', 'in', 'vbg', 'vbg', 'pos', 'in', 'nn', 'nn', 'dt', 'dt', 'nnp', 'nnp', 'nnp', 'vbd', 'nn', 'nn', 'in', 'dt', 'dt', 'in', 'nnp', 'nnp', 'nnp', 'nnp', 'nnp', 'nnp', '<PAD>', '<PAD>', '<PAD>', '<PAD>', '<PAD>', '<PAD>', '<PAD>', '<PAD>', '<PAD>', '<PAD>', '<PAD>', '<PAD>', '<PAD>', '<PAD>', '<PAD>', '<PAD>', '<PAD>', '<PAD>', '<PAD>', '<PAD>', '<PAD>', '<PAD>', '<PAD>', '<PAD>', '<PAD>', '<PAD>', '<PAD>', '<PAD>', '<PAD>', '<PAD>', '<PAD>', '<PAD>', '<PAD>', '<PAD>', '<PAD>', '<PAD>', '<PAD>', '<PAD>', '<PAD>', '<PAD>', '<PAD>', '<PAD>', '<PAD>', '<PAD>', '<PAD>', '<PAD>', '<PAD>', '<PAD>', '<PAD>', '<PAD>', '<PAD>', '<PAD>', '<PAD>', '<PAD>', '<PAD>', '<PAD>', '<PAD>', '<PAD>', '<PAD>', '<PAD>', '<PAD>', '<PAD>', '<PAD>', '<PAD>', '<PAD>', '<PAD>', '<PAD>', '<PAD>', '<PAD>', '<PAD>', '<PAD>']\n",
            "100\n",
            "\n",
            "\n",
            "text    [Under, the, existing, contract, Rockwell, sai...\n",
            "Name: 3, dtype: object\n",
            "1\n",
            "['rb', 'dt', 'nn', 'nn', 'vbd', 'vbd', 'in', 'prp$', 'nn', 'nn', 'nn', 'to', 'dt', 'jj', 'in', 'in', 'in', '<PAD>', '<PAD>', '<PAD>', '<PAD>', '<PAD>', '<PAD>', '<PAD>', '<PAD>', '<PAD>', '<PAD>', '<PAD>', '<PAD>', '<PAD>', '<PAD>', '<PAD>', '<PAD>', '<PAD>', '<PAD>', '<PAD>', '<PAD>', '<PAD>', '<PAD>', '<PAD>', '<PAD>', '<PAD>', '<PAD>', '<PAD>', '<PAD>', '<PAD>', '<PAD>', '<PAD>', '<PAD>', '<PAD>', '<PAD>', '<PAD>', '<PAD>', '<PAD>', '<PAD>', '<PAD>', '<PAD>', '<PAD>', '<PAD>', '<PAD>', '<PAD>', '<PAD>', '<PAD>', '<PAD>', '<PAD>', '<PAD>', '<PAD>', '<PAD>', '<PAD>', '<PAD>', '<PAD>', '<PAD>', '<PAD>', '<PAD>', '<PAD>', '<PAD>', '<PAD>', '<PAD>', '<PAD>', '<PAD>', '<PAD>', '<PAD>', '<PAD>', '<PAD>', '<PAD>', '<PAD>', '<PAD>', '<PAD>', '<PAD>', '<PAD>', '<PAD>', '<PAD>', '<PAD>', '<PAD>', '<PAD>', '<PAD>', '<PAD>', '<PAD>', '<PAD>', '<PAD>']\n",
            "100\n",
            "\n",
            "\n",
            "text    [Rockwell, based, in, El, Segundo, Calif., is,...\n",
            "Name: 4, dtype: object\n",
            "1\n",
            "['vbn', 'cd', 'cc', 'cc', 'cd', 'nn', 'vbz', 'nnp', 'nnp', 'nn', 'nn', 'in', 'in', 'cd', 'cd', '<PAD>', '<PAD>', '<PAD>', '<PAD>', '<PAD>', '<PAD>', '<PAD>', '<PAD>', '<PAD>', '<PAD>', '<PAD>', '<PAD>', '<PAD>', '<PAD>', '<PAD>', '<PAD>', '<PAD>', '<PAD>', '<PAD>', '<PAD>', '<PAD>', '<PAD>', '<PAD>', '<PAD>', '<PAD>', '<PAD>', '<PAD>', '<PAD>', '<PAD>', '<PAD>', '<PAD>', '<PAD>', '<PAD>', '<PAD>', '<PAD>', '<PAD>', '<PAD>', '<PAD>', '<PAD>', '<PAD>', '<PAD>', '<PAD>', '<PAD>', '<PAD>', '<PAD>', '<PAD>', '<PAD>', '<PAD>', '<PAD>', '<PAD>', '<PAD>', '<PAD>', '<PAD>', '<PAD>', '<PAD>', '<PAD>', '<PAD>', '<PAD>', '<PAD>', '<PAD>', '<PAD>', '<PAD>', '<PAD>', '<PAD>', '<PAD>', '<PAD>', '<PAD>', '<PAD>', '<PAD>', '<PAD>', '<PAD>', '<PAD>', '<PAD>', '<PAD>', '<PAD>', '<PAD>', '<PAD>', '<PAD>', '<PAD>', '<PAD>', '<PAD>', '<PAD>', '<PAD>', '<PAD>', '<PAD>']\n",
            "100\n",
            "\n",
            "\n"
          ]
        }
      ]
    },
    {
      "cell_type": "code",
      "source": [
        "bidirect_output = bidirect_model.predict(test_X_padded)\n",
        "bidirect_pred_sequences = []\n",
        "for i in range(len(bidirect_output)):\n",
        "    pred_tags = [tag_tokenizer.index_word[np.argmax(p)] for p in bidirect_output[i]]\n",
        "    bidirect_pred_sequences.append(pred_tags)\n",
        "for i in range(5):\n",
        "  print(test_df.iloc[i])\n",
        "  print(len(test_df.iloc[i]))\n",
        "  print(bidirect_pred_sequences[i])\n",
        "  print(len(bidirect_pred_sequences[i]))\n",
        "  print(\"\\n\")"
      ],
      "metadata": {
        "colab": {
          "base_uri": "https://localhost:8080/"
        },
        "id": "JOJLt4ZT_PxD",
        "outputId": "852074d6-2729-44f7-893d-fd01846c709e"
      },
      "execution_count": 48,
      "outputs": [
        {
          "output_type": "stream",
          "name": "stdout",
          "text": [
            "63/63 [==============================] - 1s 6ms/step\n",
            "text    [Rockwell, International, Corp., 's, Tulsa, un...\n",
            "Name: 0, dtype: object\n",
            "1\n",
            "['vbn', 'nn', 'nn', 'pos', 'nnp', 'nnp', 'vbd', 'in', 'nnp', 'dt', 'dt', 'dt', 'nn', 'vbp', 'nnp', 'nn', 'nn', 'nnp', 'in', 'in', 'in', 'nn', 'nn', 'nn', 'pos', 'nn', 'nn', 'nn', 'nn', 'nn', 'nn', '<PAD>', '<PAD>', '<PAD>', '<PAD>', '<PAD>', '<PAD>', '<PAD>', '<PAD>', '<PAD>', '<PAD>', '<PAD>', '<PAD>', '<PAD>', '<PAD>', '<PAD>', '<PAD>', '<PAD>', '<PAD>', '<PAD>', '<PAD>', '<PAD>', '<PAD>', '<PAD>', '<PAD>', '<PAD>', '<PAD>', '<PAD>', '<PAD>', '<PAD>', '<PAD>', '<PAD>', '<PAD>', '<PAD>', '<PAD>', '<PAD>', '<PAD>', '<PAD>', '<PAD>', '<PAD>', '<PAD>', '<PAD>', '<PAD>', '<PAD>', '<PAD>', '<PAD>', '<PAD>', '<PAD>', '<PAD>', '<PAD>', '<PAD>', '<PAD>', '<PAD>', '<PAD>', '<PAD>', '<PAD>', '<PAD>', '<PAD>', '<PAD>', '<PAD>', '<PAD>', '<PAD>', '<PAD>', '<PAD>', '<PAD>', '<PAD>', '<PAD>', '<PAD>', '<PAD>', '<PAD>']\n",
            "100\n",
            "\n",
            "\n",
            "text    [Rockwell, said, the, agreement, calls, for, i...\n",
            "Name: 1, dtype: object\n",
            "1\n",
            "['vbn', 'vbd', 'dt', 'dt', 'nn', 'in', 'in', 'in', 'in', 'in', 'nn', 'nn', 'jj', 'in', 'in', 'dt', 'nn', '<PAD>', '<PAD>', '<PAD>', '<PAD>', '<PAD>', '<PAD>', '<PAD>', '<PAD>', '<PAD>', '<PAD>', '<PAD>', '<PAD>', '<PAD>', '<PAD>', '<PAD>', '<PAD>', '<PAD>', '<PAD>', '<PAD>', '<PAD>', '<PAD>', '<PAD>', '<PAD>', '<PAD>', '<PAD>', '<PAD>', '<PAD>', '<PAD>', '<PAD>', '<PAD>', '<PAD>', '<PAD>', '<PAD>', '<PAD>', '<PAD>', '<PAD>', '<PAD>', '<PAD>', '<PAD>', '<PAD>', '<PAD>', '<PAD>', '<PAD>', '<PAD>', '<PAD>', '<PAD>', '<PAD>', '<PAD>', '<PAD>', '<PAD>', '<PAD>', '<PAD>', '<PAD>', '<PAD>', '<PAD>', '<PAD>', '<PAD>', '<PAD>', '<PAD>', '<PAD>', '<PAD>', '<PAD>', '<PAD>', '<PAD>', '<PAD>', '<PAD>', '<PAD>', '<PAD>', '<PAD>', '<PAD>', '<PAD>', '<PAD>', '<PAD>', '<PAD>', '<PAD>', '<PAD>', '<PAD>', '<PAD>', '<PAD>', '<PAD>', '<PAD>', '<PAD>', '<PAD>']\n",
            "100\n",
            "\n",
            "\n",
            "text    [These, include, among, other, parts, each, je...\n",
            "Name: 2, dtype: object\n",
            "1\n",
            "['in', 'prp', 'jj', 'in', 'in', 'in', 'nn', 'pos', 'in', 'nn', 'nn', 'dt', 'nn', 'nn', 'nnp', 'jj', 'vbn', 'nn', 'nn', 'in', 'dt', 'dt', 'in', 'in', 'nn', 'in', 'in', '<PAD>', '<PAD>', '<PAD>', '<PAD>', '<PAD>', '<PAD>', '<PAD>', '<PAD>', '<PAD>', '<PAD>', '<PAD>', '<PAD>', '<PAD>', '<PAD>', '<PAD>', '<PAD>', '<PAD>', '<PAD>', '<PAD>', '<PAD>', '<PAD>', '<PAD>', '<PAD>', '<PAD>', '<PAD>', '<PAD>', '<PAD>', '<PAD>', '<PAD>', '<PAD>', '<PAD>', '<PAD>', '<PAD>', '<PAD>', '<PAD>', '<PAD>', '<PAD>', '<PAD>', '<PAD>', '<PAD>', '<PAD>', '<PAD>', '<PAD>', '<PAD>', '<PAD>', '<PAD>', '<PAD>', '<PAD>', '<PAD>', '<PAD>', '<PAD>', '<PAD>', '<PAD>', '<PAD>', '<PAD>', '<PAD>', '<PAD>', '<PAD>', '<PAD>', '<PAD>', '<PAD>', '<PAD>', '<PAD>', '<PAD>', '<PAD>', '<PAD>', '<PAD>', '<PAD>', '<PAD>', '<PAD>', '<PAD>', '<PAD>', '<PAD>']\n",
            "100\n",
            "\n",
            "\n",
            "text    [Under, the, existing, contract, Rockwell, sai...\n",
            "Name: 3, dtype: object\n",
            "1\n",
            "['rb', 'dt', 'nn', 'nnp', 'nn', 'vbd', 'in', 'prp$', 'nn', 'nn', 'nn', 'to', 'dt', 'jj', 'in', 'nn', '<PAD>', '<PAD>', '<PAD>', '<PAD>', '<PAD>', '<PAD>', '<PAD>', '<PAD>', '<PAD>', '<PAD>', '<PAD>', '<PAD>', '<PAD>', '<PAD>', '<PAD>', '<PAD>', '<PAD>', '<PAD>', '<PAD>', '<PAD>', '<PAD>', '<PAD>', '<PAD>', '<PAD>', '<PAD>', '<PAD>', '<PAD>', '<PAD>', '<PAD>', '<PAD>', '<PAD>', '<PAD>', '<PAD>', '<PAD>', '<PAD>', '<PAD>', '<PAD>', '<PAD>', '<PAD>', '<PAD>', '<PAD>', '<PAD>', '<PAD>', '<PAD>', '<PAD>', '<PAD>', '<PAD>', '<PAD>', '<PAD>', '<PAD>', '<PAD>', '<PAD>', '<PAD>', '<PAD>', '<PAD>', '<PAD>', '<PAD>', '<PAD>', '<PAD>', '<PAD>', '<PAD>', '<PAD>', '<PAD>', '<PAD>', '<PAD>', '<PAD>', '<PAD>', '<PAD>', '<PAD>', '<PAD>', '<PAD>', '<PAD>', '<PAD>', '<PAD>', '<PAD>', '<PAD>', '<PAD>', '<PAD>', '<PAD>', '<PAD>', '<PAD>', '<PAD>', '<PAD>', '<PAD>']\n",
            "100\n",
            "\n",
            "\n",
            "text    [Rockwell, based, in, El, Segundo, Calif., is,...\n",
            "Name: 4, dtype: object\n",
            "1\n",
            "['vbn', 'cd', 'cc', 'nn', 'cd', 'nn', 'vbz', 'nnp', 'cd', 'nn', 'jjr', 'in', '<PAD>', 'cd', '<PAD>', '<PAD>', '<PAD>', '<PAD>', '<PAD>', '<PAD>', '<PAD>', '<PAD>', '<PAD>', '<PAD>', '<PAD>', '<PAD>', '<PAD>', '<PAD>', '<PAD>', '<PAD>', '<PAD>', '<PAD>', '<PAD>', '<PAD>', '<PAD>', '<PAD>', '<PAD>', '<PAD>', '<PAD>', '<PAD>', '<PAD>', '<PAD>', '<PAD>', '<PAD>', '<PAD>', '<PAD>', '<PAD>', '<PAD>', '<PAD>', '<PAD>', '<PAD>', '<PAD>', '<PAD>', '<PAD>', '<PAD>', '<PAD>', '<PAD>', '<PAD>', '<PAD>', '<PAD>', '<PAD>', '<PAD>', '<PAD>', '<PAD>', '<PAD>', '<PAD>', '<PAD>', '<PAD>', '<PAD>', '<PAD>', '<PAD>', '<PAD>', '<PAD>', '<PAD>', '<PAD>', '<PAD>', '<PAD>', '<PAD>', '<PAD>', '<PAD>', '<PAD>', '<PAD>', '<PAD>', '<PAD>', '<PAD>', '<PAD>', '<PAD>', '<PAD>', '<PAD>', '<PAD>', '<PAD>', '<PAD>', '<PAD>', '<PAD>', '<PAD>', '<PAD>', '<PAD>', '<PAD>', '<PAD>', '<PAD>']\n",
            "100\n",
            "\n",
            "\n"
          ]
        }
      ]
    },
    {
      "cell_type": "markdown",
      "source": [
        "Writing to file"
      ],
      "metadata": {
        "id": "mW8F75GILp-Q"
      }
    },
    {
      "cell_type": "code",
      "source": [
        "nr = len(test_data)\n",
        "with open('/content/drive/MyDrive/dataset/labeled_test_dataset_lstm.txt', 'w') as f:\n",
        "  for i in range(nr):\n",
        "    nc = len(test_data[i])\n",
        "    for j in range(nc):\n",
        "      if test_data[i][j]!=\"<PAD>\":\n",
        "        f.write(str(test_data[i][j])+\" \" + str(lstm_pred_sequences[i][j] ))\n",
        "        f.write(\"\\n\")"
      ],
      "metadata": {
        "id": "ohj1LRlPLfaa"
      },
      "execution_count": 49,
      "outputs": []
    },
    {
      "cell_type": "code",
      "source": [
        "nr = len(test_data)\n",
        "with open('/content/drive/MyDrive/dataset/labeled_test_dataset_rnn.txt', 'w') as f:\n",
        "  for i in range(nr):\n",
        "    nc = len(test_data[i])\n",
        "    for j in range(nc):\n",
        "      if test_data[i][j]!=\"<PAD>\":\n",
        "        f.write(str(test_data[i][j])+\" \" + str(rnn_pred_sequences[i][j] ))\n",
        "        f.write(\"\\n\")"
      ],
      "metadata": {
        "id": "ILeOyl1g_8dj"
      },
      "execution_count": 50,
      "outputs": []
    },
    {
      "cell_type": "code",
      "source": [
        "nr = len(test_data)\n",
        "with open('/content/drive/MyDrive/dataset/labeled_test_dataset_gru.txt', 'w') as f:\n",
        "  for i in range(nr):\n",
        "    nc = len(test_data[i])\n",
        "    for j in range(nc):\n",
        "      if test_data[i][j]!=\"<PAD>\":\n",
        "        f.write(str(test_data[i][j])+\" \" + str(gru_pred_sequences[i][j] ))\n",
        "        f.write(\"\\n\")"
      ],
      "metadata": {
        "id": "LSPcWSUzAAYB"
      },
      "execution_count": 51,
      "outputs": []
    },
    {
      "cell_type": "code",
      "source": [
        "nr = len(test_data)\n",
        "with open('/content/drive/MyDrive/dataset/labeled_test_dataset_bidirect.txt', 'w') as f:\n",
        "  for i in range(nr):\n",
        "    nc = len(test_data[i])\n",
        "    for j in range(nc):\n",
        "      if test_data[i][j]!=\"<PAD>\":\n",
        "        f.write(str(test_data[i][j])+\" \" + str(bidirect_pred_sequences[i][j] ))\n",
        "        f.write(\"\\n\")"
      ],
      "metadata": {
        "id": "tM0gQUpuAD8s"
      },
      "execution_count": 52,
      "outputs": []
    },
    {
      "cell_type": "code",
      "source": [
        "lstm = {}\n",
        "rnn = {}\n",
        "bidirect = {}\n",
        "gru = {}\n",
        "hmm = {}\n",
        "\n",
        "for i in tag_to_id.keys():\n",
        "  lstm[i.lower()] = 0\n",
        "  rnn[i.lower()] = 0\n",
        "  bidirect[i.lower()] = 0\n",
        "  gru[i.lower()] = 0\n",
        "  hmm[i.lower()] = 0\n",
        "\n",
        "file1 = open('/content/drive/MyDrive/dataset/labeled_test_dataset_lstm.txt', 'r')\n",
        "lines = file1.readlines()\n",
        "\n",
        "for i in lines:\n",
        "  tag = i.split(\" \")[1].strip(\"\\n\")\n",
        "  if tag in lstm.keys():\n",
        "    lstm[tag]+=1\n",
        "\n",
        "\n",
        "file1 = open('/content/drive/MyDrive/dataset/labeled_test_dataset_rnn.txt', 'r')\n",
        "lines = file1.readlines()\n",
        "\n",
        "for i in lines:\n",
        "  tag = i.split(\" \")[1].strip(\"\\n\")\n",
        "  if tag in rnn.keys():\n",
        "    rnn[tag]+=1\n",
        "\n",
        "\n",
        "file1 = open('/content/drive/MyDrive/dataset/labeled_test_dataset_gru.txt', 'r')\n",
        "lines = file1.readlines()\n",
        "\n",
        "for i in lines:\n",
        "  tag = i.split(\" \")[1].strip(\"\\n\")\n",
        "  if tag in gru.keys():\n",
        "    gru[tag]+=1\n",
        "\n",
        "\n",
        "file1 = open('/content/drive/MyDrive/dataset/labeled_test_dataset_bidirect.txt', 'r')\n",
        "lines = file1.readlines()\n",
        "\n",
        "for i in lines:\n",
        "  tag = i.split(\" \")[1].strip(\"\\n\")\n",
        "  if tag in bidirect.keys():\n",
        "    bidirect[tag]+=1\n",
        "\n",
        "    \n",
        "waste = []\n",
        "for i in lstm.keys():\n",
        "  if lstm[i]<100:\n",
        "    waste.append(i)\n",
        "for i in waste:\n",
        "  del lstm[i]\n",
        "  del bidirect[i]\n",
        "  del rnn[i]\n",
        "  del gru[i]\n",
        "  del hmm[i]\n",
        "\n",
        "print(rnn)\n",
        "print(lstm)\n",
        "print(gru)\n",
        "print(bidirect)"
      ],
      "metadata": {
        "colab": {
          "base_uri": "https://localhost:8080/"
        },
        "id": "wWSmzSE7OvAa",
        "outputId": "d5c69089-6f8d-4683-e4fe-bbe479673c5e"
      },
      "execution_count": 63,
      "outputs": [
        {
          "output_type": "stream",
          "name": "stdout",
          "text": [
            "{'nn': 11363, 'in': 6403, 'dt': 4379, 'vbz': 686, 'rb': 1147, 'vbn': 419, 'to': 1259, 'vb': 942, 'jj': 1225, 'nns': 2747, 'nnp': 3755, 'cc': 1068, 'pos': 376, 'vbp': 293, 'vbg': 5, 'prp$': 404, 'cd': 1428, '``': 298, \"''\": 232, 'vbd': 1105, 'md': 440, '$': 318, 'prp': 652, ':': 99}\n",
            "{'nn': 7773, 'in': 6826, 'dt': 4538, 'vbz': 883, 'rb': 1351, 'vbn': 457, 'to': 1113, 'vb': 643, 'jj': 2548, 'nns': 3109, 'nnp': 4327, 'cc': 1586, 'pos': 415, 'vbp': 443, 'vbg': 143, 'prp$': 374, 'cd': 1389, '``': 325, \"''\": 201, 'vbd': 1452, 'md': 359, '$': 338, 'prp': 802, ':': 135}\n",
            "{'nn': 6901, 'in': 6696, 'dt': 4748, 'vbz': 826, 'rb': 1306, 'vbn': 539, 'to': 1561, 'vb': 700, 'jj': 2188, 'nns': 2791, 'nnp': 4213, 'cc': 1568, 'pos': 489, 'vbp': 445, 'vbg': 226, 'prp$': 434, 'cd': 1634, '``': 317, \"''\": 300, 'vbd': 1370, 'md': 401, '$': 462, 'prp': 976, ':': 167}\n",
            "{'nn': 8206, 'in': 6649, 'dt': 4622, 'vbz': 753, 'rb': 1427, 'vbn': 689, 'to': 1308, 'vb': 480, 'jj': 2684, 'nns': 2572, 'nnp': 3846, 'cc': 1381, 'pos': 420, 'vbp': 466, 'vbg': 127, 'prp$': 401, 'cd': 1515, '``': 300, \"''\": 273, 'vbd': 1303, 'md': 406, '$': 294, 'prp': 805, ':': 180}\n"
          ]
        }
      ]
    },
    {
      "cell_type": "code",
      "source": [
        "plt.rcParams[\"figure.figsize\"] = (15,5)\n",
        "plt.bar(range(len(lstm)), lstm.values(), tick_label=lstm.keys())\n",
        "plt.xticks(range(len(lstm)), list(lstm.keys()))\n",
        "plt.show()"
      ],
      "metadata": {
        "colab": {
          "base_uri": "https://localhost:8080/",
          "height": 320
        },
        "id": "kWsGu6ksRMTH",
        "outputId": "82e789a8-3e73-44fc-ebd3-157485abedd8"
      },
      "execution_count": 54,
      "outputs": [
        {
          "output_type": "display_data",
          "data": {
            "text/plain": [
              "<Figure size 1080x360 with 1 Axes>"
            ],
            "image/png": "[encoded data removed]"
          },
          "metadata": {
            "needs_background": "light"
          }
        }
      ]
    },
    {
      "cell_type": "code",
      "source": [
        "plt.bar(range(len(rnn)), rnn.values(), tick_label=rnn.keys())\n",
        "plt.xticks(range(len(rnn)), list(rnn.keys()))\n",
        "plt.show()"
      ],
      "metadata": {
        "colab": {
          "base_uri": "https://localhost:8080/",
          "height": 320
        },
        "id": "U_vhGmo1UcFZ",
        "outputId": "b813c20f-e65d-4f2c-bcd3-4cbccd1af546"
      },
      "execution_count": 55,
      "outputs": [
        {
          "output_type": "display_data",
          "data": {
            "text/plain": [
              "<Figure size 1080x360 with 1 Axes>"
            ],
            "image/png": "[encoded data removed]"
          },
          "metadata": {
            "needs_background": "light"
          }
        }
      ]
    },
    {
      "cell_type": "code",
      "source": [
        "plt.bar(range(len(gru)), gru.values(), tick_label=gru.keys())\n",
        "plt.xticks(range(len(gru)), list(gru.keys()))\n",
        "plt.show()"
      ],
      "metadata": {
        "colab": {
          "base_uri": "https://localhost:8080/",
          "height": 320
        },
        "id": "DUXaKMdrUi0W",
        "outputId": "baba9c39-3b14-4d07-fc97-18185fcf62f0"
      },
      "execution_count": 56,
      "outputs": [
        {
          "output_type": "display_data",
          "data": {
            "text/plain": [
              "<Figure size 1080x360 with 1 Axes>"
            ],
            "image/png": "[encoded data removed]"
          },
          "metadata": {
            "needs_background": "light"
          }
        }
      ]
    },
    {
      "cell_type": "code",
      "source": [
        "plt.bar(range(len(bidirect)), bidirect.values(), tick_label=bidirect.keys())\n",
        "plt.xticks(range(len(bidirect)), list(bidirect.keys()))\n",
        "plt.show()"
      ],
      "metadata": {
        "colab": {
          "base_uri": "https://localhost:8080/",
          "height": 320
        },
        "id": "uxufqUBuUpGL",
        "outputId": "52d185b1-9b1f-4108-840f-143e14fc620c"
      },
      "execution_count": 57,
      "outputs": [
        {
          "output_type": "display_data",
          "data": {
            "text/plain": [
              "<Figure size 1080x360 with 1 Axes>"
            ],
            "image/png": "[encoded data removed]"
          },
          "metadata": {
            "needs_background": "light"
          }
        }
      ]
    },
    {
      "cell_type": "code",
      "source": [
        "file1 = open('/content/drive/MyDrive/dataset/labeled_test_data_hmm.txt', 'r')\n",
        "lines = file1.readlines()\n",
        "\n",
        "for i in lines:\n",
        "  tag = i.split(\" \")[1].strip(\"\\n\").lower()\n",
        "  if tag in hmm.keys():\n",
        "    hmm[tag]+=1\n",
        "print(hmm)"
      ],
      "metadata": {
        "colab": {
          "base_uri": "https://localhost:8080/"
        },
        "id": "9-qCu-sY_-oZ",
        "outputId": "924f4908-a53c-4503-c4b7-5bc53cc293b9"
      },
      "execution_count": 69,
      "outputs": [
        {
          "output_type": "stream",
          "name": "stdout",
          "text": [
            "{'nn': 8214, 'in': 8436, 'dt': 5406, 'vbz': 1243, 'rb': 1785, 'vbn': 1274, 'to': 1333, 'vb': 1538, 'jj': 3414, 'nns': 3458, 'nnp': 6259, 'cc': 1386, 'pos': 559, 'vbp': 694, 'vbg': 838, 'prp$': 541, 'cd': 1895, '``': 958, \"''\": 893, 'vbd': 1948, 'md': 608, '$': 1168, 'prp': 1115, ':': 515}\n"
          ]
        }
      ]
    },
    {
      "cell_type": "code",
      "source": [
        "plt.bar(range(len(hmm)), hmm.values(), tick_label=hmm.keys())\n",
        "plt.xticks(range(len(hmm)), list(hmm.keys()))\n",
        "plt.show()"
      ],
      "metadata": {
        "colab": {
          "base_uri": "https://localhost:8080/",
          "height": 320
        },
        "id": "fJqg0vW7BmFF",
        "outputId": "45f4ccf2-99fa-4538-9756-f15466ba166a"
      },
      "execution_count": 70,
      "outputs": [
        {
          "output_type": "display_data",
          "data": {
            "text/plain": [
              "<Figure size 1080x360 with 1 Axes>"
            ],
            "image/png": "[encoded data removed]"
          },
          "metadata": {
            "needs_background": "light"
          }
        }
      ]
    },
    {
      "cell_type": "code",
      "source": [
        "X = np.arange(len(lstm))\n",
        "plt.rcParams[\"figure.figsize\"] = (20,5)\n",
        "ax = plt.subplot(111)\n",
        "\n",
        "ax.bar(X, lstm.values(), width=0.2, color='b', align='center')\n",
        "ax.bar(X-0.2, rnn.values(), width=0.2, color='g', align='center')\n",
        "ax.bar(X-0.4, gru.values(), width=0.2, color='r', align='center')\n",
        "ax.bar(X-0.6, bidirect.values(), width=0.2, color='y', align='center')\n",
        "\n",
        "ax.legend(('lstm','rnn','gru','bidirect', 'hmm'))\n",
        "plt.xticks(X, lstm.keys())\n",
        "plt.title(\"POS Tags Distribution\", fontsize=17)\n",
        "plt.show()"
      ],
      "metadata": {
        "colab": {
          "base_uri": "https://localhost:8080/",
          "height": 337
        },
        "id": "I7V_cy1qVPv_",
        "outputId": "7f1bcf6e-800f-4305-b4d4-92758d45e4cf"
      },
      "execution_count": 95,
      "outputs": [
        {
          "output_type": "display_data",
          "data": {
            "text/plain": [
              "<Figure size 1440x360 with 1 Axes>"
            ],
            "image/png": "[encoded data removed]"
          },
          "metadata": {
            "needs_background": "light"
          }
        }
      ]
    },
    {
      "cell_type": "code",
      "source": [
        "X = np.arange(len(lstm))\n",
        "plt.rcParams[\"figure.figsize\"] = (22,5)\n",
        "ax = plt.subplot(111)\n",
        "ax.axes.set_xlim(-1.5,1.5)\n",
        "\n",
        "ax.bar(X, lstm.values(), width=0.2, color='b', align='center')\n",
        "ax.bar(X-0.2, hmm.values(), width=0.2, color='cyan', align='center')\n",
        "\n",
        "ax.legend(('lstm', 'hmm'))\n",
        "plt.xticks(X, lstm.keys())\n",
        "plt.title(\"LSTM and HMM Comparison \", fontsize=17)\n",
        "plt.show()"
      ],
      "metadata": {
        "colab": {
          "base_uri": "https://localhost:8080/",
          "height": 310
        },
        "id": "HL2E7ARlFQcF",
        "outputId": "80cd35ae-55a3-44e0-e1da-b6b0134bfc83"
      },
      "execution_count": 94,
      "outputs": [
        {
          "output_type": "display_data",
          "data": {
            "text/plain": [
              "<Figure size 1584x360 with 1 Axes>"
            ],
            "image/png": "[encoded data removed]"
          },
          "metadata": {
            "needs_background": "light"
          }
        }
      ]
    }
  ]
}