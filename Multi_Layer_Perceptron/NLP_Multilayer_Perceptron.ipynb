{
  "nbformat": 4,
  "nbformat_minor": 0,
  "metadata": {
    "colab": {
      "provenance": []
    },
    "kernelspec": {
      "name": "python3",
      "display_name": "Python 3"
    },
    "language_info": {
      "name": "python"
    },
    "accelerator": "GPU",
    "gpuClass": "standard"
  },
  "cells": [
    {
      "cell_type": "markdown",
      "source": [
        "Loading Training data.\n",
        "\n",
        "---\n",
        "\n",
        "\n",
        "Removing few special characters."
      ],
      "metadata": {
        "id": "hjznLIIkXNIn"
      }
    },
    {
      "cell_type": "code",
      "source": [
        "import numpy as np\n",
        "import pandas as pd\n",
        "import os\n",
        "data = []\n",
        "target = []\n",
        "f = open(\"/content/drive/MyDrive/dataset/nlp_train_dataset.txt\", \"r\")\n",
        "rowtext = []\n",
        "rowtarget = []\n",
        "for line in f:\n",
        "  if line == \"\\n\":\n",
        "    data.append(rowtext)\n",
        "    target.append(rowtarget)\n",
        "    rowtext = []\n",
        "    rowtarget = []\n",
        "  else:\n",
        "    s=line.split()\n",
        "    if s[0]!=\".\" and s[0]!=\",\":\n",
        "      rowtext.append(s[0])\n",
        "    if s[1]!=\".\" and s[1]!=\",\":\n",
        "      rowtarget.append(s[1])\n",
        "print(data[0])"
      ],
      "metadata": {
        "colab": {
          "base_uri": "https://localhost:8080/",
          "height": 0
        },
        "id": "I7_3fHWySESh",
        "outputId": "294ef35a-77ad-4c95-a918-b50c9a71959c"
      },
      "execution_count": 1,
      "outputs": [
        {
          "output_type": "stream",
          "name": "stdout",
          "text": [
            "['Confidence', 'in', 'the', 'pound', 'is', 'widely', 'expected', 'to', 'take', 'another', 'sharp', 'dive', 'if', 'trade', 'figures', 'for', 'September', 'due', 'for', 'release', 'tomorrow', 'fail', 'to', 'show', 'a', 'substantial', 'improvement', 'from', 'July', 'and', 'August', \"'s\", 'near-record', 'deficits']\n"
          ]
        }
      ]
    },
    {
      "cell_type": "code",
      "source": [
        "df = pd.DataFrame(columns=[\"text\",\"target\"])\n",
        "df[\"text\"] = data\n",
        "df[\"target\"] = target"
      ],
      "metadata": {
        "id": "b_RDgsxZZbN9"
      },
      "execution_count": 2,
      "outputs": []
    },
    {
      "cell_type": "code",
      "source": [
        "df.head()"
      ],
      "metadata": {
        "colab": {
          "base_uri": "https://localhost:8080/",
          "height": 206
        },
        "id": "vc0IgbcwYFL1",
        "outputId": "e9e2a253-f433-42f6-8e9e-045033fcf969"
      },
      "execution_count": 3,
      "outputs": [
        {
          "output_type": "execute_result",
          "data": {
            "text/plain": [
              "                                                text  \\\n",
              "0  [Confidence, in, the, pound, is, widely, expec...   \n",
              "1  [Chancellor, of, the, Exchequer, Nigel, Lawson...   \n",
              "2  [But, analysts, reckon, underlying, support, f...   \n",
              "3  [This, has, increased, the, risk, of, the, gov...   \n",
              "4  [``, The, risks, for, sterling, of, a, bad, tr...   \n",
              "\n",
              "                                              target  \n",
              "0  [NN, IN, DT, NN, VBZ, RB, VBN, TO, VB, DT, JJ,...  \n",
              "1  [NNP, IN, DT, NNP, NNP, NNP, POS, VBN, NN, TO,...  \n",
              "2  [CC, NNS, VBP, VBG, NN, IN, NN, VBZ, VBN, VBN,...  \n",
              "3  [DT, VBZ, VBN, DT, NN, IN, DT, NN, VBG, VBN, T...  \n",
              "4  [``, DT, NNS, IN, NN, IN, DT, JJ, NN, NN, VBP,...  "
            ],
            "text/html": [
              "\n",
              "  <div id=\"df-216e609c-8ae0-4287-aeed-2a7af0764033\">\n",
              "    <div class=\"colab-df-container\">\n",
              "      <div>\n",
              "<style scoped>\n",
              "    .dataframe tbody tr th:only-of-type {\n",
              "        vertical-align: middle;\n",
              "    }\n",
              "\n",
              "    .dataframe tbody tr th {\n",
              "        vertical-align: top;\n",
              "    }\n",
              "\n",
              "    .dataframe thead th {\n",
              "        text-align: right;\n",
              "    }\n",
              "</style>\n",
              "<table border=\"1\" class=\"dataframe\">\n",
              "  <thead>\n",
              "    <tr style=\"text-align: right;\">\n",
              "      <th></th>\n",
              "      <th>text</th>\n",
              "      <th>target</th>\n",
              "    </tr>\n",
              "  </thead>\n",
              "  <tbody>\n",
              "    <tr>\n",
              "      <th>0</th>\n",
              "      <td>[Confidence, in, the, pound, is, widely, expec...</td>\n",
              "      <td>[NN, IN, DT, NN, VBZ, RB, VBN, TO, VB, DT, JJ,...</td>\n",
              "    </tr>\n",
              "    <tr>\n",
              "      <th>1</th>\n",
              "      <td>[Chancellor, of, the, Exchequer, Nigel, Lawson...</td>\n",
              "      <td>[NNP, IN, DT, NNP, NNP, NNP, POS, VBN, NN, TO,...</td>\n",
              "    </tr>\n",
              "    <tr>\n",
              "      <th>2</th>\n",
              "      <td>[But, analysts, reckon, underlying, support, f...</td>\n",
              "      <td>[CC, NNS, VBP, VBG, NN, IN, NN, VBZ, VBN, VBN,...</td>\n",
              "    </tr>\n",
              "    <tr>\n",
              "      <th>3</th>\n",
              "      <td>[This, has, increased, the, risk, of, the, gov...</td>\n",
              "      <td>[DT, VBZ, VBN, DT, NN, IN, DT, NN, VBG, VBN, T...</td>\n",
              "    </tr>\n",
              "    <tr>\n",
              "      <th>4</th>\n",
              "      <td>[``, The, risks, for, sterling, of, a, bad, tr...</td>\n",
              "      <td>[``, DT, NNS, IN, NN, IN, DT, JJ, NN, NN, VBP,...</td>\n",
              "    </tr>\n",
              "  </tbody>\n",
              "</table>\n",
              "</div>\n",
              "      <button class=\"colab-df-convert\" onclick=\"convertToInteractive('df-216e609c-8ae0-4287-aeed-2a7af0764033')\"\n",
              "              title=\"Convert this dataframe to an interactive table.\"\n",
              "              style=\"display:none;\">\n",
              "        \n",
              "  <svg xmlns=\"http://www.w3.org/2000/svg\" height=\"24px\"viewBox=\"0 0 24 24\"\n",
              "       width=\"24px\">\n",
              "    <path d=\"M0 0h24v24H0V0z\" fill=\"none\"/>\n",
              "    <path d=\"M18.56 5.44l.94 2.06.94-2.06 2.06-.94-2.06-.94-.94-2.06-.94 2.06-2.06.94zm-11 1L8.5 8.5l.94-2.06 2.06-.94-2.06-.94L8.5 2.5l-.94 2.06-2.06.94zm10 10l.94 2.06.94-2.06 2.06-.94-2.06-.94-.94-2.06-.94 2.06-2.06.94z\"/><path d=\"M17.41 7.96l-1.37-1.37c-.4-.4-.92-.59-1.43-.59-.52 0-1.04.2-1.43.59L10.3 9.45l-7.72 7.72c-.78.78-.78 2.05 0 2.83L4 21.41c.39.39.9.59 1.41.59.51 0 1.02-.2 1.41-.59l7.78-7.78 2.81-2.81c.8-.78.8-2.07 0-2.86zM5.41 20L4 18.59l7.72-7.72 1.47 1.35L5.41 20z\"/>\n",
              "  </svg>\n",
              "      </button>\n",
              "      \n",
              "  <style>\n",
              "    .colab-df-container {\n",
              "      display:flex;\n",
              "      flex-wrap:wrap;\n",
              "      gap: 12px;\n",
              "    }\n",
              "\n",
              "    .colab-df-convert {\n",
              "      background-color: #E8F0FE;\n",
              "      border: none;\n",
              "      border-radius: 50%;\n",
              "      cursor: pointer;\n",
              "      display: none;\n",
              "      fill: #1967D2;\n",
              "      height: 32px;\n",
              "      padding: 0 0 0 0;\n",
              "      width: 32px;\n",
              "    }\n",
              "\n",
              "    .colab-df-convert:hover {\n",
              "      background-color: #E2EBFA;\n",
              "      box-shadow: 0px 1px 2px rgba(60, 64, 67, 0.3), 0px 1px 3px 1px rgba(60, 64, 67, 0.15);\n",
              "      fill: #174EA6;\n",
              "    }\n",
              "\n",
              "    [theme=dark] .colab-df-convert {\n",
              "      background-color: #3B4455;\n",
              "      fill: #D2E3FC;\n",
              "    }\n",
              "\n",
              "    [theme=dark] .colab-df-convert:hover {\n",
              "      background-color: #434B5C;\n",
              "      box-shadow: 0px 1px 3px 1px rgba(0, 0, 0, 0.15);\n",
              "      filter: drop-shadow(0px 1px 2px rgba(0, 0, 0, 0.3));\n",
              "      fill: #FFFFFF;\n",
              "    }\n",
              "  </style>\n",
              "\n",
              "      <script>\n",
              "        const buttonEl =\n",
              "          document.querySelector('#df-216e609c-8ae0-4287-aeed-2a7af0764033 button.colab-df-convert');\n",
              "        buttonEl.style.display =\n",
              "          google.colab.kernel.accessAllowed ? 'block' : 'none';\n",
              "\n",
              "        async function convertToInteractive(key) {\n",
              "          const element = document.querySelector('#df-216e609c-8ae0-4287-aeed-2a7af0764033');\n",
              "          const dataTable =\n",
              "            await google.colab.kernel.invokeFunction('convertToInteractive',\n",
              "                                                     [key], {});\n",
              "          if (!dataTable) return;\n",
              "\n",
              "          const docLinkHtml = 'Like what you see? Visit the ' +\n",
              "            '<a target=\"_blank\" href=https://colab.research.google.com/notebooks/data_table.ipynb>data table notebook</a>'\n",
              "            + ' to learn more about interactive tables.';\n",
              "          element.innerHTML = '';\n",
              "          dataTable['output_type'] = 'display_data';\n",
              "          await google.colab.output.renderOutput(dataTable, element);\n",
              "          const docLink = document.createElement('div');\n",
              "          docLink.innerHTML = docLinkHtml;\n",
              "          element.appendChild(docLink);\n",
              "        }\n",
              "      </script>\n",
              "    </div>\n",
              "  </div>\n",
              "  "
            ]
          },
          "metadata": {},
          "execution_count": 3
        }
      ]
    },
    {
      "cell_type": "code",
      "source": [
        "print(len(df[\"text\"][0]))\n",
        "print(len(df[\"target\"][0]))"
      ],
      "metadata": {
        "colab": {
          "base_uri": "https://localhost:8080/",
          "height": 0
        },
        "id": "iuP1eWhvgGVB",
        "outputId": "10f58235-7690-4ad4-e31e-b3b0cda43079"
      },
      "execution_count": 4,
      "outputs": [
        {
          "output_type": "stream",
          "name": "stdout",
          "text": [
            "34\n",
            "34\n"
          ]
        }
      ]
    },
    {
      "cell_type": "code",
      "source": [
        "for i in range(len(df[\"text\"].head(1)[0])):\n",
        "  print(df[\"text\"].head(1)[0][i] + \"||\"+ df[\"target\"].head(1)[0][i])"
      ],
      "metadata": {
        "colab": {
          "base_uri": "https://localhost:8080/",
          "height": 0
        },
        "id": "E8RI2oH3Tctl",
        "outputId": "41078e5f-02c2-40cb-8e12-7c132521f2f8"
      },
      "execution_count": 5,
      "outputs": [
        {
          "output_type": "stream",
          "name": "stdout",
          "text": [
            "Confidence||NN\n",
            "in||IN\n",
            "the||DT\n",
            "pound||NN\n",
            "is||VBZ\n",
            "widely||RB\n",
            "expected||VBN\n",
            "to||TO\n",
            "take||VB\n",
            "another||DT\n",
            "sharp||JJ\n",
            "dive||NN\n",
            "if||IN\n",
            "trade||NN\n",
            "figures||NNS\n",
            "for||IN\n",
            "September||NNP\n",
            "due||JJ\n",
            "for||IN\n",
            "release||NN\n",
            "tomorrow||NN\n",
            "fail||VB\n",
            "to||TO\n",
            "show||VB\n",
            "a||DT\n",
            "substantial||JJ\n",
            "improvement||NN\n",
            "from||IN\n",
            "July||NNP\n",
            "and||CC\n",
            "August||NNP\n",
            "'s||POS\n",
            "near-record||JJ\n",
            "deficits||NNS\n"
          ]
        }
      ]
    },
    {
      "cell_type": "code",
      "source": [
        "import gensim\n",
        "w2v_model = gensim.models.Word2Vec(df[\"text\"], size=100, window=5, min_count=1, workers=4)\n",
        "\n",
        "X = np.zeros((len(df[\"text\"]), 100))\n",
        "for i, sentence in enumerate(df[\"text\"]):\n",
        "    for word in sentence:\n",
        "        X[i] += w2v_model.wv[word]\n",
        "    X[i] /= len(sentence)"
      ],
      "metadata": {
        "id": "V5Mk4RUas-vq"
      },
      "execution_count": 6,
      "outputs": []
    },
    {
      "cell_type": "markdown",
      "source": [
        "Creating dictionary of Features"
      ],
      "metadata": {
        "id": "axHNxB_6Xx2v"
      }
    },
    {
      "cell_type": "code",
      "source": [
        "unique_targets = []\n",
        "for i in target:\n",
        "  for j in i:\n",
        "    if j not in unique_targets:\n",
        "      unique_targets.append(j)"
      ],
      "metadata": {
        "id": "1ZoiY6KivZ-2"
      },
      "execution_count": 7,
      "outputs": []
    },
    {
      "cell_type": "code",
      "source": [
        "print(unique_targets)"
      ],
      "metadata": {
        "colab": {
          "base_uri": "https://localhost:8080/",
          "height": 0
        },
        "id": "9lp_345CvtAi",
        "outputId": "61150b6a-4efe-471a-8c58-ce608aba856a"
      },
      "execution_count": 8,
      "outputs": [
        {
          "output_type": "stream",
          "name": "stdout",
          "text": [
            "['NN', 'IN', 'DT', 'VBZ', 'RB', 'VBN', 'TO', 'VB', 'JJ', 'NNS', 'NNP', 'CC', 'POS', 'VBP', 'VBG', 'PRP$', 'CD', '``', \"''\", 'VBD', 'EX', 'MD', '#', '(', '$', ')', 'NNPS', 'PRP', 'JJS', 'WP', 'RBR', 'JJR', 'WDT', 'WRB', 'RBS', 'PDT', 'RP', ':', 'FW', 'WP$', 'SYM', 'UH']\n"
          ]
        }
      ]
    },
    {
      "cell_type": "code",
      "source": [
        "tag_to_id = {}\n",
        "k = 0\n",
        "for i in unique_targets:\n",
        "  tag_to_id[i] = k\n",
        "  k+=1\n",
        "print(tag_to_id)"
      ],
      "metadata": {
        "colab": {
          "base_uri": "https://localhost:8080/",
          "height": 0
        },
        "id": "2V09sho6vMcD",
        "outputId": "4f91a51c-3850-46a1-dc2a-2973971a6ae8"
      },
      "execution_count": 9,
      "outputs": [
        {
          "output_type": "stream",
          "name": "stdout",
          "text": [
            "{'NN': 0, 'IN': 1, 'DT': 2, 'VBZ': 3, 'RB': 4, 'VBN': 5, 'TO': 6, 'VB': 7, 'JJ': 8, 'NNS': 9, 'NNP': 10, 'CC': 11, 'POS': 12, 'VBP': 13, 'VBG': 14, 'PRP$': 15, 'CD': 16, '``': 17, \"''\": 18, 'VBD': 19, 'EX': 20, 'MD': 21, '#': 22, '(': 23, '$': 24, ')': 25, 'NNPS': 26, 'PRP': 27, 'JJS': 28, 'WP': 29, 'RBR': 30, 'JJR': 31, 'WDT': 32, 'WRB': 33, 'RBS': 34, 'PDT': 35, 'RP': 36, ':': 37, 'FW': 38, 'WP$': 39, 'SYM': 40, 'UH': 41}\n"
          ]
        }
      ]
    },
    {
      "cell_type": "code",
      "source": [
        "y = np.zeros((len(df[\"target\"]), len(tag_to_id)))\n",
        "for i, pos_tag in enumerate(df[\"target\"]):\n",
        "    for tag in pos_tag:\n",
        "        y[i, tag_to_id[tag]] = 1"
      ],
      "metadata": {
        "id": "Rrcx_Y_vwTG3"
      },
      "execution_count": 10,
      "outputs": []
    },
    {
      "cell_type": "code",
      "source": [
        "maxlength = 0\n",
        "for i in df[\"text\"]:\n",
        "  if len(i)>maxlength:\n",
        "    maxlength = len(i)\n",
        "print(maxlength)"
      ],
      "metadata": {
        "colab": {
          "base_uri": "https://localhost:8080/",
          "height": 0
        },
        "id": "Ml4yx1_La5-C",
        "outputId": "57c670a2-db05-4c84-d2d0-a0a5a8f407db"
      },
      "execution_count": 11,
      "outputs": [
        {
          "output_type": "stream",
          "name": "stdout",
          "text": [
            "73\n"
          ]
        }
      ]
    },
    {
      "cell_type": "code",
      "source": [
        "from tensorflow.keras.preprocessing.sequence import pad_sequences"
      ],
      "metadata": {
        "id": "JMLUMefeflOs"
      },
      "execution_count": 12,
      "outputs": []
    },
    {
      "cell_type": "markdown",
      "source": [
        "Padding\n",
        "\n",
        "---\n",
        "\n",
        "\n",
        "Training and Testing data split"
      ],
      "metadata": {
        "id": "8GlZFG_hX6wL"
      }
    },
    {
      "cell_type": "code",
      "source": [
        "X_padded = pad_sequences(X, maxlen=maxlength, padding=\"post\", truncating=\"post\")\n",
        "Y_padded = pad_sequences(y, maxlen=maxlength, padding=\"post\", truncating=\"post\")"
      ],
      "metadata": {
        "id": "6coBWERPaSY_"
      },
      "execution_count": 13,
      "outputs": []
    },
    {
      "cell_type": "code",
      "source": [
        "from sklearn.model_selection import train_test_split\n",
        "x_train, x_test, y_train, y_test = train_test_split(X_padded,Y_padded,test_size=0.3, random_state=0, shuffle=True)"
      ],
      "metadata": {
        "id": "cYjEnxh7hYy9"
      },
      "execution_count": 14,
      "outputs": []
    },
    {
      "cell_type": "markdown",
      "source": [
        "RNN Model"
      ],
      "metadata": {
        "id": "3nWLGl4b7TIK"
      }
    },
    {
      "cell_type": "code",
      "source": [
        "GLOVE_DIR = \"/content/drive/MyDrive/dataset/glove.6B.300d.txt\"  # path to pre-trained GloVe embeddings\n",
        "EMBEDDING_DIM = 300\n",
        "\n",
        "embeddings_index = {}\n",
        "with open(GLOVE_DIR) as f:\n",
        "    for line in f:\n",
        "        values = line.split()\n",
        "        word = values[0]\n",
        "        coefs = np.asarray(values[1:], dtype=\"float32\")\n",
        "        embeddings_index[word] = coefs"
      ],
      "metadata": {
        "id": "oH-mzXR9Ws2j"
      },
      "execution_count": 15,
      "outputs": []
    },
    {
      "cell_type": "code",
      "source": [
        "from tensorflow.keras.preprocessing.text import Tokenizer\n",
        "MAX_NB_WORDS = 5000\n",
        "MAX_SEQUENCE_LENGTH = 100\n",
        "VALIDATION_SPLIT = 0.2\n",
        "tokenizer = Tokenizer(num_words=MAX_NB_WORDS)\n",
        "tokenizer.fit_on_texts(df[\"text\"])\n",
        "sequences = tokenizer.texts_to_sequences(df[\"text\"])\n",
        "\n",
        "word_index = tokenizer.word_index\n",
        "\n",
        "tag_tokenizer = Tokenizer()\n",
        "tag_tokenizer.fit_on_texts(df[\"target\"])\n",
        "Y_encoded = tag_tokenizer.texts_to_sequences(df[\"target\"])\n",
        "\n",
        "\n",
        "\n",
        "X_padded = pad_sequences(sequences, maxlen=MAX_SEQUENCE_LENGTH, padding=\"post\")\n",
        "Y_padded = pad_sequences(Y_encoded, maxlen=MAX_SEQUENCE_LENGTH, padding=\"post\")\n"
      ],
      "metadata": {
        "id": "CKHWyBHsYeOX"
      },
      "execution_count": 16,
      "outputs": []
    },
    {
      "cell_type": "code",
      "source": [
        "embedding_matrix = np.zeros((len(word_index) + 1, EMBEDDING_DIM))\n",
        "for word, i in word_index.items():\n",
        "    embedding_vector = embeddings_index.get(word)\n",
        "    if embedding_vector is not None:\n",
        "        embedding_matrix[i] = embedding_vector"
      ],
      "metadata": {
        "id": "czyzyTltYW4C"
      },
      "execution_count": 17,
      "outputs": []
    },
    {
      "cell_type": "code",
      "source": [
        "print(\"Embeddings shape: {}\".format(embedding_matrix.shape))"
      ],
      "metadata": {
        "colab": {
          "base_uri": "https://localhost:8080/",
          "height": 0
        },
        "id": "EqK0bFKqwHTF",
        "outputId": "f5369d5a-c85a-4e0d-b6da-d5be872643f4"
      },
      "execution_count": 18,
      "outputs": [
        {
          "output_type": "stream",
          "name": "stdout",
          "text": [
            "Embeddings shape: (17257, 300)\n"
          ]
        }
      ]
    },
    {
      "cell_type": "code",
      "source": [
        "from keras.utils.np_utils import to_categorical\n",
        "Y = to_categorical(Y_padded)"
      ],
      "metadata": {
        "id": "l5_Fkm1ptEFa"
      },
      "execution_count": 19,
      "outputs": []
    },
    {
      "cell_type": "code",
      "source": [
        "np.shape(Y)"
      ],
      "metadata": {
        "colab": {
          "base_uri": "https://localhost:8080/",
          "height": 0
        },
        "id": "40GcrPiiuzc3",
        "outputId": "cc025de1-82eb-4ea7-cba4-97bcab79978a"
      },
      "execution_count": 20,
      "outputs": [
        {
          "output_type": "execute_result",
          "data": {
            "text/plain": [
              "(8936, 100, 43)"
            ]
          },
          "metadata": {},
          "execution_count": 20
        }
      ]
    },
    {
      "cell_type": "code",
      "source": [
        "NUM_CLASSES = Y.shape[2]\n",
        "from sklearn.model_selection import train_test_split\n",
        "x_train, x_test, y_train, y_test = train_test_split(X_padded,Y,test_size=0.2, random_state=0, shuffle=True)"
      ],
      "metadata": {
        "id": "frGaUfZtwip8"
      },
      "execution_count": 21,
      "outputs": []
    },
    {
      "cell_type": "code",
      "source": [
        "print(\"TRAINING DATA\")\n",
        "print('Shape of input sequences: {}'.format(x_train.shape))\n",
        "print('Shape of output sequences: {}'.format(y_train.shape))\n",
        "print(\"TESTING DATA\")\n",
        "print('Shape of input sequences: {}'.format(x_test.shape))\n",
        "print('Shape of output sequences: {}'.format(y_test.shape))"
      ],
      "metadata": {
        "colab": {
          "base_uri": "https://localhost:8080/",
          "height": 0
        },
        "id": "2ehN-qzVsQX0",
        "outputId": "4c02a2dd-1904-4d47-a5ae-0482989e9d78"
      },
      "execution_count": 22,
      "outputs": [
        {
          "output_type": "stream",
          "name": "stdout",
          "text": [
            "TRAINING DATA\n",
            "Shape of input sequences: (7148, 100)\n",
            "Shape of output sequences: (7148, 100, 43)\n",
            "TESTING DATA\n",
            "Shape of input sequences: (1788, 100)\n",
            "Shape of output sequences: (1788, 100, 43)\n"
          ]
        }
      ]
    },
    {
      "cell_type": "code",
      "source": [
        "from tensorflow.keras.layers import Embedding, LSTM, Dense, Flatten, SimpleRNN, TimeDistributed, RNN, GRU, Bidirectional\n",
        "from tensorflow.keras.models import Sequential\n",
        "rnn_model = Sequential()\n",
        "rnn_model.add(Embedding(len(word_index) + 1, EMBEDDING_DIM, weights=[embedding_matrix], trainable=False))\n",
        "rnn_model.add(SimpleRNN(64, return_sequences=True))\n",
        "rnn_model.add(TimeDistributed(Dense(NUM_CLASSES, activation=\"softmax\")))\n",
        "rnn_model.compile(loss=\"categorical_crossentropy\", optimizer=\"adam\", metrics=[\"accuracy\"])\n",
        "print(rnn_model.summary())"
      ],
      "metadata": {
        "colab": {
          "base_uri": "https://localhost:8080/",
          "height": 0
        },
        "id": "ELk6wYM2Z14g",
        "outputId": "6dac815b-0ae0-4f52-dbac-6fc67fe6069d"
      },
      "execution_count": 23,
      "outputs": [
        {
          "output_type": "stream",
          "name": "stdout",
          "text": [
            "Model: \"sequential\"\n",
            "_________________________________________________________________\n",
            " Layer (type)                Output Shape              Param #   \n",
            "=================================================================\n",
            " embedding (Embedding)       (None, None, 300)         5177100   \n",
            "                                                                 \n",
            " simple_rnn (SimpleRNN)      (None, None, 64)          23360     \n",
            "                                                                 \n",
            " time_distributed (TimeDistr  (None, None, 43)         2795      \n",
            " ibuted)                                                         \n",
            "                                                                 \n",
            "=================================================================\n",
            "Total params: 5,203,255\n",
            "Trainable params: 26,155\n",
            "Non-trainable params: 5,177,100\n",
            "_________________________________________________________________\n",
            "None\n"
          ]
        }
      ]
    },
    {
      "cell_type": "code",
      "source": [
        "history = rnn_model.fit(x_train, y_train, validation_split=0.2, epochs=30, batch_size=128)"
      ],
      "metadata": {
        "colab": {
          "base_uri": "https://localhost:8080/",
          "height": 0
        },
        "id": "2QzjJ7tiZ-y4",
        "outputId": "ea35a00d-c6b9-4f03-837e-221284f346dd"
      },
      "execution_count": 24,
      "outputs": [
        {
          "output_type": "stream",
          "name": "stdout",
          "text": [
            "Epoch 1/30\n",
            "45/45 [==============================] - 8s 123ms/step - loss: 1.6161 - accuracy: 0.7185 - val_loss: 0.6880 - val_accuracy: 0.8266\n",
            "Epoch 2/30\n",
            "45/45 [==============================] - 5s 100ms/step - loss: 0.6447 - accuracy: 0.8346 - val_loss: 0.6153 - val_accuracy: 0.8387\n",
            "Epoch 3/30\n",
            "45/45 [==============================] - 4s 94ms/step - loss: 0.5951 - accuracy: 0.8435 - val_loss: 0.5807 - val_accuracy: 0.8459\n",
            "Epoch 4/30\n",
            "45/45 [==============================] - 6s 131ms/step - loss: 0.5609 - accuracy: 0.8495 - val_loss: 0.5548 - val_accuracy: 0.8505\n",
            "Epoch 5/30\n",
            "45/45 [==============================] - 6s 128ms/step - loss: 0.5377 - accuracy: 0.8541 - val_loss: 0.5351 - val_accuracy: 0.8553\n",
            "Epoch 6/30\n",
            "45/45 [==============================] - 4s 97ms/step - loss: 0.5194 - accuracy: 0.8576 - val_loss: 0.5193 - val_accuracy: 0.8581\n",
            "Epoch 7/30\n",
            "45/45 [==============================] - 6s 123ms/step - loss: 0.5047 - accuracy: 0.8603 - val_loss: 0.5064 - val_accuracy: 0.8601\n",
            "Epoch 8/30\n",
            "45/45 [==============================] - 4s 92ms/step - loss: 0.4925 - accuracy: 0.8623 - val_loss: 0.4962 - val_accuracy: 0.8617\n",
            "Epoch 9/30\n",
            "45/45 [==============================] - 5s 103ms/step - loss: 0.4824 - accuracy: 0.8641 - val_loss: 0.4878 - val_accuracy: 0.8629\n",
            "Epoch 10/30\n",
            "45/45 [==============================] - 5s 115ms/step - loss: 0.4740 - accuracy: 0.8653 - val_loss: 0.4813 - val_accuracy: 0.8640\n",
            "Epoch 11/30\n",
            "45/45 [==============================] - 6s 123ms/step - loss: 0.4668 - accuracy: 0.8667 - val_loss: 0.4744 - val_accuracy: 0.8652\n",
            "Epoch 12/30\n",
            "45/45 [==============================] - 6s 143ms/step - loss: 0.4603 - accuracy: 0.8677 - val_loss: 0.4696 - val_accuracy: 0.8658\n",
            "Epoch 13/30\n",
            "45/45 [==============================] - 4s 100ms/step - loss: 0.4548 - accuracy: 0.8687 - val_loss: 0.4647 - val_accuracy: 0.8662\n",
            "Epoch 14/30\n",
            "45/45 [==============================] - 4s 97ms/step - loss: 0.4500 - accuracy: 0.8693 - val_loss: 0.4612 - val_accuracy: 0.8668\n",
            "Epoch 15/30\n",
            "45/45 [==============================] - 7s 147ms/step - loss: 0.4453 - accuracy: 0.8700 - val_loss: 0.4571 - val_accuracy: 0.8672\n",
            "Epoch 16/30\n",
            "45/45 [==============================] - 4s 100ms/step - loss: 0.4414 - accuracy: 0.8706 - val_loss: 0.4539 - val_accuracy: 0.8675\n",
            "Epoch 17/30\n",
            "45/45 [==============================] - 7s 157ms/step - loss: 0.4375 - accuracy: 0.8710 - val_loss: 0.4515 - val_accuracy: 0.8679\n",
            "Epoch 18/30\n",
            "45/45 [==============================] - 5s 107ms/step - loss: 0.4342 - accuracy: 0.8718 - val_loss: 0.4488 - val_accuracy: 0.8680\n",
            "Epoch 19/30\n",
            "45/45 [==============================] - 4s 93ms/step - loss: 0.4314 - accuracy: 0.8720 - val_loss: 0.4464 - val_accuracy: 0.8681\n",
            "Epoch 20/30\n",
            "45/45 [==============================] - 6s 127ms/step - loss: 0.4281 - accuracy: 0.8726 - val_loss: 0.4443 - val_accuracy: 0.8683\n",
            "Epoch 21/30\n",
            "45/45 [==============================] - 4s 94ms/step - loss: 0.4253 - accuracy: 0.8730 - val_loss: 0.4424 - val_accuracy: 0.8684\n",
            "Epoch 22/30\n",
            "45/45 [==============================] - 4s 91ms/step - loss: 0.4226 - accuracy: 0.8735 - val_loss: 0.4423 - val_accuracy: 0.8687\n",
            "Epoch 23/30\n",
            "45/45 [==============================] - 7s 164ms/step - loss: 0.4204 - accuracy: 0.8738 - val_loss: 0.4401 - val_accuracy: 0.8683\n",
            "Epoch 24/30\n",
            "45/45 [==============================] - 4s 90ms/step - loss: 0.4188 - accuracy: 0.8740 - val_loss: 0.4372 - val_accuracy: 0.8689\n",
            "Epoch 25/30\n",
            "45/45 [==============================] - 4s 93ms/step - loss: 0.4160 - accuracy: 0.8747 - val_loss: 0.4361 - val_accuracy: 0.8693\n",
            "Epoch 26/30\n",
            "45/45 [==============================] - 6s 129ms/step - loss: 0.4140 - accuracy: 0.8752 - val_loss: 0.4346 - val_accuracy: 0.8692\n",
            "Epoch 27/30\n",
            "45/45 [==============================] - 4s 92ms/step - loss: 0.4118 - accuracy: 0.8756 - val_loss: 0.4336 - val_accuracy: 0.8694\n",
            "Epoch 28/30\n",
            "45/45 [==============================] - 5s 109ms/step - loss: 0.4103 - accuracy: 0.8756 - val_loss: 0.4322 - val_accuracy: 0.8699\n",
            "Epoch 29/30\n",
            "45/45 [==============================] - 8s 167ms/step - loss: 0.4083 - accuracy: 0.8760 - val_loss: 0.4316 - val_accuracy: 0.8695\n",
            "Epoch 30/30\n",
            "45/45 [==============================] - 4s 92ms/step - loss: 0.4068 - accuracy: 0.8763 - val_loss: 0.4303 - val_accuracy: 0.8696\n"
          ]
        }
      ]
    },
    {
      "cell_type": "code",
      "source": [
        "from matplotlib import pyplot as plt\n",
        "plt.plot(history.history['accuracy'])\n",
        "plt.plot(history.history['val_accuracy'])\n",
        "plt.title('model accuracy')\n",
        "plt.ylabel('accuracy')\n",
        "plt.xlabel('epoch')\n",
        "plt.legend(['train', 'test'], loc=\"lower right\")\n",
        "plt.show()"
      ],
      "metadata": {
        "colab": {
          "base_uri": "https://localhost:8080/",
          "height": 295
        },
        "id": "_MNyL2W8fW7y",
        "outputId": "3d7579eb-579a-432e-8eab-c1b6ae9e7fd9"
      },
      "execution_count": 25,
      "outputs": [
        {
          "output_type": "display_data",
          "data": {
            "text/plain": [
              "<Figure size 432x288 with 1 Axes>"
            ],
            "image/png": "[encoded data removed]"
          },
          "metadata": {
            "needs_background": "light"
          }
        }
      ]
    },
    {
      "cell_type": "code",
      "source": [
        "from matplotlib import pyplot as plt\n",
        "plt.plot(history.history['loss'])\n",
        "plt.plot(history.history['val_loss'])\n",
        "plt.title('model loss')\n",
        "plt.ylabel('loss')\n",
        "plt.xlabel('epoch')\n",
        "plt.legend(['train', 'test'], loc=\"lower right\")\n",
        "plt.show()"
      ],
      "metadata": {
        "colab": {
          "base_uri": "https://localhost:8080/",
          "height": 295
        },
        "id": "pl4xbhd54lUF",
        "outputId": "83de28eb-966e-476e-d408-08516a6615ea"
      },
      "execution_count": 26,
      "outputs": [
        {
          "output_type": "display_data",
          "data": {
            "text/plain": [
              "<Figure size 432x288 with 1 Axes>"
            ],
            "image/png": "[encoded data removed]"
          },
          "metadata": {
            "needs_background": "light"
          }
        }
      ]
    },
    {
      "cell_type": "markdown",
      "source": [
        "LSTM Model"
      ],
      "metadata": {
        "id": "VGwZGgyR5Asz"
      }
    },
    {
      "cell_type": "code",
      "source": [
        "lstm_model = Sequential()\n",
        "lstm_model.add(Embedding(len(word_index) + 1, EMBEDDING_DIM, weights=[embedding_matrix], trainable=True))\n",
        "lstm_model.add(LSTM(64, return_sequences=True))\n",
        "lstm_model.add(TimeDistributed(Dense(NUM_CLASSES, activation='softmax')))\n",
        "lstm_model.compile(loss='categorical_crossentropy',optimizer='adam',metrics=['accuracy'])\n",
        "lstm_model.summary()"
      ],
      "metadata": {
        "colab": {
          "base_uri": "https://localhost:8080/",
          "height": 0
        },
        "id": "B8mPylt44yWo",
        "outputId": "6893cb19-1fa0-4c8e-f33e-039653eaccec"
      },
      "execution_count": 27,
      "outputs": [
        {
          "output_type": "stream",
          "name": "stdout",
          "text": [
            "Model: \"sequential_1\"\n",
            "_________________________________________________________________\n",
            " Layer (type)                Output Shape              Param #   \n",
            "=================================================================\n",
            " embedding_1 (Embedding)     (None, None, 300)         5177100   \n",
            "                                                                 \n",
            " lstm (LSTM)                 (None, None, 64)          93440     \n",
            "                                                                 \n",
            " time_distributed_1 (TimeDis  (None, None, 43)         2795      \n",
            " tributed)                                                       \n",
            "                                                                 \n",
            "=================================================================\n",
            "Total params: 5,273,335\n",
            "Trainable params: 5,273,335\n",
            "Non-trainable params: 0\n",
            "_________________________________________________________________\n"
          ]
        }
      ]
    },
    {
      "cell_type": "code",
      "source": [
        "lstm_training = lstm_model.fit(x_train, y_train, batch_size=128, epochs=10, validation_split=0.2)"
      ],
      "metadata": {
        "colab": {
          "base_uri": "https://localhost:8080/",
          "height": 0
        },
        "id": "T8JW29jj5UMX",
        "outputId": "92e0bb15-f347-4958-9ddb-58e4e1091c4e"
      },
      "execution_count": 28,
      "outputs": [
        {
          "output_type": "stream",
          "name": "stdout",
          "text": [
            "Epoch 1/10\n",
            "45/45 [==============================] - 13s 196ms/step - loss: 1.7612 - accuracy: 0.7834 - val_loss: 0.7001 - val_accuracy: 0.8225\n",
            "Epoch 2/10\n",
            "45/45 [==============================] - 5s 109ms/step - loss: 0.6468 - accuracy: 0.8324 - val_loss: 0.6172 - val_accuracy: 0.8379\n",
            "Epoch 3/10\n",
            "45/45 [==============================] - 4s 80ms/step - loss: 0.5833 - accuracy: 0.8451 - val_loss: 0.5637 - val_accuracy: 0.8484\n",
            "Epoch 4/10\n",
            "45/45 [==============================] - 6s 126ms/step - loss: 0.5314 - accuracy: 0.8567 - val_loss: 0.5178 - val_accuracy: 0.8605\n",
            "Epoch 5/10\n",
            "45/45 [==============================] - 3s 61ms/step - loss: 0.4877 - accuracy: 0.8671 - val_loss: 0.4817 - val_accuracy: 0.8677\n",
            "Epoch 6/10\n",
            "45/45 [==============================] - 4s 81ms/step - loss: 0.4532 - accuracy: 0.8738 - val_loss: 0.4550 - val_accuracy: 0.8720\n",
            "Epoch 7/10\n",
            "45/45 [==============================] - 2s 42ms/step - loss: 0.4263 - accuracy: 0.8785 - val_loss: 0.4360 - val_accuracy: 0.8748\n",
            "Epoch 8/10\n",
            "45/45 [==============================] - 2s 50ms/step - loss: 0.4051 - accuracy: 0.8818 - val_loss: 0.4216 - val_accuracy: 0.8765\n",
            "Epoch 9/10\n",
            "45/45 [==============================] - 1s 30ms/step - loss: 0.3879 - accuracy: 0.8842 - val_loss: 0.4108 - val_accuracy: 0.8775\n",
            "Epoch 10/10\n",
            "45/45 [==============================] - 1s 29ms/step - loss: 0.3733 - accuracy: 0.8864 - val_loss: 0.4032 - val_accuracy: 0.8785\n"
          ]
        }
      ]
    },
    {
      "cell_type": "code",
      "source": [
        "from matplotlib import pyplot as plt\n",
        "plt.plot(lstm_training.history['accuracy'])\n",
        "plt.plot(lstm_training.history['val_accuracy'])\n",
        "plt.title('model accuracy')\n",
        "plt.ylabel('accuracy')\n",
        "plt.xlabel('epoch')\n",
        "plt.legend(['train', 'test'], loc=\"lower right\")\n",
        "plt.show()"
      ],
      "metadata": {
        "colab": {
          "base_uri": "https://localhost:8080/",
          "height": 295
        },
        "id": "TDHn6iK26jPP",
        "outputId": "7ff9d144-5212-468c-b463-95ee18d3da0a"
      },
      "execution_count": 29,
      "outputs": [
        {
          "output_type": "display_data",
          "data": {
            "text/plain": [
              "<Figure size 432x288 with 1 Axes>"
            ],
            "image/png": "[encoded data removed]"
          },
          "metadata": {
            "needs_background": "light"
          }
        }
      ]
    },
    {
      "cell_type": "markdown",
      "source": [
        "GRU Model"
      ],
      "metadata": {
        "id": "n9pFPF7q8GMO"
      }
    },
    {
      "cell_type": "code",
      "source": [
        "gru_model = Sequential()\n",
        "gru_model.add(Embedding(len(word_index) + 1, EMBEDDING_DIM, weights=[embedding_matrix], trainable=True))\n",
        "gru_model.add(GRU(64, return_sequences=True))\n",
        "gru_model.add(TimeDistributed(Dense(NUM_CLASSES, activation='softmax')))\n",
        "gru_model.compile(loss='categorical_crossentropy',optimizer='adam',metrics=['accuracy'])\n",
        "gru_model.summary()"
      ],
      "metadata": {
        "colab": {
          "base_uri": "https://localhost:8080/",
          "height": 0
        },
        "id": "Q1EkcAr77MFy",
        "outputId": "868ce89a-ad92-43a7-80b9-63a2a68e11a2"
      },
      "execution_count": 30,
      "outputs": [
        {
          "output_type": "stream",
          "name": "stdout",
          "text": [
            "Model: \"sequential_2\"\n",
            "_________________________________________________________________\n",
            " Layer (type)                Output Shape              Param #   \n",
            "=================================================================\n",
            " embedding_2 (Embedding)     (None, None, 300)         5177100   \n",
            "                                                                 \n",
            " gru (GRU)                   (None, None, 64)          70272     \n",
            "                                                                 \n",
            " time_distributed_2 (TimeDis  (None, None, 43)         2795      \n",
            " tributed)                                                       \n",
            "                                                                 \n",
            "=================================================================\n",
            "Total params: 5,250,167\n",
            "Trainable params: 5,250,167\n",
            "Non-trainable params: 0\n",
            "_________________________________________________________________\n"
          ]
        }
      ]
    },
    {
      "cell_type": "code",
      "source": [
        "gru_training = gru_model.fit(x_train, y_train, batch_size=128, epochs=10, validation_split=0.3)"
      ],
      "metadata": {
        "colab": {
          "base_uri": "https://localhost:8080/",
          "height": 0
        },
        "id": "slweeqzy7ory",
        "outputId": "18f3ce4b-9626-434a-f564-4c044043da13"
      },
      "execution_count": 31,
      "outputs": [
        {
          "output_type": "stream",
          "name": "stdout",
          "text": [
            "Epoch 1/10\n",
            "40/40 [==============================] - 7s 130ms/step - loss: 1.9327 - accuracy: 0.8100 - val_loss: 0.6511 - val_accuracy: 0.8275\n",
            "Epoch 2/10\n",
            "40/40 [==============================] - 5s 138ms/step - loss: 0.6084 - accuracy: 0.8374 - val_loss: 0.5725 - val_accuracy: 0.8485\n",
            "Epoch 3/10\n",
            "40/40 [==============================] - 3s 69ms/step - loss: 0.5449 - accuracy: 0.8555 - val_loss: 0.5237 - val_accuracy: 0.8606\n",
            "Epoch 4/10\n",
            "40/40 [==============================] - 3s 82ms/step - loss: 0.4996 - accuracy: 0.8658 - val_loss: 0.4866 - val_accuracy: 0.8682\n",
            "Epoch 5/10\n",
            "40/40 [==============================] - 4s 96ms/step - loss: 0.4645 - accuracy: 0.8729 - val_loss: 0.4591 - val_accuracy: 0.8725\n",
            "Epoch 6/10\n",
            "40/40 [==============================] - 2s 61ms/step - loss: 0.4371 - accuracy: 0.8770 - val_loss: 0.4376 - val_accuracy: 0.8749\n",
            "Epoch 7/10\n",
            "40/40 [==============================] - 2s 63ms/step - loss: 0.4146 - accuracy: 0.8800 - val_loss: 0.4201 - val_accuracy: 0.8774\n",
            "Epoch 8/10\n",
            "40/40 [==============================] - 1s 31ms/step - loss: 0.3951 - accuracy: 0.8824 - val_loss: 0.4053 - val_accuracy: 0.8789\n",
            "Epoch 9/10\n",
            "40/40 [==============================] - 2s 43ms/step - loss: 0.3772 - accuracy: 0.8849 - val_loss: 0.3923 - val_accuracy: 0.8811\n",
            "Epoch 10/10\n",
            "40/40 [==============================] - 1s 20ms/step - loss: 0.3605 - accuracy: 0.8873 - val_loss: 0.3820 - val_accuracy: 0.8823\n"
          ]
        }
      ]
    },
    {
      "cell_type": "code",
      "source": [
        "from matplotlib import pyplot as plt\n",
        "plt.plot(gru_training.history['accuracy'])\n",
        "plt.plot(gru_training.history['val_accuracy'])\n",
        "plt.title('model accuracy')\n",
        "plt.ylabel('accuracy')\n",
        "plt.xlabel('epoch')\n",
        "plt.legend(['train', 'test'], loc=\"lower right\")\n",
        "plt.show()"
      ],
      "metadata": {
        "colab": {
          "base_uri": "https://localhost:8080/",
          "height": 295
        },
        "id": "D01GzvfP8eAp",
        "outputId": "84f04680-c9ef-4ba8-851e-8efe61e493ae"
      },
      "execution_count": 32,
      "outputs": [
        {
          "output_type": "display_data",
          "data": {
            "text/plain": [
              "<Figure size 432x288 with 1 Axes>"
            ],
            "image/png": "[encoded data removed]"
          },
          "metadata": {
            "needs_background": "light"
          }
        }
      ]
    },
    {
      "cell_type": "markdown",
      "source": [
        "Bidirectional LSTM Model"
      ],
      "metadata": {
        "id": "UTAcES4k8OiH"
      }
    },
    {
      "cell_type": "code",
      "source": [
        "bidirect_model = Sequential()\n",
        "bidirect_model.add(Embedding(len(word_index) + 1, EMBEDDING_DIM, weights=[embedding_matrix], trainable=True))\n",
        "bidirect_model.add(Bidirectional(LSTM(64, return_sequences=True)))\n",
        "bidirect_model.add(TimeDistributed(Dense(NUM_CLASSES, activation='softmax')))\n",
        "bidirect_model.compile(loss='categorical_crossentropy',optimizer='adam',metrics=['accuracy'])\n",
        "bidirect_model.summary()"
      ],
      "metadata": {
        "colab": {
          "base_uri": "https://localhost:8080/",
          "height": 0
        },
        "id": "o2q4cxfy8kI0",
        "outputId": "20465dcb-ef55-402a-f799-81af6a582f84"
      },
      "execution_count": 33,
      "outputs": [
        {
          "output_type": "stream",
          "name": "stdout",
          "text": [
            "Model: \"sequential_3\"\n",
            "_________________________________________________________________\n",
            " Layer (type)                Output Shape              Param #   \n",
            "=================================================================\n",
            " embedding_3 (Embedding)     (None, None, 300)         5177100   \n",
            "                                                                 \n",
            " bidirectional (Bidirectiona  (None, None, 128)        186880    \n",
            " l)                                                              \n",
            "                                                                 \n",
            " time_distributed_3 (TimeDis  (None, None, 43)         5547      \n",
            " tributed)                                                       \n",
            "                                                                 \n",
            "=================================================================\n",
            "Total params: 5,369,527\n",
            "Trainable params: 5,369,527\n",
            "Non-trainable params: 0\n",
            "_________________________________________________________________\n"
          ]
        }
      ]
    },
    {
      "cell_type": "code",
      "source": [
        "bidirect_training = bidirect_model.fit(x_train, y_train, batch_size=128, epochs=10, validation_split=0.3)"
      ],
      "metadata": {
        "colab": {
          "base_uri": "https://localhost:8080/",
          "height": 0
        },
        "id": "hskJH2ni83OH",
        "outputId": "db3dc9b8-264b-4815-b123-90680bd1d234"
      },
      "execution_count": 34,
      "outputs": [
        {
          "output_type": "stream",
          "name": "stdout",
          "text": [
            "Epoch 1/10\n",
            "40/40 [==============================] - 11s 178ms/step - loss: 1.6252 - accuracy: 0.7871 - val_loss: 0.6611 - val_accuracy: 0.8304\n",
            "Epoch 2/10\n",
            "40/40 [==============================] - 5s 114ms/step - loss: 0.6196 - accuracy: 0.8344 - val_loss: 0.5863 - val_accuracy: 0.8417\n",
            "Epoch 3/10\n",
            "40/40 [==============================] - 5s 116ms/step - loss: 0.5587 - accuracy: 0.8475 - val_loss: 0.5359 - val_accuracy: 0.8540\n",
            "Epoch 4/10\n",
            "40/40 [==============================] - 4s 91ms/step - loss: 0.5109 - accuracy: 0.8601 - val_loss: 0.4953 - val_accuracy: 0.8645\n",
            "Epoch 5/10\n",
            "40/40 [==============================] - 2s 42ms/step - loss: 0.4717 - accuracy: 0.8698 - val_loss: 0.4639 - val_accuracy: 0.8711\n",
            "Epoch 6/10\n",
            "40/40 [==============================] - 1s 36ms/step - loss: 0.4402 - accuracy: 0.8757 - val_loss: 0.4412 - val_accuracy: 0.8751\n",
            "Epoch 7/10\n",
            "40/40 [==============================] - 2s 52ms/step - loss: 0.4152 - accuracy: 0.8797 - val_loss: 0.4236 - val_accuracy: 0.8781\n",
            "Epoch 8/10\n",
            "40/40 [==============================] - 1s 34ms/step - loss: 0.3944 - accuracy: 0.8832 - val_loss: 0.4104 - val_accuracy: 0.8799\n",
            "Epoch 9/10\n",
            "40/40 [==============================] - 2s 41ms/step - loss: 0.3768 - accuracy: 0.8859 - val_loss: 0.4001 - val_accuracy: 0.8815\n",
            "Epoch 10/10\n",
            "40/40 [==============================] - 1s 28ms/step - loss: 0.3610 - accuracy: 0.8888 - val_loss: 0.3952 - val_accuracy: 0.8826\n"
          ]
        }
      ]
    },
    {
      "cell_type": "code",
      "source": [
        "from matplotlib import pyplot as plt\n",
        "plt.plot(bidirect_training.history['accuracy'])\n",
        "plt.plot(bidirect_training.history['val_accuracy'])\n",
        "plt.title('model accuracy')\n",
        "plt.ylabel('accuracy')\n",
        "plt.xlabel('epoch')\n",
        "plt.legend(['train', 'test'], loc=\"lower right\")\n",
        "plt.show()"
      ],
      "metadata": {
        "colab": {
          "base_uri": "https://localhost:8080/",
          "height": 295
        },
        "id": "CmgKDtBG8_b8",
        "outputId": "4d2ad591-6414-4ed5-bd78-8abfccc896dd"
      },
      "execution_count": 35,
      "outputs": [
        {
          "output_type": "display_data",
          "data": {
            "text/plain": [
              "<Figure size 432x288 with 1 Axes>"
            ],
            "image/png": "[encoded data removed]"
          },
          "metadata": {
            "needs_background": "light"
          }
        }
      ]
    },
    {
      "cell_type": "markdown",
      "source": [
        "Models Evaluation"
      ],
      "metadata": {
        "id": "VKN_gtU8YUDi"
      }
    },
    {
      "cell_type": "code",
      "source": [
        "results = rnn_model.evaluate(x_test, y_test, batch_size=128,verbose=0)\n",
        "print(rnn_model.metrics_names)\n",
        "print(results)"
      ],
      "metadata": {
        "colab": {
          "base_uri": "https://localhost:8080/",
          "height": 0
        },
        "id": "Y09QtEK9fWIz",
        "outputId": "d5debb1e-c25f-49e0-e932-56e1a2767957"
      },
      "execution_count": 36,
      "outputs": [
        {
          "output_type": "stream",
          "name": "stdout",
          "text": [
            "['loss', 'accuracy']\n",
            "[0.42914658784866333, 0.8706431984901428]\n"
          ]
        }
      ]
    },
    {
      "cell_type": "code",
      "source": [
        "results = lstm_model.evaluate(x_test, y_test, batch_size=128,verbose=0)\n",
        "print(lstm_model.metrics_names)\n",
        "print(results)"
      ],
      "metadata": {
        "colab": {
          "base_uri": "https://localhost:8080/",
          "height": 0
        },
        "id": "J8zoP05EABA3",
        "outputId": "b067e088-a459-44ac-a927-68e50f1a396e"
      },
      "execution_count": 37,
      "outputs": [
        {
          "output_type": "stream",
          "name": "stdout",
          "text": [
            "['loss', 'accuracy']\n",
            "[0.4029112160205841, 0.8784283995628357]\n"
          ]
        }
      ]
    },
    {
      "cell_type": "code",
      "source": [
        "results = gru_model.evaluate(x_test, y_test, batch_size=128,verbose=0)\n",
        "print(lstm_model.metrics_names)\n",
        "print(results)"
      ],
      "metadata": {
        "colab": {
          "base_uri": "https://localhost:8080/",
          "height": 0
        },
        "id": "AUZ6CcnqAJhy",
        "outputId": "2aaacc83-a4d6-47cc-b334-192ad30af7f2"
      },
      "execution_count": 38,
      "outputs": [
        {
          "output_type": "stream",
          "name": "stdout",
          "text": [
            "['loss', 'accuracy']\n",
            "[0.38613006472587585, 0.8809340000152588]\n"
          ]
        }
      ]
    },
    {
      "cell_type": "code",
      "source": [
        "results = bidirect_model.evaluate(x_test, y_test, batch_size=128,verbose=0)\n",
        "print(bidirect_model.metrics_names)\n",
        "print(results)"
      ],
      "metadata": {
        "colab": {
          "base_uri": "https://localhost:8080/",
          "height": 0
        },
        "id": "Du0h6YIUAODm",
        "outputId": "4248ec74-35b4-415d-a11a-83c7aaaa2e9a"
      },
      "execution_count": 39,
      "outputs": [
        {
          "output_type": "stream",
          "name": "stdout",
          "text": [
            "['loss', 'accuracy']\n",
            "[0.3978657126426697, 0.8816834688186646]\n"
          ]
        }
      ]
    },
    {
      "cell_type": "markdown",
      "source": [
        "Predict the test data"
      ],
      "metadata": {
        "id": "w7Eg3i01CrBQ"
      }
    },
    {
      "cell_type": "code",
      "source": [
        "import numpy as np\n",
        "import pandas as pd\n",
        "import os\n",
        "test_data = []\n",
        "f = open(\"/content/drive/MyDrive/dataset/nlp_test_dataset.txt\", \"r\")\n",
        "rowtext = []\n",
        "for line in f:\n",
        "  if line == \"\\n\":\n",
        "    test_data.append(rowtext)\n",
        "    rowtext = []\n",
        "  else:\n",
        "    if line!='.\\n' and line!=',\\n':\n",
        "      rowtext.append(line.strip('\\n'))\n",
        "print(test_data[0])"
      ],
      "metadata": {
        "colab": {
          "base_uri": "https://localhost:8080/",
          "height": 0
        },
        "id": "cHuH7x_EAg2P",
        "outputId": "3a873262-da76-4fe9-95ff-ca537ca48be3"
      },
      "execution_count": 40,
      "outputs": [
        {
          "output_type": "stream",
          "name": "stdout",
          "text": [
            "['Rockwell', 'International', 'Corp.', \"'s\", 'Tulsa', 'unit', 'said', 'it', 'signed', 'a', 'tentative', 'agreement', 'extending', 'its', 'contract', 'with', 'Boeing', 'Co.', 'to', 'provide', 'structural', 'parts', 'for', 'Boeing', \"'s\", '747', 'jetliners']\n"
          ]
        }
      ]
    },
    {
      "cell_type": "code",
      "source": [
        "test_df = pd.DataFrame(columns=[\"text\"])\n",
        "test_df[\"text\"] = test_data"
      ],
      "metadata": {
        "id": "ogzFqhKKByoW"
      },
      "execution_count": 41,
      "outputs": []
    },
    {
      "cell_type": "code",
      "source": [
        "test_df.head()"
      ],
      "metadata": {
        "colab": {
          "base_uri": "https://localhost:8080/",
          "height": 206
        },
        "id": "gWlBqL1RCjiu",
        "outputId": "8d58d876-c933-4f4a-e360-68b428270300"
      },
      "execution_count": 42,
      "outputs": [
        {
          "output_type": "execute_result",
          "data": {
            "text/plain": [
              "                                                text\n",
              "0  [Rockwell, International, Corp., 's, Tulsa, un...\n",
              "1  [Rockwell, said, the, agreement, calls, for, i...\n",
              "2  [These, include, among, other, parts, each, je...\n",
              "3  [Under, the, existing, contract, Rockwell, sai...\n",
              "4  [Rockwell, based, in, El, Segundo, Calif., is,..."
            ],
            "text/html": [
              "\n",
              "  <div id=\"df-e4ddd741-4658-49f7-9734-0d8888beccd2\">\n",
              "    <div class=\"colab-df-container\">\n",
              "      <div>\n",
              "<style scoped>\n",
              "    .dataframe tbody tr th:only-of-type {\n",
              "        vertical-align: middle;\n",
              "    }\n",
              "\n",
              "    .dataframe tbody tr th {\n",
              "        vertical-align: top;\n",
              "    }\n",
              "\n",
              "    .dataframe thead th {\n",
              "        text-align: right;\n",
              "    }\n",
              "</style>\n",
              "<table border=\"1\" class=\"dataframe\">\n",
              "  <thead>\n",
              "    <tr style=\"text-align: right;\">\n",
              "      <th></th>\n",
              "      <th>text</th>\n",
              "    </tr>\n",
              "  </thead>\n",
              "  <tbody>\n",
              "    <tr>\n",
              "      <th>0</th>\n",
              "      <td>[Rockwell, International, Corp., 's, Tulsa, un...</td>\n",
              "    </tr>\n",
              "    <tr>\n",
              "      <th>1</th>\n",
              "      <td>[Rockwell, said, the, agreement, calls, for, i...</td>\n",
              "    </tr>\n",
              "    <tr>\n",
              "      <th>2</th>\n",
              "      <td>[These, include, among, other, parts, each, je...</td>\n",
              "    </tr>\n",
              "    <tr>\n",
              "      <th>3</th>\n",
              "      <td>[Under, the, existing, contract, Rockwell, sai...</td>\n",
              "    </tr>\n",
              "    <tr>\n",
              "      <th>4</th>\n",
              "      <td>[Rockwell, based, in, El, Segundo, Calif., is,...</td>\n",
              "    </tr>\n",
              "  </tbody>\n",
              "</table>\n",
              "</div>\n",
              "      <button class=\"colab-df-convert\" onclick=\"convertToInteractive('df-e4ddd741-4658-49f7-9734-0d8888beccd2')\"\n",
              "              title=\"Convert this dataframe to an interactive table.\"\n",
              "              style=\"display:none;\">\n",
              "        \n",
              "  <svg xmlns=\"http://www.w3.org/2000/svg\" height=\"24px\"viewBox=\"0 0 24 24\"\n",
              "       width=\"24px\">\n",
              "    <path d=\"M0 0h24v24H0V0z\" fill=\"none\"/>\n",
              "    <path d=\"M18.56 5.44l.94 2.06.94-2.06 2.06-.94-2.06-.94-.94-2.06-.94 2.06-2.06.94zm-11 1L8.5 8.5l.94-2.06 2.06-.94-2.06-.94L8.5 2.5l-.94 2.06-2.06.94zm10 10l.94 2.06.94-2.06 2.06-.94-2.06-.94-.94-2.06-.94 2.06-2.06.94z\"/><path d=\"M17.41 7.96l-1.37-1.37c-.4-.4-.92-.59-1.43-.59-.52 0-1.04.2-1.43.59L10.3 9.45l-7.72 7.72c-.78.78-.78 2.05 0 2.83L4 21.41c.39.39.9.59 1.41.59.51 0 1.02-.2 1.41-.59l7.78-7.78 2.81-2.81c.8-.78.8-2.07 0-2.86zM5.41 20L4 18.59l7.72-7.72 1.47 1.35L5.41 20z\"/>\n",
              "  </svg>\n",
              "      </button>\n",
              "      \n",
              "  <style>\n",
              "    .colab-df-container {\n",
              "      display:flex;\n",
              "      flex-wrap:wrap;\n",
              "      gap: 12px;\n",
              "    }\n",
              "\n",
              "    .colab-df-convert {\n",
              "      background-color: #E8F0FE;\n",
              "      border: none;\n",
              "      border-radius: 50%;\n",
              "      cursor: pointer;\n",
              "      display: none;\n",
              "      fill: #1967D2;\n",
              "      height: 32px;\n",
              "      padding: 0 0 0 0;\n",
              "      width: 32px;\n",
              "    }\n",
              "\n",
              "    .colab-df-convert:hover {\n",
              "      background-color: #E2EBFA;\n",
              "      box-shadow: 0px 1px 2px rgba(60, 64, 67, 0.3), 0px 1px 3px 1px rgba(60, 64, 67, 0.15);\n",
              "      fill: #174EA6;\n",
              "    }\n",
              "\n",
              "    [theme=dark] .colab-df-convert {\n",
              "      background-color: #3B4455;\n",
              "      fill: #D2E3FC;\n",
              "    }\n",
              "\n",
              "    [theme=dark] .colab-df-convert:hover {\n",
              "      background-color: #434B5C;\n",
              "      box-shadow: 0px 1px 3px 1px rgba(0, 0, 0, 0.15);\n",
              "      filter: drop-shadow(0px 1px 2px rgba(0, 0, 0, 0.3));\n",
              "      fill: #FFFFFF;\n",
              "    }\n",
              "  </style>\n",
              "\n",
              "      <script>\n",
              "        const buttonEl =\n",
              "          document.querySelector('#df-e4ddd741-4658-49f7-9734-0d8888beccd2 button.colab-df-convert');\n",
              "        buttonEl.style.display =\n",
              "          google.colab.kernel.accessAllowed ? 'block' : 'none';\n",
              "\n",
              "        async function convertToInteractive(key) {\n",
              "          const element = document.querySelector('#df-e4ddd741-4658-49f7-9734-0d8888beccd2');\n",
              "          const dataTable =\n",
              "            await google.colab.kernel.invokeFunction('convertToInteractive',\n",
              "                                                     [key], {});\n",
              "          if (!dataTable) return;\n",
              "\n",
              "          const docLinkHtml = 'Like what you see? Visit the ' +\n",
              "            '<a target=\"_blank\" href=https://colab.research.google.com/notebooks/data_table.ipynb>data table notebook</a>'\n",
              "            + ' to learn more about interactive tables.';\n",
              "          element.innerHTML = '';\n",
              "          dataTable['output_type'] = 'display_data';\n",
              "          await google.colab.output.renderOutput(dataTable, element);\n",
              "          const docLink = document.createElement('div');\n",
              "          docLink.innerHTML = docLinkHtml;\n",
              "          element.appendChild(docLink);\n",
              "        }\n",
              "      </script>\n",
              "    </div>\n",
              "  </div>\n",
              "  "
            ]
          },
          "metadata": {},
          "execution_count": 42
        }
      ]
    },
    {
      "cell_type": "code",
      "source": [
        "MAX_NB_WORDS = 5000\n",
        "MAX_SEQUENCE_LENGTH = 100\n",
        "tokenizer = Tokenizer(num_words=MAX_NB_WORDS)\n",
        "tokenizer.fit_on_texts(test_df[\"text\"])\n",
        "sequences = []\n",
        "for i in range(len(test_data)):\n",
        "  sequence = tokenizer.texts_to_sequences([test_data[i]])\n",
        "  sequences.append(sequence[0])\n",
        "print(sequences[0])\n",
        "print(sequences[30])\n",
        "test_X_padded = pad_sequences(sequences, maxlen=MAX_SEQUENCE_LENGTH, padding=\"post\")\n",
        "tag_tokenizer.word_index['<PAD>'] = 0\n",
        "tag_tokenizer.index_word[0] = '<PAD>'"
      ],
      "metadata": {
        "colab": {
          "base_uri": "https://localhost:8080/",
          "height": 0
        },
        "id": "TURjXrPmD3cu",
        "outputId": "7230e9b1-fcf8-4f74-b594-d09930442e1e"
      },
      "execution_count": 43,
      "outputs": [
        {
          "output_type": "stream",
          "name": "stdout",
          "text": [
            "[1353, 270, 86, 8, 3413, 232, 14, 18, 917, 4, 2270, 432, 3414, 26, 307, 24, 1093, 101, 2, 433, 3415, 918, 7, 1093, 8, 3416, 3417]\n",
            "[17, 82, 8, 335, 3, 70, 18, 21, 581, 7, 4, 3471, 10, 3472, 22]\n"
          ]
        }
      ]
    },
    {
      "cell_type": "code",
      "source": [
        "rnn_output = rnn_model.predict(test_X_padded)\n",
        "rnn_pred_sequences = []\n",
        "for i in range(len(rnn_output)):\n",
        "    pred_tags = [tag_tokenizer.index_word[np.argmax(p)] for p in rnn_output[i]]\n",
        "    rnn_pred_sequences.append(pred_tags)\n",
        "for i in range(5):\n",
        "  print(test_df.iloc[i])\n",
        "  print(rnn_pred_sequences[i])\n",
        "  print(\"\\n\")"
      ],
      "metadata": {
        "colab": {
          "base_uri": "https://localhost:8080/",
          "height": 0
        },
        "id": "ke_GQo3BFYYL",
        "outputId": "41424b96-a9b4-47e4-ae1d-94a92a90d738"
      },
      "execution_count": 44,
      "outputs": [
        {
          "output_type": "stream",
          "name": "stdout",
          "text": [
            "63/63 [==============================] - 1s 17ms/step\n",
            "text    [Rockwell, International, Corp., 's, Tulsa, un...\n",
            "Name: 0, dtype: object\n",
            "['vbg', 'nn', '<PAD>', 'pos', 'pos', 'nn', 'vbd', 'in', 'in', 'dt', 'nn', 'nn', 'nn', 'vbp', 'vbp', 'in', 'rb', 'nns', 'in', 'in', 'jj', 'in', 'in', 'nn', 'nn', 'jj', 'jj', 'nn', '<PAD>', '<PAD>', '<PAD>', '<PAD>', '<PAD>', '<PAD>', '<PAD>', '<PAD>', '<PAD>', '<PAD>', '<PAD>', '<PAD>', '<PAD>', '<PAD>', '<PAD>', '<PAD>', '<PAD>', '<PAD>', '<PAD>', '<PAD>', '<PAD>', '<PAD>', '<PAD>', '<PAD>', '<PAD>', '<PAD>', '<PAD>', '<PAD>', '<PAD>', '<PAD>', '<PAD>', '<PAD>', '<PAD>', '<PAD>', '<PAD>', '<PAD>', '<PAD>', '<PAD>', '<PAD>', '<PAD>', '<PAD>', '<PAD>', '<PAD>', '<PAD>', '<PAD>', '<PAD>', '<PAD>', '<PAD>', '<PAD>', '<PAD>', '<PAD>', '<PAD>', '<PAD>', '<PAD>', '<PAD>', '<PAD>', '<PAD>', '<PAD>', '<PAD>', '<PAD>', '<PAD>', '<PAD>', '<PAD>', '<PAD>', '<PAD>', '<PAD>', '<PAD>', '<PAD>', '<PAD>', '<PAD>', '<PAD>', '<PAD>']\n",
            "\n",
            "\n",
            "text    [Rockwell, said, the, agreement, calls, for, i...\n",
            "Name: 1, dtype: object\n",
            "['vbg', 'vbd', 'dt', 'dt', 'nn', 'in', 'in', 'in', 'in', 'nn', 'nn', 'vbg', 'vbg', 'in', 'dt', 'dt', 'dt', '<PAD>', '<PAD>', '<PAD>', '<PAD>', '<PAD>', '<PAD>', '<PAD>', '<PAD>', '<PAD>', '<PAD>', '<PAD>', '<PAD>', '<PAD>', '<PAD>', '<PAD>', '<PAD>', '<PAD>', '<PAD>', '<PAD>', '<PAD>', '<PAD>', '<PAD>', '<PAD>', '<PAD>', '<PAD>', '<PAD>', '<PAD>', '<PAD>', '<PAD>', '<PAD>', '<PAD>', '<PAD>', '<PAD>', '<PAD>', '<PAD>', '<PAD>', '<PAD>', '<PAD>', '<PAD>', '<PAD>', '<PAD>', '<PAD>', '<PAD>', '<PAD>', '<PAD>', '<PAD>', '<PAD>', '<PAD>', '<PAD>', '<PAD>', '<PAD>', '<PAD>', '<PAD>', '<PAD>', '<PAD>', '<PAD>', '<PAD>', '<PAD>', '<PAD>', '<PAD>', '<PAD>', '<PAD>', '<PAD>', '<PAD>', '<PAD>', '<PAD>', '<PAD>', '<PAD>', '<PAD>', '<PAD>', '<PAD>', '<PAD>', '<PAD>', '<PAD>', '<PAD>', '<PAD>', '<PAD>', '<PAD>', '<PAD>', '<PAD>', '<PAD>', '<PAD>', '<PAD>']\n",
            "\n",
            "\n",
            "text    [These, include, among, other, parts, each, je...\n",
            "Name: 2, dtype: object\n",
            "['in', 'in', 'nnp', 'jjr', 'nn', 'nn', 'nn', 'pos', 'nn', 'nn', 'nn', 'dt', 'nn', 'nn', 'nn', '<PAD>', 'nns', 'in', 'in', 'in', 'in', 'nn', 'in', 'nn', 'nn', 'in', 'nns', '<PAD>', '<PAD>', '<PAD>', '<PAD>', '<PAD>', '<PAD>', '<PAD>', '<PAD>', '<PAD>', '<PAD>', '<PAD>', '<PAD>', '<PAD>', '<PAD>', '<PAD>', '<PAD>', '<PAD>', '<PAD>', '<PAD>', '<PAD>', '<PAD>', '<PAD>', '<PAD>', '<PAD>', '<PAD>', '<PAD>', '<PAD>', '<PAD>', '<PAD>', '<PAD>', '<PAD>', '<PAD>', '<PAD>', '<PAD>', '<PAD>', '<PAD>', '<PAD>', '<PAD>', '<PAD>', '<PAD>', '<PAD>', '<PAD>', '<PAD>', '<PAD>', '<PAD>', '<PAD>', '<PAD>', '<PAD>', '<PAD>', '<PAD>', '<PAD>', '<PAD>', '<PAD>', '<PAD>', '<PAD>', '<PAD>', '<PAD>', '<PAD>', '<PAD>', '<PAD>', '<PAD>', '<PAD>', '<PAD>', '<PAD>', '<PAD>', '<PAD>', '<PAD>', '<PAD>', '<PAD>', '<PAD>', '<PAD>', '<PAD>', '<PAD>']\n",
            "\n",
            "\n",
            "text    [Under, the, existing, contract, Rockwell, sai...\n",
            "Name: 3, dtype: object\n",
            "['rb', 'dt', 'nn', 'nn', 'nn', 'vbd', 'in', 'prp$', 'nn', 'nn', 'nn', 'nn', 'dt', 'vb', 'in', 'nn', '<PAD>', '<PAD>', '<PAD>', '<PAD>', '<PAD>', '<PAD>', '<PAD>', '<PAD>', '<PAD>', '<PAD>', '<PAD>', '<PAD>', '<PAD>', '<PAD>', '<PAD>', '<PAD>', '<PAD>', '<PAD>', '<PAD>', '<PAD>', '<PAD>', '<PAD>', '<PAD>', '<PAD>', '<PAD>', '<PAD>', '<PAD>', '<PAD>', '<PAD>', '<PAD>', '<PAD>', '<PAD>', '<PAD>', '<PAD>', '<PAD>', '<PAD>', '<PAD>', '<PAD>', '<PAD>', '<PAD>', '<PAD>', '<PAD>', '<PAD>', '<PAD>', '<PAD>', '<PAD>', '<PAD>', '<PAD>', '<PAD>', '<PAD>', '<PAD>', '<PAD>', '<PAD>', '<PAD>', '<PAD>', '<PAD>', '<PAD>', '<PAD>', '<PAD>', '<PAD>', '<PAD>', '<PAD>', '<PAD>', '<PAD>', '<PAD>', '<PAD>', '<PAD>', '<PAD>', '<PAD>', '<PAD>', '<PAD>', '<PAD>', '<PAD>', '<PAD>', '<PAD>', '<PAD>', '<PAD>', '<PAD>', '<PAD>', '<PAD>', '<PAD>', '<PAD>', '<PAD>', '<PAD>']\n",
            "\n",
            "\n",
            "text    [Rockwell, based, in, El, Segundo, Calif., is,...\n",
            "Name: 4, dtype: object\n",
            "['vbg', 'cd', 'cd', 'nn', 'cd', 'cd', 'vbz', 'vbz', 'nnp', 'nn', 'jj', 'in', 'vbg', 'cd', 'nns', '<PAD>', '<PAD>', '<PAD>', '<PAD>', '<PAD>', '<PAD>', '<PAD>', '<PAD>', '<PAD>', '<PAD>', '<PAD>', '<PAD>', '<PAD>', '<PAD>', '<PAD>', '<PAD>', '<PAD>', '<PAD>', '<PAD>', '<PAD>', '<PAD>', '<PAD>', '<PAD>', '<PAD>', '<PAD>', '<PAD>', '<PAD>', '<PAD>', '<PAD>', '<PAD>', '<PAD>', '<PAD>', '<PAD>', '<PAD>', '<PAD>', '<PAD>', '<PAD>', '<PAD>', '<PAD>', '<PAD>', '<PAD>', '<PAD>', '<PAD>', '<PAD>', '<PAD>', '<PAD>', '<PAD>', '<PAD>', '<PAD>', '<PAD>', '<PAD>', '<PAD>', '<PAD>', '<PAD>', '<PAD>', '<PAD>', '<PAD>', '<PAD>', '<PAD>', '<PAD>', '<PAD>', '<PAD>', '<PAD>', '<PAD>', '<PAD>', '<PAD>', '<PAD>', '<PAD>', '<PAD>', '<PAD>', '<PAD>', '<PAD>', '<PAD>', '<PAD>', '<PAD>', '<PAD>', '<PAD>', '<PAD>', '<PAD>', '<PAD>', '<PAD>', '<PAD>', '<PAD>', '<PAD>', '<PAD>']\n",
            "\n",
            "\n"
          ]
        }
      ]
    },
    {
      "cell_type": "code",
      "source": [
        "lstm_output = lstm_model.predict(test_X_padded)\n",
        "lstm_pred_sequences = []\n",
        "for i in range(len(lstm_output)):\n",
        "    pred_tags = [tag_tokenizer.index_word[np.argmax(p)] for p in lstm_output[i]]\n",
        "    lstm_pred_sequences.append(pred_tags)\n",
        "for i in range(5):\n",
        "  print(test_df.iloc[i])\n",
        "  print(len(test_df.iloc[i]))\n",
        "  print(lstm_pred_sequences[i])\n",
        "  print(len(lstm_pred_sequences[i]))\n",
        "  print(\"\\n\")"
      ],
      "metadata": {
        "colab": {
          "base_uri": "https://localhost:8080/",
          "height": 0
        },
        "id": "3_rEwmOMInTF",
        "outputId": "24b5078f-bc6b-4aa1-aaa0-086cf395e31c"
      },
      "execution_count": 45,
      "outputs": [
        {
          "output_type": "stream",
          "name": "stdout",
          "text": [
            "63/63 [==============================] - 1s 6ms/step\n",
            "text    [Rockwell, International, Corp., 's, Tulsa, un...\n",
            "Name: 0, dtype: object\n",
            "1\n",
            "['vbn', 'nn', 'jj', 'pos', 'nnp', 'vbd', 'vbd', 'in', 'rb', 'dt', 'rb', 'nn', 'nn', 'vbp', 'nnp', 'in', 'vbn', 'nnp', 'in', 'in', 'in', 'nn', 'in', 'in', 'pos', 'jj', 'nn', 'nn', 'nn', '<PAD>', '<PAD>', '<PAD>', '<PAD>', '<PAD>', '<PAD>', '<PAD>', '<PAD>', '<PAD>', '<PAD>', '<PAD>', '<PAD>', '<PAD>', '<PAD>', '<PAD>', '<PAD>', '<PAD>', '<PAD>', '<PAD>', '<PAD>', '<PAD>', '<PAD>', '<PAD>', '<PAD>', '<PAD>', '<PAD>', '<PAD>', '<PAD>', '<PAD>', '<PAD>', '<PAD>', '<PAD>', '<PAD>', '<PAD>', '<PAD>', '<PAD>', '<PAD>', '<PAD>', '<PAD>', '<PAD>', '<PAD>', '<PAD>', '<PAD>', '<PAD>', '<PAD>', '<PAD>', '<PAD>', '<PAD>', '<PAD>', '<PAD>', '<PAD>', '<PAD>', '<PAD>', '<PAD>', '<PAD>', '<PAD>', '<PAD>', '<PAD>', '<PAD>', '<PAD>', '<PAD>', '<PAD>', '<PAD>', '<PAD>', '<PAD>', '<PAD>', '<PAD>', '<PAD>', '<PAD>', '<PAD>', '<PAD>']\n",
            "100\n",
            "\n",
            "\n",
            "text    [Rockwell, said, the, agreement, calls, for, i...\n",
            "Name: 1, dtype: object\n",
            "1\n",
            "['vbn', 'vbd', 'dt', 'dt', 'nn', 'in', 'in', 'in', 'in', 'jj', 'nn', 'nn', 'jj', 'in', 'dt', 'dt', 'dt', '<PAD>', '<PAD>', '<PAD>', '<PAD>', '<PAD>', '<PAD>', '<PAD>', '<PAD>', '<PAD>', '<PAD>', '<PAD>', '<PAD>', '<PAD>', '<PAD>', '<PAD>', '<PAD>', '<PAD>', '<PAD>', '<PAD>', '<PAD>', '<PAD>', '<PAD>', '<PAD>', '<PAD>', '<PAD>', '<PAD>', '<PAD>', '<PAD>', '<PAD>', '<PAD>', '<PAD>', '<PAD>', '<PAD>', '<PAD>', '<PAD>', '<PAD>', '<PAD>', '<PAD>', '<PAD>', '<PAD>', '<PAD>', '<PAD>', '<PAD>', '<PAD>', '<PAD>', '<PAD>', '<PAD>', '<PAD>', '<PAD>', '<PAD>', '<PAD>', '<PAD>', '<PAD>', '<PAD>', '<PAD>', '<PAD>', '<PAD>', '<PAD>', '<PAD>', '<PAD>', '<PAD>', '<PAD>', '<PAD>', '<PAD>', '<PAD>', '<PAD>', '<PAD>', '<PAD>', '<PAD>', '<PAD>', '<PAD>', '<PAD>', '<PAD>', '<PAD>', '<PAD>', '<PAD>', '<PAD>', '<PAD>', '<PAD>', '<PAD>', '<PAD>', '<PAD>', '<PAD>']\n",
            "100\n",
            "\n",
            "\n",
            "text    [These, include, among, other, parts, each, je...\n",
            "Name: 2, dtype: object\n",
            "1\n",
            "['in', 'prp', 'jj', 'in', 'nn', 'vbg', 'vbg', 'pos', 'in', 'nn', 'nn', 'dt', 'vbn', 'nn', 'nnp', 'jj', 'vbd', 'nn', 'nn', 'in', 'dt', 'dt', 'in', 'nnp', 'nn', 'nnp', 'nns', 'nns', 'nns', 'nns', '<PAD>', '<PAD>', '<PAD>', '<PAD>', '<PAD>', '<PAD>', '<PAD>', '<PAD>', '<PAD>', '<PAD>', '<PAD>', '<PAD>', '<PAD>', '<PAD>', '<PAD>', '<PAD>', '<PAD>', '<PAD>', '<PAD>', '<PAD>', '<PAD>', '<PAD>', '<PAD>', '<PAD>', '<PAD>', '<PAD>', '<PAD>', '<PAD>', '<PAD>', '<PAD>', '<PAD>', '<PAD>', '<PAD>', '<PAD>', '<PAD>', '<PAD>', '<PAD>', '<PAD>', '<PAD>', '<PAD>', '<PAD>', '<PAD>', '<PAD>', '<PAD>', '<PAD>', '<PAD>', '<PAD>', '<PAD>', '<PAD>', '<PAD>', '<PAD>', '<PAD>', '<PAD>', '<PAD>', '<PAD>', '<PAD>', '<PAD>', '<PAD>', '<PAD>', '<PAD>', '<PAD>', '<PAD>', '<PAD>', '<PAD>', '<PAD>', '<PAD>', '<PAD>', '<PAD>', '<PAD>', '<PAD>']\n",
            "100\n",
            "\n",
            "\n",
            "text    [Under, the, existing, contract, Rockwell, sai...\n",
            "Name: 3, dtype: object\n",
            "1\n",
            "['rb', 'dt', 'nn', 'nnp', 'nnp', 'vbd', 'in', 'prp$', 'nn', 'nn', 'nn', 'to', 'dt', 'jj', 'in', 'vbn', 'in', '<PAD>', '<PAD>', '<PAD>', '<PAD>', '<PAD>', '<PAD>', '<PAD>', '<PAD>', '<PAD>', '<PAD>', '<PAD>', '<PAD>', '<PAD>', '<PAD>', '<PAD>', '<PAD>', '<PAD>', '<PAD>', '<PAD>', '<PAD>', '<PAD>', '<PAD>', '<PAD>', '<PAD>', '<PAD>', '<PAD>', '<PAD>', '<PAD>', '<PAD>', '<PAD>', '<PAD>', '<PAD>', '<PAD>', '<PAD>', '<PAD>', '<PAD>', '<PAD>', '<PAD>', '<PAD>', '<PAD>', '<PAD>', '<PAD>', '<PAD>', '<PAD>', '<PAD>', '<PAD>', '<PAD>', '<PAD>', '<PAD>', '<PAD>', '<PAD>', '<PAD>', '<PAD>', '<PAD>', '<PAD>', '<PAD>', '<PAD>', '<PAD>', '<PAD>', '<PAD>', '<PAD>', '<PAD>', '<PAD>', '<PAD>', '<PAD>', '<PAD>', '<PAD>', '<PAD>', '<PAD>', '<PAD>', '<PAD>', '<PAD>', '<PAD>', '<PAD>', '<PAD>', '<PAD>', '<PAD>', '<PAD>', '<PAD>', '<PAD>', '<PAD>', '<PAD>', '<PAD>']\n",
            "100\n",
            "\n",
            "\n",
            "text    [Rockwell, based, in, El, Segundo, Calif., is,...\n",
            "Name: 4, dtype: object\n",
            "1\n",
            "['vbn', 'cd', 'cc', 'cc', 'cd', 'nn', 'vbz', 'nnp', 'nnp', 'nn', 'jjr', 'in', 'in', 'cd', 'cd', '<PAD>', '<PAD>', '<PAD>', '<PAD>', '<PAD>', '<PAD>', '<PAD>', '<PAD>', '<PAD>', '<PAD>', '<PAD>', '<PAD>', '<PAD>', '<PAD>', '<PAD>', '<PAD>', '<PAD>', '<PAD>', '<PAD>', '<PAD>', '<PAD>', '<PAD>', '<PAD>', '<PAD>', '<PAD>', '<PAD>', '<PAD>', '<PAD>', '<PAD>', '<PAD>', '<PAD>', '<PAD>', '<PAD>', '<PAD>', '<PAD>', '<PAD>', '<PAD>', '<PAD>', '<PAD>', '<PAD>', '<PAD>', '<PAD>', '<PAD>', '<PAD>', '<PAD>', '<PAD>', '<PAD>', '<PAD>', '<PAD>', '<PAD>', '<PAD>', '<PAD>', '<PAD>', '<PAD>', '<PAD>', '<PAD>', '<PAD>', '<PAD>', '<PAD>', '<PAD>', '<PAD>', '<PAD>', '<PAD>', '<PAD>', '<PAD>', '<PAD>', '<PAD>', '<PAD>', '<PAD>', '<PAD>', '<PAD>', '<PAD>', '<PAD>', '<PAD>', '<PAD>', '<PAD>', '<PAD>', '<PAD>', '<PAD>', '<PAD>', '<PAD>', '<PAD>', '<PAD>', '<PAD>', '<PAD>']\n",
            "100\n",
            "\n",
            "\n"
          ]
        }
      ]
    },
    {
      "cell_type": "code",
      "source": [
        "print(len(test_data))\n",
        "print(len(test_data[0]))\n",
        "print(len(sequences))\n",
        "print(len(sequences[0]))\n",
        "print(len(test_X_padded))\n",
        "print(len(test_X_padded[0]))\n",
        "\n",
        "print(len(rnn_output))\n",
        "print(len(rnn_output[0]))\n",
        "print(len(lstm_pred_sequences))\n",
        "print(len(lstm_pred_sequences[0]))"
      ],
      "metadata": {
        "colab": {
          "base_uri": "https://localhost:8080/",
          "height": 0
        },
        "id": "NUaAATbXlkHv",
        "outputId": "0cb4e680-e437-402a-9c2c-2823cbac1f0c"
      },
      "execution_count": 46,
      "outputs": [
        {
          "output_type": "stream",
          "name": "stdout",
          "text": [
            "2012\n",
            "27\n",
            "2012\n",
            "27\n",
            "2012\n",
            "100\n",
            "2012\n",
            "100\n",
            "2012\n",
            "100\n"
          ]
        }
      ]
    },
    {
      "cell_type": "code",
      "source": [
        "gru_output = gru_model.predict(test_X_padded)\n",
        "gru_pred_sequences = []\n",
        "for i in range(len(gru_output)):\n",
        "    pred_tags = [tag_tokenizer.index_word[np.argmax(p)] for p in gru_output[i]]\n",
        "    gru_pred_sequences.append(pred_tags)\n",
        "for i in range(5):\n",
        "  print(test_df.iloc[i])\n",
        "  print(len(test_df.iloc[i]))\n",
        "  print(gru_pred_sequences[i])\n",
        "  print(len(gru_pred_sequences[i]))\n",
        "  print(\"\\n\")"
      ],
      "metadata": {
        "colab": {
          "base_uri": "https://localhost:8080/",
          "height": 0
        },
        "id": "nhO_TEmw-3XN",
        "outputId": "b0929b3e-8493-4eaf-c605-aa8eeffe8c39"
      },
      "execution_count": 47,
      "outputs": [
        {
          "output_type": "stream",
          "name": "stdout",
          "text": [
            "63/63 [==============================] - 1s 5ms/step\n",
            "text    [Rockwell, International, Corp., 's, Tulsa, un...\n",
            "Name: 0, dtype: object\n",
            "1\n",
            "['vbn', 'nn', 'jj', 'pos', 'nnp', 'nnp', 'vbd', 'in', 'in', 'dt', 'dt', 'dt', 'nn', 'vbp', 'nnp', 'in', 'in', 'nnp', 'in', 'nn', 'nn', 'nn', 'in', 'in', 'pos', 'pos', 'nn', 'nn', '<PAD>', '<PAD>', '<PAD>', '<PAD>', '<PAD>', '<PAD>', '<PAD>', '<PAD>', '<PAD>', '<PAD>', '<PAD>', '<PAD>', '<PAD>', '<PAD>', '<PAD>', '<PAD>', '<PAD>', '<PAD>', '<PAD>', '<PAD>', '<PAD>', '<PAD>', '<PAD>', '<PAD>', '<PAD>', '<PAD>', '<PAD>', '<PAD>', '<PAD>', '<PAD>', '<PAD>', '<PAD>', '<PAD>', '<PAD>', '<PAD>', '<PAD>', '<PAD>', '<PAD>', '<PAD>', '<PAD>', '<PAD>', '<PAD>', '<PAD>', '<PAD>', '<PAD>', '<PAD>', '<PAD>', '<PAD>', '<PAD>', '<PAD>', '<PAD>', '<PAD>', '<PAD>', '<PAD>', '<PAD>', '<PAD>', '<PAD>', '<PAD>', '<PAD>', '<PAD>', '<PAD>', '<PAD>', '<PAD>', '<PAD>', '<PAD>', '<PAD>', '<PAD>', '<PAD>', '<PAD>', '<PAD>', '<PAD>', '<PAD>']\n",
            "100\n",
            "\n",
            "\n",
            "text    [Rockwell, said, the, agreement, calls, for, i...\n",
            "Name: 1, dtype: object\n",
            "1\n",
            "['vbn', 'vbd', 'dt', 'dt', 'nn', 'in', 'in', 'in', 'in', 'in', 'nn', 'nn', 'jj', 'in', 'dt', 'dt', 'dt', 'dt', '<PAD>', '<PAD>', '<PAD>', '<PAD>', '<PAD>', '<PAD>', '<PAD>', '<PAD>', '<PAD>', '<PAD>', '<PAD>', '<PAD>', '<PAD>', '<PAD>', '<PAD>', '<PAD>', '<PAD>', '<PAD>', '<PAD>', '<PAD>', '<PAD>', '<PAD>', '<PAD>', '<PAD>', '<PAD>', '<PAD>', '<PAD>', '<PAD>', '<PAD>', '<PAD>', '<PAD>', '<PAD>', '<PAD>', '<PAD>', '<PAD>', '<PAD>', '<PAD>', '<PAD>', '<PAD>', '<PAD>', '<PAD>', '<PAD>', '<PAD>', '<PAD>', '<PAD>', '<PAD>', '<PAD>', '<PAD>', '<PAD>', '<PAD>', '<PAD>', '<PAD>', '<PAD>', '<PAD>', '<PAD>', '<PAD>', '<PAD>', '<PAD>', '<PAD>', '<PAD>', '<PAD>', '<PAD>', '<PAD>', '<PAD>', '<PAD>', '<PAD>', '<PAD>', '<PAD>', '<PAD>', '<PAD>', '<PAD>', '<PAD>', '<PAD>', '<PAD>', '<PAD>', '<PAD>', '<PAD>', '<PAD>', '<PAD>', '<PAD>', '<PAD>', '<PAD>']\n",
            "100\n",
            "\n",
            "\n",
            "text    [These, include, among, other, parts, each, je...\n",
            "Name: 2, dtype: object\n",
            "1\n",
            "['in', 'prp', 'jj', 'in', 'nn', 'vbg', 'nn', 'pos', 'in', 'nn', 'nn', 'dt', 'vbn', 'nnp', 'nnp', 'jj', 'vbd', 'nnp', 'nn', 'in', 'dt', 'dt', 'in', 'nnp', 'nn', 'nnp', 'nns', 'nns', 'nns', '<PAD>', '<PAD>', '<PAD>', '<PAD>', '<PAD>', '<PAD>', '<PAD>', '<PAD>', '<PAD>', '<PAD>', '<PAD>', '<PAD>', '<PAD>', '<PAD>', '<PAD>', '<PAD>', '<PAD>', '<PAD>', '<PAD>', '<PAD>', '<PAD>', '<PAD>', '<PAD>', '<PAD>', '<PAD>', '<PAD>', '<PAD>', '<PAD>', '<PAD>', '<PAD>', '<PAD>', '<PAD>', '<PAD>', '<PAD>', '<PAD>', '<PAD>', '<PAD>', '<PAD>', '<PAD>', '<PAD>', '<PAD>', '<PAD>', '<PAD>', '<PAD>', '<PAD>', '<PAD>', '<PAD>', '<PAD>', '<PAD>', '<PAD>', '<PAD>', '<PAD>', '<PAD>', '<PAD>', '<PAD>', '<PAD>', '<PAD>', '<PAD>', '<PAD>', '<PAD>', '<PAD>', '<PAD>', '<PAD>', '<PAD>', '<PAD>', '<PAD>', '<PAD>', '<PAD>', '<PAD>', '<PAD>', '<PAD>']\n",
            "100\n",
            "\n",
            "\n",
            "text    [Under, the, existing, contract, Rockwell, sai...\n",
            "Name: 3, dtype: object\n",
            "1\n",
            "['rb', 'dt', 'nn', 'nnp', 'nnp', 'vbd', 'in', 'prp$', 'nn', 'nn', 'nn', 'to', 'dt', 'jj', 'in', 'in', '<PAD>', '<PAD>', '<PAD>', '<PAD>', '<PAD>', '<PAD>', '<PAD>', '<PAD>', '<PAD>', '<PAD>', '<PAD>', '<PAD>', '<PAD>', '<PAD>', '<PAD>', '<PAD>', '<PAD>', '<PAD>', '<PAD>', '<PAD>', '<PAD>', '<PAD>', '<PAD>', '<PAD>', '<PAD>', '<PAD>', '<PAD>', '<PAD>', '<PAD>', '<PAD>', '<PAD>', '<PAD>', '<PAD>', '<PAD>', '<PAD>', '<PAD>', '<PAD>', '<PAD>', '<PAD>', '<PAD>', '<PAD>', '<PAD>', '<PAD>', '<PAD>', '<PAD>', '<PAD>', '<PAD>', '<PAD>', '<PAD>', '<PAD>', '<PAD>', '<PAD>', '<PAD>', '<PAD>', '<PAD>', '<PAD>', '<PAD>', '<PAD>', '<PAD>', '<PAD>', '<PAD>', '<PAD>', '<PAD>', '<PAD>', '<PAD>', '<PAD>', '<PAD>', '<PAD>', '<PAD>', '<PAD>', '<PAD>', '<PAD>', '<PAD>', '<PAD>', '<PAD>', '<PAD>', '<PAD>', '<PAD>', '<PAD>', '<PAD>', '<PAD>', '<PAD>', '<PAD>', '<PAD>']\n",
            "100\n",
            "\n",
            "\n",
            "text    [Rockwell, based, in, El, Segundo, Calif., is,...\n",
            "Name: 4, dtype: object\n",
            "1\n",
            "['vbn', 'cd', 'cc', 'cc', 'cd', 'nn', 'vbz', 'nnp', 'nnp', 'nn', 'jj', 'in', 'in', 'cd', '<PAD>', '<PAD>', '<PAD>', '<PAD>', '<PAD>', '<PAD>', '<PAD>', '<PAD>', '<PAD>', '<PAD>', '<PAD>', '<PAD>', '<PAD>', '<PAD>', '<PAD>', '<PAD>', '<PAD>', '<PAD>', '<PAD>', '<PAD>', '<PAD>', '<PAD>', '<PAD>', '<PAD>', '<PAD>', '<PAD>', '<PAD>', '<PAD>', '<PAD>', '<PAD>', '<PAD>', '<PAD>', '<PAD>', '<PAD>', '<PAD>', '<PAD>', '<PAD>', '<PAD>', '<PAD>', '<PAD>', '<PAD>', '<PAD>', '<PAD>', '<PAD>', '<PAD>', '<PAD>', '<PAD>', '<PAD>', '<PAD>', '<PAD>', '<PAD>', '<PAD>', '<PAD>', '<PAD>', '<PAD>', '<PAD>', '<PAD>', '<PAD>', '<PAD>', '<PAD>', '<PAD>', '<PAD>', '<PAD>', '<PAD>', '<PAD>', '<PAD>', '<PAD>', '<PAD>', '<PAD>', '<PAD>', '<PAD>', '<PAD>', '<PAD>', '<PAD>', '<PAD>', '<PAD>', '<PAD>', '<PAD>', '<PAD>', '<PAD>', '<PAD>', '<PAD>', '<PAD>', '<PAD>', '<PAD>', '<PAD>']\n",
            "100\n",
            "\n",
            "\n"
          ]
        }
      ]
    },
    {
      "cell_type": "code",
      "source": [
        "bidirect_output = bidirect_model.predict(test_X_padded)\n",
        "bidirect_pred_sequences = []\n",
        "for i in range(len(bidirect_output)):\n",
        "    pred_tags = [tag_tokenizer.index_word[np.argmax(p)] for p in bidirect_output[i]]\n",
        "    bidirect_pred_sequences.append(pred_tags)\n",
        "for i in range(5):\n",
        "  print(test_df.iloc[i])\n",
        "  print(len(test_df.iloc[i]))\n",
        "  print(bidirect_pred_sequences[i])\n",
        "  print(len(bidirect_pred_sequences[i]))\n",
        "  print(\"\\n\")"
      ],
      "metadata": {
        "colab": {
          "base_uri": "https://localhost:8080/",
          "height": 0
        },
        "id": "JOJLt4ZT_PxD",
        "outputId": "434270dd-9a81-43d9-8076-67fe8d7fdf27"
      },
      "execution_count": 48,
      "outputs": [
        {
          "output_type": "stream",
          "name": "stdout",
          "text": [
            "63/63 [==============================] - 1s 6ms/step\n",
            "text    [Rockwell, International, Corp., 's, Tulsa, un...\n",
            "Name: 0, dtype: object\n",
            "1\n",
            "['vbn', 'nn', 'nn', 'pos', 'nnp', 'vbn', 'vbd', 'in', 'in', 'dt', 'vbz', 'nn', 'nn', 'vbp', 'nnp', 'in', 'in', 'nnp', 'nnp', 'nn', 'nn', 'nn', 'in', 'in', 'pos', 'nn', 'nn', 'nn', 'nn', '<PAD>', '<PAD>', '<PAD>', '<PAD>', '<PAD>', '<PAD>', '<PAD>', '<PAD>', '<PAD>', '<PAD>', '<PAD>', '<PAD>', '<PAD>', '<PAD>', '<PAD>', '<PAD>', '<PAD>', '<PAD>', '<PAD>', '<PAD>', '<PAD>', '<PAD>', '<PAD>', '<PAD>', '<PAD>', '<PAD>', '<PAD>', '<PAD>', '<PAD>', '<PAD>', '<PAD>', '<PAD>', '<PAD>', '<PAD>', '<PAD>', '<PAD>', '<PAD>', '<PAD>', '<PAD>', '<PAD>', '<PAD>', '<PAD>', '<PAD>', '<PAD>', '<PAD>', '<PAD>', '<PAD>', '<PAD>', '<PAD>', '<PAD>', '<PAD>', '<PAD>', '<PAD>', '<PAD>', '<PAD>', '<PAD>', '<PAD>', '<PAD>', '<PAD>', '<PAD>', '<PAD>', '<PAD>', '<PAD>', '<PAD>', '<PAD>', '<PAD>', '<PAD>', '<PAD>', '<PAD>', '<PAD>', '<PAD>']\n",
            "100\n",
            "\n",
            "\n",
            "text    [Rockwell, said, the, agreement, calls, for, i...\n",
            "Name: 1, dtype: object\n",
            "1\n",
            "['vbn', 'vbd', 'dt', 'dt', 'nn', 'in', 'in', 'in', 'in', 'jj', 'nn', 'nn', 'jj', 'in', 'dt', 'dt', 'nns', '<PAD>', '<PAD>', '<PAD>', '<PAD>', '<PAD>', '<PAD>', '<PAD>', '<PAD>', '<PAD>', '<PAD>', '<PAD>', '<PAD>', '<PAD>', '<PAD>', '<PAD>', '<PAD>', '<PAD>', '<PAD>', '<PAD>', '<PAD>', '<PAD>', '<PAD>', '<PAD>', '<PAD>', '<PAD>', '<PAD>', '<PAD>', '<PAD>', '<PAD>', '<PAD>', '<PAD>', '<PAD>', '<PAD>', '<PAD>', '<PAD>', '<PAD>', '<PAD>', '<PAD>', '<PAD>', '<PAD>', '<PAD>', '<PAD>', '<PAD>', '<PAD>', '<PAD>', '<PAD>', '<PAD>', '<PAD>', '<PAD>', '<PAD>', '<PAD>', '<PAD>', '<PAD>', '<PAD>', '<PAD>', '<PAD>', '<PAD>', '<PAD>', '<PAD>', '<PAD>', '<PAD>', '<PAD>', '<PAD>', '<PAD>', '<PAD>', '<PAD>', '<PAD>', '<PAD>', '<PAD>', '<PAD>', '<PAD>', '<PAD>', '<PAD>', '<PAD>', '<PAD>', '<PAD>', '<PAD>', '<PAD>', '<PAD>', '<PAD>', '<PAD>', '<PAD>', '<PAD>']\n",
            "100\n",
            "\n",
            "\n",
            "text    [These, include, among, other, parts, each, je...\n",
            "Name: 2, dtype: object\n",
            "1\n",
            "['in', 'prp', 'jj', 'in', 'in', 'vbg', 'in', 'pos', 'in', 'nn', 'nn', 'dt', 'nn', 'nnp', 'nnp', 'jj', 'vbd', 'nn', 'nn', 'in', 'dt', 'nn', 'in', 'nnp', 'nn', 'nnp', 'nns', '<PAD>', '<PAD>', '<PAD>', '<PAD>', '<PAD>', '<PAD>', '<PAD>', '<PAD>', '<PAD>', '<PAD>', '<PAD>', '<PAD>', '<PAD>', '<PAD>', '<PAD>', '<PAD>', '<PAD>', '<PAD>', '<PAD>', '<PAD>', '<PAD>', '<PAD>', '<PAD>', '<PAD>', '<PAD>', '<PAD>', '<PAD>', '<PAD>', '<PAD>', '<PAD>', '<PAD>', '<PAD>', '<PAD>', '<PAD>', '<PAD>', '<PAD>', '<PAD>', '<PAD>', '<PAD>', '<PAD>', '<PAD>', '<PAD>', '<PAD>', '<PAD>', '<PAD>', '<PAD>', '<PAD>', '<PAD>', '<PAD>', '<PAD>', '<PAD>', '<PAD>', '<PAD>', '<PAD>', '<PAD>', '<PAD>', '<PAD>', '<PAD>', '<PAD>', '<PAD>', '<PAD>', '<PAD>', '<PAD>', '<PAD>', '<PAD>', '<PAD>', '<PAD>', '<PAD>', '<PAD>', '<PAD>', '<PAD>', '<PAD>', '<PAD>']\n",
            "100\n",
            "\n",
            "\n",
            "text    [Under, the, existing, contract, Rockwell, sai...\n",
            "Name: 3, dtype: object\n",
            "1\n",
            "['rb', 'dt', 'nn', 'nn', 'nn', 'vbd', 'in', 'prp$', 'nn', 'nn', 'nn', 'to', 'dt', 'jj', 'in', 'in', '<PAD>', '<PAD>', '<PAD>', '<PAD>', '<PAD>', '<PAD>', '<PAD>', '<PAD>', '<PAD>', '<PAD>', '<PAD>', '<PAD>', '<PAD>', '<PAD>', '<PAD>', '<PAD>', '<PAD>', '<PAD>', '<PAD>', '<PAD>', '<PAD>', '<PAD>', '<PAD>', '<PAD>', '<PAD>', '<PAD>', '<PAD>', '<PAD>', '<PAD>', '<PAD>', '<PAD>', '<PAD>', '<PAD>', '<PAD>', '<PAD>', '<PAD>', '<PAD>', '<PAD>', '<PAD>', '<PAD>', '<PAD>', '<PAD>', '<PAD>', '<PAD>', '<PAD>', '<PAD>', '<PAD>', '<PAD>', '<PAD>', '<PAD>', '<PAD>', '<PAD>', '<PAD>', '<PAD>', '<PAD>', '<PAD>', '<PAD>', '<PAD>', '<PAD>', '<PAD>', '<PAD>', '<PAD>', '<PAD>', '<PAD>', '<PAD>', '<PAD>', '<PAD>', '<PAD>', '<PAD>', '<PAD>', '<PAD>', '<PAD>', '<PAD>', '<PAD>', '<PAD>', '<PAD>', '<PAD>', '<PAD>', '<PAD>', '<PAD>', '<PAD>', '<PAD>', '<PAD>', '<PAD>']\n",
            "100\n",
            "\n",
            "\n",
            "text    [Rockwell, based, in, El, Segundo, Calif., is,...\n",
            "Name: 4, dtype: object\n",
            "1\n",
            "['vbn', 'cd', 'cc', 'cc', 'cd', 'nn', 'vbz', 'nnp', 'nnp', 'nn', 'nn', 'nn', '<PAD>', 'cd', '<PAD>', '<PAD>', '<PAD>', '<PAD>', '<PAD>', '<PAD>', '<PAD>', '<PAD>', '<PAD>', '<PAD>', '<PAD>', '<PAD>', '<PAD>', '<PAD>', '<PAD>', '<PAD>', '<PAD>', '<PAD>', '<PAD>', '<PAD>', '<PAD>', '<PAD>', '<PAD>', '<PAD>', '<PAD>', '<PAD>', '<PAD>', '<PAD>', '<PAD>', '<PAD>', '<PAD>', '<PAD>', '<PAD>', '<PAD>', '<PAD>', '<PAD>', '<PAD>', '<PAD>', '<PAD>', '<PAD>', '<PAD>', '<PAD>', '<PAD>', '<PAD>', '<PAD>', '<PAD>', '<PAD>', '<PAD>', '<PAD>', '<PAD>', '<PAD>', '<PAD>', '<PAD>', '<PAD>', '<PAD>', '<PAD>', '<PAD>', '<PAD>', '<PAD>', '<PAD>', '<PAD>', '<PAD>', '<PAD>', '<PAD>', '<PAD>', '<PAD>', '<PAD>', '<PAD>', '<PAD>', '<PAD>', '<PAD>', '<PAD>', '<PAD>', '<PAD>', '<PAD>', '<PAD>', '<PAD>', '<PAD>', '<PAD>', '<PAD>', '<PAD>', '<PAD>', '<PAD>', '<PAD>', '<PAD>', '<PAD>']\n",
            "100\n",
            "\n",
            "\n"
          ]
        }
      ]
    },
    {
      "cell_type": "markdown",
      "source": [
        "Writing to file"
      ],
      "metadata": {
        "id": "mW8F75GILp-Q"
      }
    },
    {
      "cell_type": "code",
      "source": [
        "nr = len(test_data)\n",
        "with open('/content/drive/MyDrive/dataset/labeled_test_dataset_lstm.txt', 'w') as f:\n",
        "  for i in range(nr):\n",
        "    nc = len(test_data[i])\n",
        "    for j in range(nc):\n",
        "      if test_data[i][j]!=\"<PAD>\":\n",
        "        f.write(str(test_data[i][j])+\" \" + str(lstm_pred_sequences[i][j] ))\n",
        "        f.write(\"\\n\")"
      ],
      "metadata": {
        "id": "ohj1LRlPLfaa"
      },
      "execution_count": 49,
      "outputs": []
    },
    {
      "cell_type": "code",
      "source": [
        "nr = len(test_data)\n",
        "with open('/content/drive/MyDrive/dataset/labeled_test_dataset_rnn.txt', 'w') as f:\n",
        "  for i in range(nr):\n",
        "    nc = len(test_data[i])\n",
        "    for j in range(nc):\n",
        "      if test_data[i][j]!=\"<PAD>\":\n",
        "        f.write(str(test_data[i][j])+\" \" + str(rnn_pred_sequences[i][j] ))\n",
        "        f.write(\"\\n\")"
      ],
      "metadata": {
        "id": "ILeOyl1g_8dj"
      },
      "execution_count": 50,
      "outputs": []
    },
    {
      "cell_type": "code",
      "source": [
        "nr = len(test_data)\n",
        "with open('/content/drive/MyDrive/dataset/labeled_test_dataset_gru.txt', 'w') as f:\n",
        "  for i in range(nr):\n",
        "    nc = len(test_data[i])\n",
        "    for j in range(nc):\n",
        "      if test_data[i][j]!=\"<PAD>\":\n",
        "        f.write(str(test_data[i][j])+\" \" + str(gru_pred_sequences[i][j] ))\n",
        "        f.write(\"\\n\")"
      ],
      "metadata": {
        "id": "LSPcWSUzAAYB"
      },
      "execution_count": 51,
      "outputs": []
    },
    {
      "cell_type": "code",
      "source": [
        "nr = len(test_data)\n",
        "with open('/content/drive/MyDrive/dataset/labeled_test_dataset_bidirect.txt', 'w') as f:\n",
        "  for i in range(nr):\n",
        "    nc = len(test_data[i])\n",
        "    for j in range(nc):\n",
        "      if test_data[i][j]!=\"<PAD>\":\n",
        "        f.write(str(test_data[i][j])+\" \" + str(bidirect_pred_sequences[i][j] ))\n",
        "        f.write(\"\\n\")"
      ],
      "metadata": {
        "id": "tM0gQUpuAD8s"
      },
      "execution_count": 52,
      "outputs": []
    },
    {
      "cell_type": "code",
      "source": [
        "lstm = {}\n",
        "rnn = {}\n",
        "bidirect = {}\n",
        "gru = {}\n",
        "\n",
        "for i in tag_to_id.keys():\n",
        "  lstm[i.lower()] = 0\n",
        "  rnn[i.lower()] = 0\n",
        "  bidirect[i.lower()] = 0\n",
        "  gru[i.lower()] = 0\n",
        "\n",
        "file1 = open('/content/drive/MyDrive/dataset/labeled_test_dataset_lstm.txt', 'r')\n",
        "lines = file1.readlines()\n",
        "\n",
        "for i in lines:\n",
        "  tag = i.split(\" \")[1].strip(\"\\n\")\n",
        "  if tag in lstm.keys():\n",
        "    lstm[tag]+=1\n",
        "\n",
        "\n",
        "file1 = open('/content/drive/MyDrive/dataset/labeled_test_dataset_rnn.txt', 'r')\n",
        "lines = file1.readlines()\n",
        "\n",
        "for i in lines:\n",
        "  tag = i.split(\" \")[1].strip(\"\\n\")\n",
        "  if tag in rnn.keys():\n",
        "    rnn[tag]+=1\n",
        "\n",
        "\n",
        "file1 = open('/content/drive/MyDrive/dataset/labeled_test_dataset_gru.txt', 'r')\n",
        "lines = file1.readlines()\n",
        "\n",
        "for i in lines:\n",
        "  tag = i.split(\" \")[1].strip(\"\\n\")\n",
        "  if tag in gru.keys():\n",
        "    gru[tag]+=1\n",
        "\n",
        "\n",
        "file1 = open('/content/drive/MyDrive/dataset/labeled_test_dataset_bidirect.txt', 'r')\n",
        "lines = file1.readlines()\n",
        "\n",
        "for i in lines:\n",
        "  tag = i.split(\" \")[1].strip(\"\\n\")\n",
        "  if tag in bidirect.keys():\n",
        "    bidirect[tag]+=1\n",
        "\n",
        "    \n",
        "waste = []\n",
        "for i in lstm.keys():\n",
        "  if lstm[i]<100:\n",
        "    waste.append(i)\n",
        "for i in waste:\n",
        "  del lstm[i]\n",
        "  del bidirect[i]\n",
        "  del rnn[i]\n",
        "  del gru[i]\n",
        "\n",
        "print(rnn)\n",
        "print(lstm)\n",
        "print(gru)\n",
        "print(bidirect)"
      ],
      "metadata": {
        "colab": {
          "base_uri": "https://localhost:8080/",
          "height": 0
        },
        "id": "wWSmzSE7OvAa",
        "outputId": "1c9e0439-8f5b-4c78-c4a5-f99549e0d879"
      },
      "execution_count": 70,
      "outputs": [
        {
          "output_type": "stream",
          "name": "stdout",
          "text": [
            "{'nn': 8717, 'in': 6632, 'dt': 4408, 'vbz': 826, 'rb': 1083, 'vbn': 597, 'to': 1384, 'vb': 911, 'jj': 2303, 'nns': 2819, 'nnp': 4206, 'cc': 1462, 'pos': 326, 'vbp': 366, 'vbg': 190, 'prp$': 443, 'cd': 1295, '``': 299, \"''\": 232, 'vbd': 1216, 'md': 390, '$': 319, 'prp': 686, 'jjr': 124, ':': 168}\n",
            "{'nn': 7662, 'in': 6148, 'dt': 4629, 'vbz': 748, 'rb': 1434, 'vbn': 592, 'to': 1189, 'vb': 571, 'jj': 2790, 'nns': 2963, 'nnp': 4416, 'cc': 1423, 'pos': 410, 'vbp': 455, 'vbg': 201, 'prp$': 403, 'cd': 1553, '``': 323, \"''\": 272, 'vbd': 1516, 'md': 429, '$': 376, 'prp': 863, 'jjr': 132, ':': 175}\n",
            "{'nn': 6684, 'in': 6370, 'dt': 4737, 'vbz': 836, 'rb': 1506, 'vbn': 456, 'to': 1385, 'vb': 693, 'jj': 2326, 'nns': 2725, 'nnp': 4435, 'cc': 1614, 'pos': 484, 'vbp': 513, 'vbg': 56, 'prp$': 436, 'cd': 1827, '``': 359, \"''\": 307, 'vbd': 1431, 'md': 429, '$': 418, 'prp': 1016, 'jjr': 127, ':': 156}\n",
            "{'nn': 8269, 'in': 6424, 'dt': 4373, 'vbz': 734, 'rb': 1348, 'vbn': 632, 'to': 1155, 'vb': 545, 'jj': 2633, 'nns': 2617, 'nnp': 4245, 'cc': 1460, 'pos': 387, 'vbp': 456, 'vbg': 214, 'prp$': 399, 'cd': 1499, '``': 312, \"''\": 246, 'vbd': 1334, 'md': 428, '$': 299, 'prp': 752, 'jjr': 170, ':': 141}\n"
          ]
        }
      ]
    },
    {
      "cell_type": "code",
      "source": [
        "plt.rcParams[\"figure.figsize\"] = (15,5)\n",
        "plt.bar(range(len(lstm)), lstm.values(), tick_label=lstm.keys())\n",
        "plt.xticks(range(len(lstm)), list(lstm.keys()))\n",
        "plt.show()"
      ],
      "metadata": {
        "colab": {
          "base_uri": "https://localhost:8080/",
          "height": 322
        },
        "id": "kWsGu6ksRMTH",
        "outputId": "3c191d1b-fc8a-4f24-ce9c-e3caa0278175"
      },
      "execution_count": 76,
      "outputs": [
        {
          "output_type": "display_data",
          "data": {
            "text/plain": [
              "<Figure size 1080x360 with 1 Axes>"
            ],
            "image/png": "[encoded data removed]"
          },
          "metadata": {
            "needs_background": "light"
          }
        }
      ]
    },
    {
      "cell_type": "code",
      "source": [
        "plt.bar(range(len(rnn)), rnn.values(), tick_label=rnn.keys())\n",
        "plt.xticks(range(len(rnn)), list(rnn.keys()))\n",
        "plt.show()"
      ],
      "metadata": {
        "colab": {
          "base_uri": "https://localhost:8080/",
          "height": 320
        },
        "id": "U_vhGmo1UcFZ",
        "outputId": "391e3b1d-06ee-4fca-c943-cb4be9af8cad"
      },
      "execution_count": 78,
      "outputs": [
        {
          "output_type": "display_data",
          "data": {
            "text/plain": [
              "<Figure size 1080x360 with 1 Axes>"
            ],
            "image/png": "[encoded data removed]"
          },
          "metadata": {
            "needs_background": "light"
          }
        }
      ]
    },
    {
      "cell_type": "code",
      "source": [
        "plt.bar(range(len(gru)), gru.values(), tick_label=gru.keys())\n",
        "plt.xticks(range(len(gru)), list(gru.keys()))\n",
        "plt.show()"
      ],
      "metadata": {
        "colab": {
          "base_uri": "https://localhost:8080/",
          "height": 323
        },
        "id": "DUXaKMdrUi0W",
        "outputId": "c7783afc-0c1c-40cf-9dc5-9de11371606d"
      },
      "execution_count": 79,
      "outputs": [
        {
          "output_type": "display_data",
          "data": {
            "text/plain": [
              "<Figure size 1080x360 with 1 Axes>"
            ],
            "image/png": "[encoded data removed]"
          },
          "metadata": {
            "needs_background": "light"
          }
        }
      ]
    },
    {
      "cell_type": "code",
      "source": [
        "plt.bar(range(len(bidirect)), bidirect.values(), tick_label=bidirect.keys())\n",
        "plt.xticks(range(len(bidirect)), list(bidirect.keys()))\n",
        "plt.show()"
      ],
      "metadata": {
        "colab": {
          "base_uri": "https://localhost:8080/",
          "height": 320
        },
        "id": "uxufqUBuUpGL",
        "outputId": "402a6fe5-77f4-43e1-9905-55477e99636a"
      },
      "execution_count": 80,
      "outputs": [
        {
          "output_type": "display_data",
          "data": {
            "text/plain": [
              "<Figure size 1080x360 with 1 Axes>"
            ],
            "image/png": "[encoded data removed]"
          },
          "metadata": {
            "needs_background": "light"
          }
        }
      ]
    },
    {
      "cell_type": "code",
      "source": [
        "X = np.arange(len(lstm))\n",
        "ax = plt.subplot(111)\n",
        "\n",
        "ax.bar(X, lstm.values(), width=0.2, color='b', align='center')\n",
        "ax.bar(X-0.2, rnn.values(), width=0.2, color='g', align='center')\n",
        "ax.bar(X-0.4, gru.values(), width=0.2, color='r', align='center')\n",
        "ax.bar(X-0.6, bidirect.values(), width=0.2, color='y', align='center')\n",
        "\n",
        "ax.legend(('lstm','rnn','gru','bidirect'))\n",
        "plt.xticks(X, lstm.keys())\n",
        "plt.title(\"POS Tags Distribution\", fontsize=17)\n",
        "plt.show()"
      ],
      "metadata": {
        "colab": {
          "base_uri": "https://localhost:8080/",
          "height": 340
        },
        "id": "I7V_cy1qVPv_",
        "outputId": "3ccd594b-45e5-4d46-c707-10c0f9b5b5cf"
      },
      "execution_count": 84,
      "outputs": [
        {
          "output_type": "display_data",
          "data": {
            "text/plain": [
              "<Figure size 1080x360 with 1 Axes>"
            ],
            "image/png": "[encoded data removed]"
          },
          "metadata": {
            "needs_background": "light"
          }
        }
      ]
    }
  ]
}